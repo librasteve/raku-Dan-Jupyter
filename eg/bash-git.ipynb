{
 "cells": [
  {
   "cell_type": "code",
   "execution_count": 3,
   "id": "b8c640a2",
   "metadata": {},
   "outputs": [
    {
     "name": "stdout",
     "output_type": "stream",
     "text": [
      "/home/jovyan\n",
      "eg\n",
      "raku-Dan-Jupyter\n",
      "work\n"
     ]
    }
   ],
   "source": [
    "%%bash\n",
    "cd ~\n",
    "pwd\n",
    "ls\n",
    "cd ~/raku-Dan-Jupyter"
   ]
  },
  {
   "cell_type": "code",
   "execution_count": 4,
   "id": "75441cc1",
   "metadata": {},
   "outputs": [
    {
     "name": "stdout",
     "output_type": "stream",
     "text": [
      "On branch master\n",
      "Your branch is up to date with 'origin/master'.\n",
      "\n",
      "nothing to commit, working tree clean\n"
     ]
    }
   ],
   "source": [
    "%%bash\n",
    "cd ~/raku-Dan-Jupyter\n",
    "git status"
   ]
  },
  {
   "cell_type": "code",
   "execution_count": 5,
   "id": "6f0c0d21",
   "metadata": {},
   "outputs": [
    {
     "name": "stdout",
     "output_type": "stream",
     "text": [
      "DD-dan-to-seaborn.ipynb\n",
      "DD-done.json\n",
      "DD-raku-dan.ipynb\n",
      "DD-raku-dan-pandas.ipynb\n",
      "DD-raku-dan-typed.ipynb\n",
      "DemographicData.csv\n",
      "synopsis-dan-pandas.ipynb\n"
     ]
    }
   ],
   "source": [
    "%%bash\n",
    "cd ~/raku-Dan-Jupyter\n",
    "c\n",
    "cd eg\n",
    "ls"
   ]
  },
  {
   "cell_type": "code",
   "execution_count": null,
   "id": "62aabeda",
   "metadata": {},
   "outputs": [],
   "source": []
  }
 ],
 "metadata": {
  "kernelspec": {
   "display_name": "Python 3 (ipykernel)",
   "language": "python",
   "name": "python3"
  },
  "language_info": {
   "codemirror_mode": {
    "name": "ipython",
    "version": 3
   },
   "file_extension": ".py",
   "mimetype": "text/x-python",
   "name": "python",
   "nbconvert_exporter": "python",
   "pygments_lexer": "ipython3",
   "version": "3.9.10"
  }
 },
 "nbformat": 4,
 "nbformat_minor": 5
}
