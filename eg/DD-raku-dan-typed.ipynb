{
 "cells": [
  {
   "cell_type": "code",
   "execution_count": 1,
   "id": "eb7339c0",
   "metadata": {},
   "outputs": [],
   "source": [
    "use Dan :ALL;\n",
    "use Text::CSV;"
   ]
  },
  {
   "cell_type": "code",
   "execution_count": 2,
   "id": "c8cd4353",
   "metadata": {},
   "outputs": [
    {
     "data": {
      "text/plain": [
       "    Country Name          Country Code  Birth rate  Internet users  Income Group        \n",
       " 0  Aruba                 ABW           10.244      78.9            High income         \n",
       " 1  Afghanistan           AFG           35.253      5.9             Low income          \n",
       " 2  Angola                AGO           45.985      19.1            Upper middle income \n",
       " 3  Albania               ALB           12.877      57.2            Upper middle income \n",
       " 4  United Arab Emirates  ARE           11.044      88              High income         \n",
       " 5  Argentina             ARG           17.716      59.9            High income         "
      ]
     },
     "execution_count": 2,
     "metadata": {},
     "output_type": "execute_result"
    }
   ],
   "source": [
    "my @lines = csv( in => 'DemographicData.csv' );\n",
    "\n",
    "my \\stats = DataFrame.new( columns => @lines[0], data => @lines[1..*-1] );\n",
    "~stats[0..5]^;         # head"
   ]
  },
  {
   "cell_type": "markdown",
   "id": "e91558db",
   "metadata": {},
   "source": [
    "Now I have my data loaded, I want to clean it up prior to analyzing. Step 1 is to relabel the columns."
   ]
  },
  {
   "cell_type": "code",
   "execution_count": 12,
   "id": "549d0285",
   "metadata": {},
   "outputs": [
    {
     "data": {
      "text/plain": [
       "{BirthRate => 2, CountryCode => 1, CountryName => 0, IncomeGroup => 4, InternetUsers => 3}"
      ]
     },
     "execution_count": 12,
     "metadata": {},
     "output_type": "execute_result"
    }
   ],
   "source": [
    "# columns is a Hash (you can make one with Zip & Pair operators and a Range, like this...)\n",
    "\n",
    "stats.columns = <CountryName CountryCode BirthRate InternetUsers IncomeGroup> Z=> 0..∞;"
   ]
  },
  {
   "cell_type": "code",
   "execution_count": 13,
   "id": "f687f4bc",
   "metadata": {},
   "outputs": [
    {
     "data": {
      "text/plain": [
       "CountryName => Str\n",
       "CountryCode => Str\n",
       "BirthRate => Str\n",
       "InternetUsers => Str\n",
       "IncomeGroup => Str"
      ]
     },
     "execution_count": 13,
     "metadata": {},
     "output_type": "execute_result"
    }
   ],
   "source": [
    "stats.dtypes;"
   ]
  },
  {
   "cell_type": "markdown",
   "id": "396803e8",
   "metadata": {},
   "source": [
    "Oh shoot, it's a bunch of Strings - why didn't the numbers in BirthRate and InternetUsers show up as numbers with type (Int) or (Num)?\n",
    "\n",
    "Well in raku you have control - the default is to store text as, well text (Str)s - you can still go ahead and use Str types as numbers in raku - they are coerced when the math operation is performed."
   ]
  },
  {
   "cell_type": "code",
   "execution_count": 14,
   "id": "24e920af",
   "metadata": {},
   "outputs": [
    {
     "data": {
      "text/plain": [
       "4186.636"
      ]
     },
     "execution_count": 14,
     "metadata": {},
     "output_type": "execute_result"
    }
   ],
   "source": [
    "# here the [+] reduce operation sums all the BirthRates - just works even though the operands are type Str:\n",
    "[+] stats[*]<BirthRate>"
   ]
  },
  {
   "cell_type": "markdown",
   "id": "c2e3e813",
   "metadata": {},
   "source": [
    "No types may be fine for you - it keeps the original format, avoids unnecessary parsing and \"just works\"!\n",
    "\n",
    "BUT - you don't want to get to a point down the road - perhaps after you have sent your results to a colleague - when one of your data entries will not convert due to a transposition error (something like '26λ4' maybe). Also, your machine may be more efficient in storing or processing a number representation.\n",
    "\n",
    "SO - how can you check the Type of your data when you collect it and coerce it into line?\n",
    "\n",
    "Step 2 is to cleanse the data by coercing the (Str) values to (Rat)s. (If you didn't hear abour Rats before, then you will be amazed at the richness of raku's [numeric](https://docs.raku.org/language/numerics) Types)"
   ]
  },
  {
   "cell_type": "code",
   "execution_count": 16,
   "id": "dc9ae439",
   "metadata": {},
   "outputs": [
    {
     "data": {
      "text/plain": [
       "(Rat)"
      ]
     },
     "execution_count": 16,
     "metadata": {},
     "output_type": "execute_result"
    }
   ],
   "source": [
    "# here we use the .Rat method on each data element in cols 2,3 to coerce it to a Rat:\n",
    "\n",
    "stats.data[*;2,3].map({$_.=Rat});\n",
    "stats[*][2].are;"
   ]
  },
  {
   "cell_type": "markdown",
   "id": "6acd9408",
   "metadata": {},
   "source": [
    "So that's cool, raku is gradually typed, so I can use Types where and when I need them but otherwise they stay out of the way.\n",
    "\n",
    "Here's how to control raku Dan Types so that they are used to enforce behaviours and constraints on the data as it is loaded into a typed DataFrame:"
   ]
  },
  {
   "cell_type": "code",
   "execution_count": 17,
   "id": "673b85a0",
   "metadata": {},
   "outputs": [
    {
     "data": {
      "text/plain": [
       "(DemoDataFrame)"
      ]
     },
     "execution_count": 17,
     "metadata": {},
     "output_type": "execute_result"
    }
   ],
   "source": [
    "# first define the types of my Series with some custom types:\n",
    "\n",
    "subset RatSeries of Series where .data.are ~~ Rat;\n",
    "subset StrSeries of Series where .data.are ~~ Str;\n",
    "\n",
    "# then make a DataFrame custom type that checks all the cols:\n",
    "\n",
    "subset DemoDataFrame of DataFrame where {\n",
    "    .[*]<CountryName>   ~~ StrSeries &&\n",
    "    .[*]<CountryCode>   ~~ StrSeries &&\n",
    "    .[*]<BirthRate>     ~~ RatSeries &&\n",
    "    .[*]<InternetUsers> ~~ RatSeries &&\n",
    "    .[*]<IncomeGroup>   ~~ StrSeries\n",
    "}\n",
    "\n",
    "#`[ alternative form if you are not worried about the col label:\n",
    "subset DemoDataFrame of DataFrame where {\n",
    "    .[*][0] ~~ StrSeries &&\n",
    "    .[*][1] ~~ StrSeries &&\n",
    "    .[*][2] ~~ RatSeries &&\n",
    "    .[*][3] ~~ RatSeries &&\n",
    "    .[*][4] ~~ StrSeries\n",
    "}\n",
    "#]"
   ]
  },
  {
   "cell_type": "code",
   "execution_count": 18,
   "id": "c74d09b6",
   "metadata": {},
   "outputs": [
    {
     "data": {
      "text/plain": [
       "Dan::DataFrame"
      ]
     },
     "execution_count": 18,
     "metadata": {},
     "output_type": "execute_result"
    }
   ],
   "source": [
    "# now you can use the custom type to control what goes in a variable:\n",
    "\n",
    "my DemoDataFrame $ddf = stats;\n",
    "$ddf.^name;"
   ]
  },
  {
   "cell_type": "code",
   "execution_count": 19,
   "id": "e49679c4",
   "metadata": {},
   "outputs": [
    {
     "name": "stdout",
     "output_type": "stream",
     "text": [
      "CountryName => Str\n",
      "CountryCode => Str\n",
      "BirthRate => Rat\n",
      "InternetUsers => Rat\n",
      "IncomeGroup => Str\n"
     ]
    }
   ],
   "source": [
    "# or try this as a function signature:\n",
    "\n",
    "sub print-dft( DemoDataFrame:D $x ) {\n",
    "    say $x.dtypes\n",
    "}\n",
    "\n",
    "print-dft($ddf);"
   ]
  },
  {
   "cell_type": "code",
   "execution_count": null,
   "id": "07b10df9",
   "metadata": {},
   "outputs": [],
   "source": []
  }
 ],
 "metadata": {
  "kernelspec": {
   "display_name": "Raku",
   "language": "raku",
   "name": "raku"
  },
  "language_info": {
   "file_extension": ".raku",
   "mimetype": "text/plain",
   "name": "raku",
   "version": "6.d"
  }
 },
 "nbformat": 4,
 "nbformat_minor": 5
}
