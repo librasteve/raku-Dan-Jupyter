{
 "cells": [
  {
   "cell_type": "code",
   "execution_count": 1,
   "id": "eb7339c0",
   "metadata": {},
   "outputs": [],
   "source": [
    "# takes ~20sec\n",
    "use Dan :ALL;\n",
    "use Text::CSV;"
   ]
  },
  {
   "cell_type": "code",
   "execution_count": 2,
   "id": "c8cd4353",
   "metadata": {},
   "outputs": [
    {
     "data": {
      "text/plain": [
       "    Country Name          Country Code  Birth rate  Internet users  Income Group        \n",
       " 0  Aruba                 ABW           10.244      78.9            High income         \n",
       " 1  Afghanistan           AFG           35.253      5.9             Low income          \n",
       " 2  Angola                AGO           45.985      19.1            Upper middle income \n",
       " 3  Albania               ALB           12.877      57.2            Upper middle income \n",
       " 4  United Arab Emirates  ARE           11.044      88              High income         \n",
       " 5  Argentina             ARG           17.716      59.9            High income         "
      ]
     },
     "execution_count": 2,
     "metadata": {},
     "output_type": "execute_result"
    }
   ],
   "source": [
    "my @lines = csv( in => 'DemographicData.csv' );\n",
    "\n",
    "my \\stats = DataFrame.new( columns => @lines[0], data => @lines[1..*-1] );\n",
    "~stats[0..5]^;         # head"
   ]
  },
  {
   "cell_type": "markdown",
   "id": "e91558db",
   "metadata": {},
   "source": [
    "Now I have my data loaded, I want to clean it up prior to analyzing. Step 1 is to relabel the columns."
   ]
  },
  {
   "cell_type": "code",
   "execution_count": 3,
   "id": "549d0285",
   "metadata": {},
   "outputs": [
    {
     "data": {
      "text/plain": [
       "{BirthRate => 2, CountryCode => 1, CountryName => 0, IncomeGroup => 4, InternetUsers => 3}"
      ]
     },
     "execution_count": 3,
     "metadata": {},
     "output_type": "execute_result"
    }
   ],
   "source": [
    "# columns is a Hash (you can make one with Zip & Pair operators and a Range, like this...)\n",
    "\n",
    "stats.columns = <CountryName CountryCode BirthRate InternetUsers IncomeGroup> Z=> 0..∞;"
   ]
  },
  {
   "cell_type": "code",
   "execution_count": 4,
   "id": "f687f4bc",
   "metadata": {},
   "outputs": [
    {
     "data": {
      "text/plain": [
       "CountryName => Str\n",
       "CountryCode => Str\n",
       "BirthRate => Str\n",
       "InternetUsers => Str\n",
       "IncomeGroup => Str"
      ]
     },
     "execution_count": 4,
     "metadata": {},
     "output_type": "execute_result"
    }
   ],
   "source": [
    "stats.dtypes;"
   ]
  },
  {
   "cell_type": "markdown",
   "id": "396803e8",
   "metadata": {},
   "source": [
    "Oh shoot, it's a bunch of Strings - why didn't the numbers in BirthRate and InternetUsers show up as numbers with type (Int) or (Num)?\n",
    "\n",
    "Well in raku you have control - the default is to store text as, well text (Str)s - you can still go ahead and use Str types as numbers in raku - they are coerced when the math operation is performed."
   ]
  },
  {
   "cell_type": "code",
   "execution_count": 5,
   "id": "24e920af",
   "metadata": {},
   "outputs": [
    {
     "data": {
      "text/plain": [
       "4186.636"
      ]
     },
     "execution_count": 5,
     "metadata": {},
     "output_type": "execute_result"
    }
   ],
   "source": [
    "# here the [+] reduce operation sums all the BirthRates - just works even though the operands are type Str:\n",
    "[+] stats[*]<BirthRate>"
   ]
  },
  {
   "cell_type": "markdown",
   "id": "c2e3e813",
   "metadata": {},
   "source": [
    "No types may be fine for you - it keeps the original format, avoids unnecessary parsing and \"just works\"!\n",
    "\n",
    "BUT - you don't want to get to a point down the road - perhaps after you have sent your results to a colleague - when one of your data entries will not convert due to a transposition error (something like '26λ4' maybe). Also, your machine may be more efficient in storing or processing a number representation.\n",
    "\n",
    "SO - how can you check the Type of your data when you collect it and coerce it into line?\n",
    "\n",
    "Step 2 is to cleanse the data by coercing the (Str) values to (Rat)s. (If you didn't hear abour Rats before, then you will be amazed at the richness of raku's [numeric](https://docs.raku.org/language/numerics) Types)"
   ]
  },
  {
   "cell_type": "code",
   "execution_count": 6,
   "id": "dc9ae439",
   "metadata": {},
   "outputs": [
    {
     "data": {
      "text/plain": [
       "(Rat)"
      ]
     },
     "execution_count": 6,
     "metadata": {},
     "output_type": "execute_result"
    }
   ],
   "source": [
    "# here we use the .Rat method on each data element in cols 2,3 to coerce it to a Rat:\n",
    "\n",
    "stats.data[*;2,3].map({$_.=Rat});\n",
    "stats[*][2].are;"
   ]
  },
  {
   "cell_type": "markdown",
   "id": "6acd9408",
   "metadata": {},
   "source": [
    "So that's cool, raku is gradually typed, so I can use Types where and when I need them but otherwise they stay out of the way.\n",
    "\n",
    "Here's how to control raku Dan Types so that they are used to enforce behaviours and constraints on the data as it is loaded into a typed DataFrame:"
   ]
  },
  {
   "cell_type": "code",
   "execution_count": 8,
   "id": "13b72857-ce66-4795-98be-4ed0e3760e5c",
   "metadata": {},
   "outputs": [
    {
     "data": {
      "text/plain": [
       "Redeclaration of symbol 'RatSeries'."
      ]
     },
     "execution_count": 8,
     "metadata": {},
     "output_type": "execute_result"
    }
   ],
   "source": [
    "# first define the some Typed Series classes:\n",
    "\n",
    "class RatSeries {\n",
    "    has Series $.series handles *;\n",
    "\n",
    "    method TWEAK { \n",
    "        given $.data {\n",
    "            unless ( .all ~~ Rat ) { \n",
    "                die \"Data fails to meet {$.self.^name} constraint.\" \n",
    "            }   \n",
    "        }   \n",
    "    }   \n",
    "}\n",
    "my $rse = RatSeries.new(series => stats[*]<BirthRate>);\n",
    "\n",
    "class StrSeries {\n",
    "    has Series $.series handles *;\n",
    "\n",
    "    method TWEAK { \n",
    "        given $.data {\n",
    "            unless ( .all ~~ Str ) { \n",
    "                die \"Data fails to meet {$.self.^name} constraint.\" \n",
    "            }   \n",
    "        }   \n",
    "    }   \n",
    "}\n",
    "my $sse = StrSeries.new(series => stats[*]<CountryName>);\n",
    "$sse ~~ StrSeries;"
   ]
  },
  {
   "cell_type": "markdown",
   "id": "efddd4ea-463f-4eb0-bdda-27bae880d981",
   "metadata": {},
   "source": [
    "Then make a DataFrame custom type that checks all the cols:"
   ]
  },
  {
   "cell_type": "code",
   "execution_count": 9,
   "id": "64b56819-85e5-46b7-89a9-ec91ace6f595",
   "metadata": {},
   "outputs": [
    {
     "data": {
      "text/plain": [
       "True"
      ]
     },
     "execution_count": 9,
     "metadata": {},
     "output_type": "execute_result"
    }
   ],
   "source": [
    "class DemoDataFrame {\n",
    "    has DataFrame $.dataframe handles *;\n",
    "\n",
    "    method TWEAK {\n",
    "        unless ( 1\n",
    "            && StrSeries.new(series => self.dataframe[*]<CountryName>)\n",
    "            && StrSeries.new(series => self.dataframe[*]<CountryCode>)\n",
    "            && RatSeries.new(series => self.dataframe[*]<BirthRate>)\n",
    "            && RatSeries.new(series => self.dataframe[*]<InternetUsers>)\n",
    "            && StrSeries.new(series => self.dataframe[*]<IncomeGroup>)\n",
    "        ) {\n",
    "            die \"Data fails to meet {$.self.^name} constraint.\"\n",
    "        }\n",
    "    }\n",
    "}\n",
    "\n",
    "# now you can use the custom type to control what goes in a variable:\n",
    "my DemoDataFrame $ddf .= new(dataframe => stats);\n",
    "$ddf ~~ DemoDataFrame;"
   ]
  },
  {
   "cell_type": "code",
   "execution_count": 11,
   "id": "e49679c4",
   "metadata": {},
   "outputs": [
    {
     "name": "stdout",
     "output_type": "stream",
     "text": [
      "CountryName => Str\n",
      "CountryCode => Str\n",
      "BirthRate => Rat\n",
      "InternetUsers => Rat\n",
      "IncomeGroup => Str\n"
     ]
    }
   ],
   "source": [
    "# or try this as a function signature:\n",
    "\n",
    "sub print-ddf( DemoDataFrame $x ) {\n",
    "    say $x.dtypes\n",
    "}\n",
    "\n",
    "print-ddf($ddf);"
   ]
  },
  {
   "cell_type": "code",
   "execution_count": null,
   "id": "07b10df9",
   "metadata": {},
   "outputs": [],
   "source": []
  }
 ],
 "metadata": {
  "kernelspec": {
   "display_name": "Raku",
   "language": "raku",
   "name": "raku"
  },
  "language_info": {
   "file_extension": ".raku",
   "mimetype": "text/plain",
   "name": "raku",
   "version": "6.d"
  }
 },
 "nbformat": 4,
 "nbformat_minor": 5
}
