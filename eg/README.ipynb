{
 "cells": [
  {
   "cell_type": "markdown",
   "metadata": {},
   "source": [
    "There is currently a small bug with Jupyter [documented here](https://github.com/bduggan/p6-jupyter-kernel/issues/94)\n",
    "\n",
    "The quick fix is on the first code cell of your notebook, Run the cell, then when it is running ```[*]``` click the Stop button above and you will get a message like ```[got sigint on thread 10]```. Then just Run the cell again and all is good.\n",
    "\n",
    "If the cell duplicates the results, pleasejust ignore."
   ]
  },
  {
   "cell_type": "code",
   "execution_count": 1,
   "metadata": {},
   "outputs": [
    {
     "name": "stdout",
     "output_type": "stream",
     "text": [
      "Run me to fix this binder session\n"
     ]
    }
   ],
   "source": [
    "say \"Run me to fix this binder session\";"
   ]
  },
  {
   "cell_type": "markdown",
   "metadata": {},
   "source": [
    "When ready, click File > Open ... and open, run and edit any of the notebooks."
   ]
  }
 ],
 "metadata": {
  "kernelspec": {
   "display_name": "Raku",
   "language": "raku",
   "name": "raku"
  },
  "language_info": {
   "file_extension": ".p6",
   "mimetype": "text/plain",
   "name": "raku",
   "version": "6.d"
  }
 },
 "nbformat": 4,
 "nbformat_minor": 4
}
