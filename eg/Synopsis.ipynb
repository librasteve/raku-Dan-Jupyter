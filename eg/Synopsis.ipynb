{
 "cells": [
  {
   "cell_type": "code",
   "execution_count": null,
   "metadata": {},
   "outputs": [],
   "source": [
    "use Physics::Unit;\n",
    "use Physics::Measure;\n",
    "\n",
    "#SYNOPSIS\n",
    "\n",
    "#Unit objects can be selected or created with GetUnit:\n",
    "    my Unit   $u  = GetUnit( 'm' );\n",
    "# Define your own unit named \"ff\" (named args)\n",
    "    my $ff = Unit.new( defn => 'furlong / fortnight', names => ['ff'] );\n",
    "\n",
    "#Measure objects such as Length can be formally constructed:\n",
    "    my Length $a .=new(value => 1e4, units => $u);  say \"$a\";       #10000 m\n",
    "\n",
    "#The libra operator ♎️ is a handy way to construct objects...\n",
    "    my $b ♎️ '5e1 m';                               say \"$b\";       #50 m\n",
    "    my $c ♎️ $a;                                    say \"$c\";       #10000 m\n",
    "    my Length $l ♎️ 42;                             say \"$l\";       #42 m\n",
    "#...and to assign objects a value:\n",
    "    $a ♎️ 3e1;          #'30 m'\n",
    "    $a ♎️ '3 yards';    #'3 yards'\n",
    "    $a ♎️ 5;            #'5 yards'\n",
    "#...there is an ASCII version of <♎️> namely <libra> \n",
    "\n",
    "#To see what you have\n",
    "    say $a.Real;        #50   or use $a in Real context (Real includes Int|Rat|Num etc)\n",
    "    say $a.Str;         #50 m or use $a in Str context\n",
    "    say \"$a\";           #50 m"
   ]
  },
  {
   "cell_type": "code",
   "execution_count": null,
   "metadata": {},
   "outputs": [],
   "source": [
    "#The usual arithmetic operators < + - * / > and () brackets just work\n",
    "#i.e. units and magnitudes are checked, calculated and errors are calculated automatically    \n",
    "    $a ♎️ '4.3 m';      #'4.3 m'  \n",
    "    $b ♎️ -2.3;         #'-2.3 m'\n",
    "    $c = $a + $b;       #'2 m'\n",
    "    $c = $a + '42 m';   #'46.3 m'\n",
    "    $c = $b - $a;       #'-6.6 m'\n",
    "    $c = '1 m' - $a;    #'-3.3 m'  \n",
    "#Division like for like produces a Real value such as a Rat \n",
    "    my Real $r = $a / $b; #'-1.869565'\n",
    "#Multiply with & Divide by a Real imply a constant factor...\n",
    "    $c = $b * 30;       #'-69 m'\n",
    "\n",
    "say \"$c\";"
   ]
  },
  {
   "cell_type": "code",
   "execution_count": null,
   "metadata": {},
   "outputs": [],
   "source": [
    "#The Measure of Time has a raku Duration - i.e. the difference between two DateTime Instants:\n",
    "    my $i1 = DateTime.now;\n",
    "    my $i2 = DateTime.new( '2020-08-10T14:15:27.26Z' );\n",
    "    my $i3 = DateTime.new( '2020-08-10T14:15:37.26Z' );\n",
    "    my Duration $dur = $i3-$i2;\n",
    "\n",
    "#Here's how to us the libra assignment operator ♎️ for Time...\n",
    "    my Time $t1 ♎️ '5e1 s';     #50 s\n",
    "    my Time $t2 ♎️ $dur;        #10 s\n",
    "    my $t3 = $t1 + $t2;         #60 s\n",
    "    my Time $t4 ♎️ '2 hours';   #2 hr\n",
    "    $dur = $t4.Duration;        #7200\n",
    "\n",
    "say \"$t4\";"
   ]
  },
  {
   "cell_type": "code",
   "execution_count": null,
   "metadata": {},
   "outputs": [],
   "source": [
    "#Unit Conversion uses the .in() method - specify the new units as a String\n",
    "    my Length $df ♎️ '12.0 feet';\n",
    "    my $dm = $df.in( 'm' );             #3.658 m\n",
    "       $dm = $df.in: <m> ;              #alternate form\n",
    "    my Temperature $deg-c ♎️ '39 ºC';\n",
    "    my $deg-k = $deg-c.in( 'K' );       #312.15 K\n",
    "    my $deg-cr = $deg-k.in( 'ºC' );     #39 ºC\n",
    "    \n",
    "say \"$deg-k and $deg-cr are the same\";"
   ]
  },
  {
   "cell_type": "code",
   "execution_count": null,
   "metadata": {},
   "outputs": [],
   "source": [
    "#Use arithmetic to get high order or inverse Unit types such as Area, Volume, Frequency, etc.\n",
    "    my Area       $x = $a * $a;         #18.49 m^2\n",
    "    my Speed      $s = $a / $t2;        #0.43 m/s\n",
    "    my Frequency  $f = 1  / $t2;        #0.1 Hz\n",
    "\n",
    "say \"$f\";\n"
   ]
  },
  {
   "cell_type": "code",
   "execution_count": null,
   "metadata": {},
   "outputs": [],
   "source": [
    "#Use powers & roots in a similar way\n",
    "    my Volume     $v = $a ** 3;         #79.507 m^3\n",
    "    my Length     $d = $v ** <1/3>;     #0.43 m\n",
    "    \n",
    "say \"$v\";"
   ]
  },
  {
   "cell_type": "code",
   "execution_count": null,
   "metadata": {},
   "outputs": [],
   "source": [
    "#About 230 built in units are included, for example...\n",
    "    my $v2 ♎️ '7 yards^3';              #7 yard^3       (Volume)\n",
    "    my $v3 = $v2.in( 'm3' );            #5.352 m^3      (Volume)\n",
    "    my $dsdt = $s / $t1;                #0.009 m/s^2    (Acceleration)\n",
    "    my $sm ♎️ '70 mph';                 #70 mph         (Speed)\n",
    "    my $fo ♎️ '27 kg m / s^2';          #27 N           (Force)\n",
    "    my $en1 ♎️ '26 kg m^2 / s^2';       #26 J           (Energy)\n",
    "    my $po ♎️ '25 kg m^2 / s^3';        #25 W           (Power)\n",
    "    my $en2 = $po * $t1;                #1250 J         (Energy)\n",
    "\n",
    "say $po.pretty; #Si recommended format"
   ]
  },
  {
   "cell_type": "code",
   "execution_count": null,
   "metadata": {},
   "outputs": [],
   "source": [
    "#Measures can be converted to base type with the .rebase() method\n",
    "    my $v4 = $v3.rebase;                #5.352 m^3\n",
    "#Measures can be compared with $a cmp $b\n",
    "    my $af = $a.in: 'feet';             #4.3 m => 14.108 feet\n",
    "    say $af cmp $a;                     #Same\n",
    "#Measures can be tested for equality with Numeric ==,!=\n",
    "    say $af == $a;                      #True\n",
    "    say $af != $a;                      #False\n",
    "#Use string equality eq,ne to distinguish different units with same type\n",
    "    say $af eq $a;                      #False\n",
    "    say $af ne $a;                      #True\n",
    "\n",
    "#Colloquial terms or unicode superscripts can be used for powers in unitname declarations\n",
    "    #square, sq, squared, cubic, cubed\n",
    "    #x¹ x² x³ x⁴ and x⁻¹ x⁻² x⁻³ x⁻⁴"
   ]
  },
  {
   "cell_type": "code",
   "execution_count": null,
   "metadata": {},
   "outputs": [],
   "source": []
  }
 ],
 "metadata": {
  "kernelspec": {
   "display_name": "Raku",
   "language": "raku",
   "name": "raku"
  },
  "language_info": {
   "file_extension": ".p6",
   "mimetype": "text/plain",
   "name": "raku",
   "version": "6.d"
  }
 },
 "nbformat": 4,
 "nbformat_minor": 4
}
