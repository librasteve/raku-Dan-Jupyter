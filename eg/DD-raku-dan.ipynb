{
 "cells": [
  {
   "cell_type": "code",
   "execution_count": 1,
   "id": "eb7339c0",
   "metadata": {},
   "outputs": [],
   "source": [
    "use Dan :ALL;"
   ]
  },
  {
   "cell_type": "code",
   "execution_count": 2,
   "id": "c8cd4353",
   "metadata": {},
   "outputs": [
    {
     "data": {
      "text/plain": [
       "    Country Name          Country Code  Birth rate  Internet users  Income Group        \n",
       " 0  Aruba                 ABW           10.244      78.9            High income         \n",
       " 1  Afghanistan           AFG           35.253      5.9             Low income          \n",
       " 2  Angola                AGO           45.985      19.1            Upper middle income \n",
       " 3  Albania               ALB           12.877      57.2            Upper middle income \n",
       " 4  United Arab Emirates  ARE           11.044      88              High income         \n",
       " 5  Argentina             ARG           17.716      59.9            High income         "
      ]
     },
     "execution_count": 2,
     "metadata": {},
     "output_type": "execute_result"
    }
   ],
   "source": [
    "# Read .csv file (Text::CSV)\n",
    "\n",
    "use Text::CSV;\n",
    "my @lines  = csv( in => 'DemographicData.csv' );\n",
    "\n",
    "my \\stats = DataFrame.new( columns => @lines[0], data => @lines[1..*-1] );\n",
    "~stats[0..5]^;      # head"
   ]
  },
  {
   "cell_type": "markdown",
   "id": "2d0533b5",
   "metadata": {},
   "source": [
    "These two read csv options illustrate how the close relationship between raku code, modules and Dan objects makes it easy for programmers to unpack what is going on and to step in. \n",
    "\n",
    "What if you encounter non-standard character \"noise\" in input files, or non-standard quoting constructs? ... just write your own csv Regex - or even a whole Grammar! Also note the use of the << $_ >> which turns a Str into an [Allomorph](https://docs.raku.org/syntax/%3C%3C%20%3E%3E) such as IntStr, RatStr, NumStr...\n",
    "\n",
    "What if you want RFC4180 compliance or unicode separators or unusual eol markers? ... then the comprehensive raku [Text::CSV](https://github.com/Tux/CSV) module is for you."
   ]
  },
  {
   "cell_type": "code",
   "execution_count": 3,
   "id": "c86452bf",
   "metadata": {},
   "outputs": [
    {
     "data": {
      "text/plain": [
       "    Country Name          Country Code  Birth rate  Internet users  Income Group        \n",
       " 0  Aruba                 ABW           10.244      78.9            High income         \n",
       " 1  Afghanistan           AFG           35.253      5.9             Low income          \n",
       " 2  Angola                AGO           45.985      19.1            Upper middle income \n",
       " 3  Albania               ALB           12.877      57.2            Upper middle income \n",
       " 4  United Arab Emirates  ARE           11.044      88              High income         \n",
       " 5  Argentina             ARG           17.716      59.9            High income         "
      ]
     },
     "execution_count": 3,
     "metadata": {},
     "output_type": "execute_result"
    }
   ],
   "source": [
    "# Read .csv file (Regex)\n",
    "\n",
    "#| comb match anything except \" and , -or- take a quoted string\n",
    "my Regex \\csv = rx/ <-[\",]>+ | <[\"]> ~ <[\"]>  <-[\"]>+ /;\n",
    "\n",
    "my @lines   = 'DemographicData.csv'.IO.lines;\n",
    "\n",
    "my @columns = @lines.shift.comb( csv );\n",
    "my @data    = @lines.map(*.comb( csv ).map({<< $_ >>}).Array);\n",
    "\n",
    "my \\stats2   = DataFrame.new( :@columns, :@data );\n",
    "~stats2[0..5]^;      # head"
   ]
  },
  {
   "cell_type": "code",
   "execution_count": 4,
   "id": "e735b272",
   "metadata": {},
   "outputs": [
    {
     "data": {
      "text/plain": [
       "      Country Name      Country Code  Birth rate  Internet users  Income Group        \n",
       " 190  Yemen, Rep.       YEM           32.947      20              Lower middle income \n",
       " 191  South Africa      ZAF           20.85       46.5            Upper middle income \n",
       " 192  Congo, Dem. Rep.  COD           42.394      2.2             Low income          \n",
       " 193  Zambia            ZMB           40.471      15.4            Lower middle income \n",
       " 194  Zimbabwe          ZWE           35.715      18.5            Low income          "
      ]
     },
     "execution_count": 4,
     "metadata": {},
     "output_type": "execute_result"
    }
   ],
   "source": [
    "# '~' makes a Str, '^' makes a DataFrame from rows\n",
    "\n",
    "~stats[*-5..*-1]^;    # tail"
   ]
  },
  {
   "cell_type": "code",
   "execution_count": 5,
   "id": "544a7247",
   "metadata": {},
   "outputs": [
    {
     "data": {
      "text/plain": [
       "(195 5)"
      ]
     },
     "execution_count": 5,
     "metadata": {},
     "output_type": "execute_result"
    }
   ],
   "source": [
    "stats.shape;"
   ]
  },
  {
   "cell_type": "code",
   "execution_count": 6,
   "id": "0c88477c",
   "metadata": {},
   "outputs": [
    {
     "data": {
      "text/plain": [
       "195"
      ]
     },
     "execution_count": 6,
     "metadata": {},
     "output_type": "execute_result"
    }
   ],
   "source": [
    "stats.elems;"
   ]
  },
  {
   "cell_type": "code",
   "execution_count": 7,
   "id": "2ede5f6f",
   "metadata": {},
   "outputs": [
    {
     "data": {
      "text/plain": [
       "5"
      ]
     },
     "execution_count": 7,
     "metadata": {},
     "output_type": "execute_result"
    }
   ],
   "source": [
    "stats.columns.elems;  "
   ]
  },
  {
   "cell_type": "code",
   "execution_count": 8,
   "id": "549d0285",
   "metadata": {},
   "outputs": [
    {
     "name": "stdout",
     "output_type": "stream",
     "text": [
      "{BirthRate => 2, CountryCode => 1, CountryName => 0, IncomeGroup => 4, InternetUsers => 3}\n",
      "(CountryName CountryCode BirthRate InternetUsers IncomeGroup)\n"
     ]
    }
   ],
   "source": [
    "stats.columns = <CountryName CountryCode BirthRate InternetUsers IncomeGroup> Z=> 0..∞;\n",
    "say stats.columns;     #Hash (unordered)\n",
    "say stats.cx;          #Seq    (ordered)"
   ]
  },
  {
   "cell_type": "code",
   "execution_count": 9,
   "id": "1f19ea81",
   "metadata": {},
   "outputs": [
    {
     "data": {
      "text/plain": [
       "CountryName => Str\n",
       "CountryCode => Str\n",
       "BirthRate => Str\n",
       "InternetUsers => Str\n",
       "IncomeGroup => Str"
      ]
     },
     "execution_count": 9,
     "metadata": {},
     "output_type": "execute_result"
    }
   ],
   "source": [
    "# raku Dan stores the original data types & converts on the fly (hmmm)\n",
    "stats.dtypes;"
   ]
  },
  {
   "cell_type": "code",
   "execution_count": 11,
   "id": "078a451a",
   "metadata": {},
   "outputs": [
    {
     "data": {
      "text/plain": [
       "Cannot convert string to number: base-10 number must begin with valid digits or '.' in '\u001b[32m⏏\u001b[31mAruba\u001b[0m' (indicated by ⏏\u001b[0m)"
      ]
     },
     "execution_count": 11,
     "metadata": {},
     "output_type": "execute_result"
    }
   ],
   "source": [
    "stats.describe;      #FIXME"
   ]
  },
  {
   "cell_type": "code",
   "execution_count": 12,
   "id": "cc5bb030",
   "metadata": {},
   "outputs": [
    {
     "data": {
      "text/plain": [
       "    CountryName           BirthRate \n",
       " 0  Aruba                 10.244    \n",
       " 1  Afghanistan           35.253    \n",
       " 2  Angola                45.985    \n",
       " 3  Albania               12.877    \n",
       " 4  United Arab Emirates  11.044    \n",
       " 5  Argentina             17.716    "
      ]
     },
     "execution_count": 12,
     "metadata": {},
     "output_type": "execute_result"
    }
   ],
   "source": [
    "~stats[0..5]<CountryName BirthRate>;"
   ]
  },
  {
   "cell_type": "code",
   "execution_count": 13,
   "id": "da563f19",
   "metadata": {},
   "outputs": [
    {
     "data": {
      "text/plain": [
       "      CountryName            CountryCode  BirthRate  InternetUsers  IncomeGroup         \n",
       " 185  Virgin Islands (U.S.)  VIR          10.7       45.3           High income         \n",
       " 186  Vietnam                VNM          15.537     43.9           Lower middle income \n",
       " 187  Vanuatu                VUT          26.739     11.3           Lower middle income \n",
       " 188  West Bank and Gaza     PSE          30.394     46.6           Lower middle income \n",
       " 189  Samoa                  WSM          26.172     15.3           Lower middle income \n",
       " 190  Yemen, Rep.            YEM          32.947     20             Lower middle income \n",
       " 191  South Africa           ZAF          20.85      46.5           Upper middle income \n",
       " 192  Congo, Dem. Rep.       COD          42.394     2.2            Low income          \n",
       " 193  Zambia                 ZMB          40.471     15.4           Lower middle income \n",
       " 194  Zimbabwe               ZWE          35.715     18.5           Low income          "
      ]
     },
     "execution_count": 13,
     "metadata": {},
     "output_type": "execute_result"
    }
   ],
   "source": [
    "~stats[185..*-1]^;       # Range operator (start .. end)"
   ]
  },
  {
   "cell_type": "code",
   "execution_count": 14,
   "id": "ab357e67",
   "metadata": {},
   "outputs": [
    {
     "data": {
      "text/plain": [
       "     CountryName          CountryCode  BirthRate  InternetUsers  IncomeGroup         \n",
       " 10  Azerbaijan           AZE          18.3       58.7           Upper middle income \n",
       " 9   Austria              AUT          9.4        80.6188        High income         \n",
       " 8   Australia            AUS          13.2       83             High income         \n",
       " 7   Antigua and Barbuda  ATG          16.447     63.4           High income         \n",
       " 6   Armenia              ARM          13.308     41.9           Lower middle income \n",
       " 5   Argentina            ARG          17.716     59.9           High income         "
      ]
     },
     "execution_count": 14,
     "metadata": {},
     "output_type": "execute_result"
    }
   ],
   "source": [
    "#Reverse order\n",
    "~stats[10,*-1...5]^;     # Sequence operator (start,operation ... end)"
   ]
  },
  {
   "cell_type": "code",
   "execution_count": 15,
   "id": "bb2eefc3",
   "metadata": {},
   "outputs": [
    {
     "data": {
      "text/plain": [
       "      CountryName  CountryCode  BirthRate  InternetUsers  IncomeGroup         \n",
       " 0    Aruba        ABW          10.244     78.9           High income         \n",
       " 20   Belarus      BLR          12.5       54.17          Upper middle income \n",
       " 40   Costa Rica   CRI          15.022     45.96          Upper middle income \n",
       " 60   Gabon        GAB          30.555     9.2            Upper middle income \n",
       " 80   India        IND          20.291     15.1           Lower middle income \n",
       " 100  Libya        LBY          21.425     16.5           Upper middle income \n",
       " 120  Mozambique   MOZ          39.705     5.4            Low income          \n",
       " 140  Poland       POL          9.6        62.8492        High income         \n",
       " 160  Suriname     SUR          18.455     37.4           Upper middle income \n",
       " 180  Uruguay      URY          14.374     57.69          High income         "
      ]
     },
     "execution_count": 15,
     "metadata": {},
     "output_type": "execute_result"
    }
   ],
   "source": [
    "#Every 20th item\n",
    "~stats[0,20...stats.elems]^;"
   ]
  },
  {
   "cell_type": "code",
   "execution_count": 16,
   "id": "4b22d256",
   "metadata": {},
   "outputs": [
    {
     "data": {
      "text/plain": [
       "    CountryName           CountryCode  BirthRate  InternetUsers  IncomeGroup          MyCalc    \n",
       " 0  Aruba                 ABW          10.244     78.9           High income          808.2516  \n",
       " 1  Afghanistan           AFG          35.253     5.9            Low income           207.9927  \n",
       " 2  Angola                AGO          45.985     19.1           Upper middle income  878.3135  \n",
       " 3  Albania               ALB          12.877     57.2           Upper middle income  736.5644  \n",
       " 4  United Arab Emirates  ARE          11.044     88             High income          971.872   \n",
       " 5  Argentina             ARG          17.716     59.9           High income          1061.1884 "
      ]
     },
     "execution_count": 16,
     "metadata": {},
     "output_type": "execute_result"
    }
   ],
   "source": [
    "my $calcs = Series.new( stats[*]<BirthRate> >>*<< stats[*]<InternetUsers> );\n",
    "\n",
    "stats.splice( :ax, *, *, [MyCalc => $calcs] );\n",
    "\n",
    "~stats[0..5]^;"
   ]
  },
  {
   "cell_type": "code",
   "execution_count": 17,
   "id": "a793dba2",
   "metadata": {},
   "outputs": [
    {
     "data": {
      "text/plain": [
       "()"
      ]
     },
     "execution_count": 17,
     "metadata": {},
     "output_type": "execute_result"
    }
   ],
   "source": [
    "#FIXME make .grep no :\"in place\""
   ]
  },
  {
   "cell_type": "code",
   "execution_count": null,
   "id": "adfbcc95",
   "metadata": {},
   "outputs": [],
   "source": []
  }
 ],
 "metadata": {
  "kernelspec": {
   "display_name": "Raku",
   "language": "raku",
   "name": "raku"
  },
  "language_info": {
   "file_extension": ".raku",
   "mimetype": "text/plain",
   "name": "raku",
   "version": "6.d"
  }
 },
 "nbformat": 4,
 "nbformat_minor": 5
}
