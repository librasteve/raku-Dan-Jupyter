{
 "cells": [
  {
   "cell_type": "code",
   "execution_count": 1,
   "id": "eb7339c0",
   "metadata": {},
   "outputs": [],
   "source": [
    "use Dan :ALL;"
   ]
  },
  {
   "cell_type": "markdown",
   "id": "ad26e225",
   "metadata": {},
   "source": [
    "While the next box is soon to be superseded by a .read_csv( 'filename' ) method, I plan to leave it here as an example of how the close relationship between raku code and Dan objects make it easy for programmers to unpack what is going on and to step in. What if you encounter unicode \"noise\" in input files, or non-standard quoting constructs? ... just write your own csv Regex - or a whole Grammar!\n",
    "\n",
    "Also note the use of the << $_ >> which turns a Str into an [Allomorph](https://docs.raku.org/syntax/%3C%3C%20%3E%3E) such as IntStr, RatStr, NumStr..."
   ]
  },
  {
   "cell_type": "code",
   "execution_count": 2,
   "id": "c86452bf",
   "metadata": {},
   "outputs": [
    {
     "data": {
      "text/plain": [
       "    Country Name          Country Code  Birth rate  Internet users  Income Group        \n",
       " 0  Aruba                 ABW           10.244      78.9            High income         \n",
       " 1  Afghanistan           AFG           35.253      5.9             Low income          \n",
       " 2  Angola                AGO           45.985      19.1            Upper middle income \n",
       " 3  Albania               ALB           12.877      57.2            Upper middle income \n",
       " 4  United Arab Emirates  ARE           11.044      88              High income         \n",
       " 5  Argentina             ARG           17.716      59.9            High income         "
      ]
     },
     "execution_count": 2,
     "metadata": {},
     "output_type": "execute_result"
    }
   ],
   "source": [
    "# Read .csv file (long option)\n",
    "\n",
    "#  comb match anything except \" and , or take a quoted string\n",
    "my Regex \\csv = rx/ <-[\",]>+ | <[\"]> ~ <[\"]>  <-[\"]>+ /;\n",
    "\n",
    "my @lines   = 'DemographicData.csv'.IO.lines;\n",
    "\n",
    "my @columns = @lines.shift.comb( csv );\n",
    "my @data    = @lines.map(*.comb( csv ).map({<< $_ >>}).Array);\n",
    "\n",
    "my \\stats   = DataFrame.new( :@columns, :@data );\n",
    "\n",
    "~stats[0..5]^      # .head"
   ]
  },
  {
   "cell_type": "code",
   "execution_count": 3,
   "id": "03f9bfd9",
   "metadata": {},
   "outputs": [
    {
     "data": {
      "text/plain": [
       "      Country Name        Country Code  Birth rate  Internet users  Income Group        \n",
       " 190  \"Yemen, Rep.\"       YEM           32.947      20              Lower middle income \n",
       " 191  South Africa        ZAF           20.85       46.5            Upper middle income \n",
       " 192  \"Congo, Dem. Rep.\"  COD           42.394      2.2             Low income          \n",
       " 193  Zambia              ZMB           40.471      15.4            Lower middle income \n",
       " 194  Zimbabwe            ZWE           35.715      18.5            Low income          "
      ]
     },
     "execution_count": 3,
     "metadata": {},
     "output_type": "execute_result"
    }
   ],
   "source": [
    "~stats[*-5..*-1]^    # .tail\n",
    "\n",
    "# the '~' coerces to a Str, the '^' takes an Array of DataSlices and makes a DataFrame extract"
   ]
  },
  {
   "cell_type": "code",
   "execution_count": 4,
   "id": "68e90092",
   "metadata": {},
   "outputs": [
    {
     "data": {
      "text/plain": [
       "(195 5)"
      ]
     },
     "execution_count": 4,
     "metadata": {},
     "output_type": "execute_result"
    }
   ],
   "source": [
    "stats.shape"
   ]
  },
  {
   "cell_type": "code",
   "execution_count": 5,
   "id": "92ed252c",
   "metadata": {},
   "outputs": [
    {
     "data": {
      "text/plain": [
       "195"
      ]
     },
     "execution_count": 5,
     "metadata": {},
     "output_type": "execute_result"
    }
   ],
   "source": [
    "stats.elems"
   ]
  },
  {
   "cell_type": "code",
   "execution_count": 6,
   "id": "6c6caf60",
   "metadata": {},
   "outputs": [
    {
     "data": {
      "text/plain": [
       "5"
      ]
     },
     "execution_count": 6,
     "metadata": {},
     "output_type": "execute_result"
    }
   ],
   "source": [
    "+stats.columns    \n",
    "\n",
    "# the '+' coerces to a number (in this case stats.columns.elems)"
   ]
  },
  {
   "cell_type": "code",
   "execution_count": 7,
   "id": "0c59d575",
   "metadata": {},
   "outputs": [
    {
     "data": {
      "text/plain": [
       "Cannot mix other dtypes with Str!"
      ]
     },
     "execution_count": 7,
     "metadata": {},
     "output_type": "execute_result"
    }
   ],
   "source": [
    "stats.dtypes        #FIXME"
   ]
  },
  {
   "cell_type": "code",
   "execution_count": 8,
   "id": "0c15ed7c",
   "metadata": {},
   "outputs": [
    {
     "data": {
      "text/plain": [
       "Cannot mix other dtypes with Str!"
      ]
     },
     "execution_count": 8,
     "metadata": {},
     "output_type": "execute_result"
    }
   ],
   "source": [
    "stats.describe      #FIXME"
   ]
  },
  {
   "cell_type": "code",
   "execution_count": 9,
   "id": "e036fa56",
   "metadata": {},
   "outputs": [
    {
     "data": {
      "text/plain": [
       "    CountryName  CountryCode  BirthRate  InternetUsers  IncomeGroup         \n",
       " 0  Aruba        ABW          10.244     78.9           High income         \n",
       " 1  Afghanistan  AFG          35.253     5.9            Low income          \n",
       " 2  Angola       AGO          45.985     19.1           Upper middle income "
      ]
     },
     "execution_count": 9,
     "metadata": {},
     "output_type": "execute_result"
    }
   ],
   "source": [
    "stats.columns = <CountryName CountryCode BirthRate InternetUsers IncomeGroup> Z=> 0..∞;\n",
    "~stats[0..2]^"
   ]
  },
  {
   "cell_type": "code",
   "execution_count": 10,
   "id": "d23e32ec",
   "metadata": {},
   "outputs": [
    {
     "data": {
      "text/plain": [
       "    CountryName           BirthRate \n",
       " 0  Aruba                 10.244    \n",
       " 1  Afghanistan           35.253    \n",
       " 2  Angola                45.985    \n",
       " 3  Albania               12.877    \n",
       " 4  United Arab Emirates  11.044    "
      ]
     },
     "execution_count": 10,
     "metadata": {},
     "output_type": "execute_result"
    }
   ],
   "source": [
    "~stats[0..^5]<CountryName BirthRate>    # cat's ears ^..^ mean \"not including\""
   ]
  },
  {
   "cell_type": "code",
   "execution_count": 11,
   "id": "f10e3219",
   "metadata": {},
   "outputs": [
    {
     "data": {
      "text/plain": [
       "      CountryName            CountryCode  BirthRate  InternetUsers  IncomeGroup         \n",
       " 185  Virgin Islands (U.S.)  VIR          10.7       45.3           High income         \n",
       " 186  Vietnam                VNM          15.537     43.9           Lower middle income \n",
       " 187  Vanuatu                VUT          26.739     11.3           Lower middle income \n",
       " 188  West Bank and Gaza     PSE          30.394     46.6           Lower middle income \n",
       " 189  Samoa                  WSM          26.172     15.3           Lower middle income \n",
       " 190  \"Yemen, Rep.\"          YEM          32.947     20             Lower middle income \n",
       " 191  South Africa           ZAF          20.85      46.5           Upper middle income \n",
       " 192  \"Congo, Dem. Rep.\"     COD          42.394     2.2            Low income          \n",
       " 193  Zambia                 ZMB          40.471     15.4           Lower middle income \n",
       " 194  Zimbabwe               ZWE          35.715     18.5           Low income          "
      ]
     },
     "execution_count": 11,
     "metadata": {},
     "output_type": "execute_result"
    }
   ],
   "source": [
    "~stats[185..*-1]^"
   ]
  },
  {
   "cell_type": "code",
   "execution_count": 12,
   "id": "9ae2e535",
   "metadata": {},
   "outputs": [
    {
     "data": {
      "text/plain": [
       "     CountryName          CountryCode  BirthRate  InternetUsers  IncomeGroup         \n",
       " 10  Azerbaijan           AZE          18.3       58.7           Upper middle income \n",
       " 9   Austria              AUT          9.4        80.6188        High income         \n",
       " 8   Australia            AUS          13.2       83             High income         \n",
       " 7   Antigua and Barbuda  ATG          16.447     63.4           High income         \n",
       " 6   Armenia              ARM          13.308     41.9           Lower middle income \n",
       " 5   Argentina            ARG          17.716     59.9           High income         "
      ]
     },
     "execution_count": 12,
     "metadata": {},
     "output_type": "execute_result"
    }
   ],
   "source": [
    "#Reverse the dataframe\n",
    "~stats[10,*-1...5]^"
   ]
  },
  {
   "cell_type": "code",
   "execution_count": 24,
   "id": "148809b5",
   "metadata": {},
   "outputs": [
    {
     "data": {
      "text/plain": [
       "      CountryName  CountryCode  BirthRate  InternetUsers  IncomeGroup         \n",
       " 0    Aruba        ABW          10.244     78.9           High income         \n",
       " 20   Belarus      BLR          12.5       54.17          Upper middle income \n",
       " 40   Costa Rica   CRI          15.022     45.96          Upper middle income \n",
       " 60   Gabon        GAB          30.555     9.2            Upper middle income \n",
       " 80   India        IND          20.291     15.1           Lower middle income \n",
       " 100  Libya        LBY          21.425     16.5           Upper middle income \n",
       " 120  Mozambique   MOZ          39.705     5.4            Low income          \n",
       " 140  Poland       POL          9.6        62.8492        High income         \n",
       " 160  Suriname     SUR          18.455     37.4           Upper middle income \n",
       " 180  Uruguay      URY          14.374     57.69          High income         "
      ]
     },
     "execution_count": 24,
     "metadata": {},
     "output_type": "execute_result"
    }
   ],
   "source": [
    "#Every 20th item\n",
    "~stats[0,20...stats.elems]^\n",
    "\n",
    "#~stats[0,20...*]^             #Cannot .elems a lazy list onto a Array  FIXME"
   ]
  },
  {
   "cell_type": "code",
   "execution_count": 25,
   "id": "143b68d3",
   "metadata": {},
   "outputs": [
    {
     "data": {
      "text/plain": [
       "Rat"
      ]
     },
     "execution_count": 25,
     "metadata": {},
     "output_type": "execute_result"
    }
   ],
   "source": [
    "my $calcs = Series.new( stats[*]<BirthRate> >>*<< stats[*]<InternetUsers> );\n",
    "$calcs.dtype"
   ]
  },
  {
   "cell_type": "code",
   "execution_count": 29,
   "id": "05da7be9",
   "metadata": {},
   "outputs": [
    {
     "data": {
      "text/plain": [
       "Cannot mix other dtypes with Str!"
      ]
     },
     "execution_count": 29,
     "metadata": {},
     "output_type": "execute_result"
    }
   ],
   "source": [
    "stats.splice( :ax, *, *, [MyCalc => $calcs] );   #FIXME Cannot mix other dtypes with Str!\n",
    "~stats[0..5]^"
   ]
  },
  {
   "cell_type": "code",
   "execution_count": null,
   "id": "64eed51c",
   "metadata": {},
   "outputs": [],
   "source": [
    "#FIXME make .grep no :\"in place\""
   ]
  }
 ],
 "metadata": {
  "kernelspec": {
   "display_name": "Raku",
   "language": "raku",
   "name": "raku"
  },
  "language_info": {
   "file_extension": ".raku",
   "mimetype": "text/plain",
   "name": "raku",
   "version": "6.d"
  }
 },
 "nbformat": 4,
 "nbformat_minor": 5
}
