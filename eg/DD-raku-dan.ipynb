{
 "cells": [
  {
   "cell_type": "code",
   "execution_count": 1,
   "id": "eb7339c0",
   "metadata": {},
   "outputs": [
    {
     "data": {
      "text/plain": [
       "\u001b[31m===\u001b[0mSORRY!\u001b[31m===\u001b[0m Error while compiling /home/jovyan/eg/site#sources/240DFEFA5E9599844EDB88F24FA112D995D9C2DA (Dan)\n",
       "Attribute $!dtype not declared in role Dan::Series\n",
       "at /home/jovyan/eg/site#sources/240DFEFA5E9599844EDB88F24FA112D995D9C2DA (Dan):261\n",
       "------> \u001b[32m}\u001b[33m⏏\u001b[31m<EOL>\u001b[0m\n"
      ]
     },
     "execution_count": 1,
     "metadata": {},
     "output_type": "execute_result"
    }
   ],
   "source": [
    "use Dan :ALL;"
   ]
  },
  {
   "cell_type": "code",
   "execution_count": 2,
   "id": "c8cd4353",
   "metadata": {},
   "outputs": [
    {
     "data": {
      "text/plain": [
       "Missing required term after infix"
      ]
     },
     "execution_count": 2,
     "metadata": {},
     "output_type": "execute_result"
    }
   ],
   "source": [
    "# Read .csv file (Text::CSV)\n",
    "\n",
    "use Text::CSV;\n",
    "my @lines  = csv( in => 'DemographicData.csv' );\n",
    "\n",
    "my \\stats = DataFrame.new( columns => @lines[0], data => @lines[1..*-1] );\n",
    "~stats[0..5]^;      # head"
   ]
  },
  {
   "cell_type": "code",
   "execution_count": 3,
   "id": "c86452bf",
   "metadata": {},
   "outputs": [
    {
     "data": {
      "text/plain": [
       "Missing required term after infix"
      ]
     },
     "execution_count": 3,
     "metadata": {},
     "output_type": "execute_result"
    }
   ],
   "source": [
    "# Read .csv file (Regex)\n",
    "\n",
    "#| comb match anything except \" and , -or- take a quoted string\n",
    "my Regex \\csv = rx/ <-[\",]>+ | <[\"]> ~ <[\"]>  <-[\"]>+ /;\n",
    "\n",
    "my @lines   = 'DemographicData.csv'.IO.lines;\n",
    "\n",
    "my @columns = @lines.shift.comb( csv );\n",
    "my @data    = @lines.map(*.comb( csv ).map({<< $_ >>}).Array);\n",
    "\n",
    "my \\stats2   = DataFrame.new( :@columns, :@data );\n",
    "\n",
    "~stats2[0..5]^;      # .head"
   ]
  },
  {
   "cell_type": "markdown",
   "id": "2d0533b5",
   "metadata": {},
   "source": [
    "These two read csv options illustrate how the close relationship between raku code, modules and Dan objects makes it easy for programmers to unpack what is going on and to step in. \n",
    "\n",
    "What if you encounter non-standard character \"noise\" in input files, or non-standard quoting constructs? ... just write your own csv Regex - or even a whole Grammar! \n",
    "\n",
    "What if you want RFC4180 compliance or unicode separators or unusual eol markers? ... then the comprehensive raku [Text::CSV](https://github.com/Tux/CSV) module is for you.\n",
    "\n",
    "Also note the use of the << $_ >> which turns a Str into an [Allomorph](https://docs.raku.org/syntax/%3C%3C%20%3E%3E) such as IntStr, RatStr, NumStr..."
   ]
  },
  {
   "cell_type": "code",
   "execution_count": 4,
   "id": "e735b272",
   "metadata": {},
   "outputs": [
    {
     "data": {
      "text/plain": [
       "Missing required term after infix"
      ]
     },
     "execution_count": 4,
     "metadata": {},
     "output_type": "execute_result"
    }
   ],
   "source": [
    "~stats[*-5..*-1]^;    # tail\n",
    "\n",
    "# '~' makes a Str, '^' makes a DataFrame from rows"
   ]
  },
  {
   "cell_type": "code",
   "execution_count": 5,
   "id": "544a7247",
   "metadata": {},
   "outputs": [
    {
     "data": {
      "text/plain": [
       "Undeclared routine:\n",
       "    stats used at line 2\n"
      ]
     },
     "execution_count": 5,
     "metadata": {},
     "output_type": "execute_result"
    }
   ],
   "source": [
    "stats.shape;"
   ]
  },
  {
   "cell_type": "code",
   "execution_count": 6,
   "id": "0c88477c",
   "metadata": {},
   "outputs": [
    {
     "data": {
      "text/plain": [
       "Undeclared routine:\n",
       "    stats used at line 2\n"
      ]
     },
     "execution_count": 6,
     "metadata": {},
     "output_type": "execute_result"
    }
   ],
   "source": [
    "stats.elems;"
   ]
  },
  {
   "cell_type": "code",
   "execution_count": 7,
   "id": "2ede5f6f",
   "metadata": {},
   "outputs": [
    {
     "data": {
      "text/plain": [
       "Undeclared routine:\n",
       "    stats used at line 2\n"
      ]
     },
     "execution_count": 7,
     "metadata": {},
     "output_type": "execute_result"
    }
   ],
   "source": [
    "stats.columns.elems;  "
   ]
  },
  {
   "cell_type": "code",
   "execution_count": 8,
   "id": "1f19ea81",
   "metadata": {},
   "outputs": [
    {
     "data": {
      "text/plain": [
       "Undeclared routine:\n",
       "    stats used at line 2\n"
      ]
     },
     "execution_count": 8,
     "metadata": {},
     "output_type": "execute_result"
    }
   ],
   "source": [
    "stats.dtypes;"
   ]
  },
  {
   "cell_type": "markdown",
   "id": "707894d2",
   "metadata": {},
   "source": [
    "NB. When \"random\" text data comes from eg. a csv file each cell is typed as an allomorph such as IntStr or RatStr ... since Birth rate and Internet users are a mix of these two types, they are characterised as Str as this is the common type."
   ]
  },
  {
   "cell_type": "code",
   "execution_count": 9,
   "id": "078a451a",
   "metadata": {},
   "outputs": [
    {
     "data": {
      "text/plain": [
       "Undeclared routine:\n",
       "    stats used at line 2\n"
      ]
     },
     "execution_count": 9,
     "metadata": {},
     "output_type": "execute_result"
    }
   ],
   "source": [
    "stats.describe;      #FIXME"
   ]
  },
  {
   "cell_type": "code",
   "execution_count": 10,
   "id": "549d0285",
   "metadata": {},
   "outputs": [
    {
     "data": {
      "text/plain": [
       "Undeclared routine:\n",
       "    stats used at lines 2, 3, 4\n"
      ]
     },
     "execution_count": 10,
     "metadata": {},
     "output_type": "execute_result"
    }
   ],
   "source": [
    "stats.columns = <CountryName CountryCode BirthRate InternetUsers IncomeGroup> Z=> 0..∞;\n",
    "say stats.columns;     #Hash (unordered)\n",
    "say stats.cx;          #Seq    (ordered)"
   ]
  },
  {
   "cell_type": "code",
   "execution_count": 11,
   "id": "cc5bb030",
   "metadata": {},
   "outputs": [
    {
     "data": {
      "text/plain": [
       "Undeclared routine:\n",
       "    stats used at line 2\n"
      ]
     },
     "execution_count": 11,
     "metadata": {},
     "output_type": "execute_result"
    }
   ],
   "source": [
    "~stats[0..5]<CountryName BirthRate>;"
   ]
  },
  {
   "cell_type": "code",
   "execution_count": 12,
   "id": "da563f19",
   "metadata": {},
   "outputs": [
    {
     "data": {
      "text/plain": [
       "Missing required term after infix"
      ]
     },
     "execution_count": 12,
     "metadata": {},
     "output_type": "execute_result"
    }
   ],
   "source": [
    "~stats[185..*-1]^;       # Range operator (start .. end)"
   ]
  },
  {
   "cell_type": "code",
   "execution_count": 13,
   "id": "ab357e67",
   "metadata": {},
   "outputs": [
    {
     "data": {
      "text/plain": [
       "Missing required term after infix"
      ]
     },
     "execution_count": 13,
     "metadata": {},
     "output_type": "execute_result"
    }
   ],
   "source": [
    "#Reverse order\n",
    "~stats[10,*-1...5]^;     # Sequence operator (start,operation ... end)"
   ]
  },
  {
   "cell_type": "code",
   "execution_count": 14,
   "id": "bb2eefc3",
   "metadata": {},
   "outputs": [
    {
     "data": {
      "text/plain": [
       "Missing required term after infix"
      ]
     },
     "execution_count": 14,
     "metadata": {},
     "output_type": "execute_result"
    }
   ],
   "source": [
    "#Every 20th item\n",
    "~stats[0,20...stats.elems]^;"
   ]
  },
  {
   "cell_type": "code",
   "execution_count": 15,
   "id": "663fff91",
   "metadata": {},
   "outputs": [
    {
     "data": {
      "text/plain": [
       "Undeclared name:\n",
       "    Series used at line 2\n",
       "Undeclared routine:\n",
       "    stats used at line 2\n"
      ]
     },
     "execution_count": 15,
     "metadata": {},
     "output_type": "execute_result"
    }
   ],
   "source": [
    "my $calcs = Series.new( stats[*]<BirthRate> >>*<< stats[*]<InternetUsers> );\n",
    "$calcs.^name;"
   ]
  },
  {
   "cell_type": "code",
   "execution_count": 16,
   "id": "4b22d256",
   "metadata": {},
   "outputs": [
    {
     "data": {
      "text/plain": [
       "Variable '$calcs' is not declared"
      ]
     },
     "execution_count": 16,
     "metadata": {},
     "output_type": "execute_result"
    }
   ],
   "source": [
    "stats.splice( :ax, *, *, [MyCalc => $calcs] );   #FIXME Cannot mix other dtypes with Str!\n",
    "~stats[0..5]^;"
   ]
  },
  {
   "cell_type": "code",
   "execution_count": 17,
   "id": "a793dba2",
   "metadata": {},
   "outputs": [
    {
     "data": {
      "text/plain": [
       "()"
      ]
     },
     "execution_count": 17,
     "metadata": {},
     "output_type": "execute_result"
    }
   ],
   "source": [
    "#FIXME make .grep no :\"in place\""
   ]
  },
  {
   "cell_type": "code",
   "execution_count": null,
   "id": "adfbcc95",
   "metadata": {},
   "outputs": [],
   "source": []
  }
 ],
 "metadata": {
  "kernelspec": {
   "display_name": "Raku",
   "language": "raku",
   "name": "raku"
  },
  "language_info": {
   "file_extension": ".raku",
   "mimetype": "text/plain",
   "name": "raku",
   "version": "6.d"
  }
 },
 "nbformat": 4,
 "nbformat_minor": 5
}
