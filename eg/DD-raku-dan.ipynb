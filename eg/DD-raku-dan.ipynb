{
 "cells": [
  {
   "cell_type": "code",
   "execution_count": 1,
   "id": "eb7339c0",
   "metadata": {},
   "outputs": [],
   "source": [
    "use Dan :ALL;"
   ]
  },
  {
   "cell_type": "code",
   "execution_count": 2,
   "id": "c8cd4353",
   "metadata": {},
   "outputs": [
    {
     "data": {
      "text/plain": [
       "    Country Name          Country Code  Birth rate  Internet users  Income Group        \n",
       " 0  Aruba                 ABW           10.244      78.9            High income         \n",
       " 1  Afghanistan           AFG           35.253      5.9             Low income          \n",
       " 2  Angola                AGO           45.985      19.1            Upper middle income \n",
       " 3  Albania               ALB           12.877      57.2            Upper middle income \n",
       " 4  United Arab Emirates  ARE           11.044      88              High income         \n",
       " 5  Argentina             ARG           17.716      59.9            High income         "
      ]
     },
     "execution_count": 2,
     "metadata": {},
     "output_type": "execute_result"
    }
   ],
   "source": [
    "# Read .csv file (Text::CSV)\n",
    "\n",
    "use Text::CSV;\n",
    "my @lines  = csv( in => 'DemographicData.csv' );\n",
    "\n",
    "my \\stats = DataFrame.new( columns => @lines[0], data => @lines[1..*-1] );\n",
    "~stats[0..5]^;      # head"
   ]
  },
  {
   "cell_type": "markdown",
   "id": "2d0533b5",
   "metadata": {},
   "source": [
    "These two read csv options illustrate how the close relationship between raku code, modules and Dan objects makes it easy for programmers to unpack what is going on and to step in. \n",
    "\n",
    "What if you encounter non-standard character \"noise\" in input files, or non-standard quoting constructs? ... just write your own csv Regex - or even a whole Grammar! Also note the use of the << $_ >> which turns a Str into an [Allomorph](https://docs.raku.org/syntax/%3C%3C%20%3E%3E) such as IntStr, RatStr, NumStr...\n",
    "\n",
    "What if you want RFC4180 compliance or unicode separators or unusual eol markers? ... then the comprehensive raku [Text::CSV](https://github.com/Tux/CSV) module is for you."
   ]
  },
  {
   "cell_type": "code",
   "execution_count": null,
   "id": "c86452bf",
   "metadata": {},
   "outputs": [],
   "source": [
    "# Read .csv file (Regex)\n",
    "\n",
    "#| comb match anything except \" and , -or- take a quoted string\n",
    "my Regex \\csv = rx/ <-[\",]>+ | <[\"]> ~ <[\"]>  <-[\"]>+ /;\n",
    "\n",
    "my @lines   = 'DemographicData.csv'.IO.lines;\n",
    "\n",
    "my @columns = @lines.shift.comb( csv );\n",
    "my @data    = @lines.map(*.comb( csv ).map({<< $_ >>}).Array);\n",
    "\n",
    "my \\stats2   = DataFrame.new( :@columns, :@data );\n",
    "~stats2[0..5]^;      # head"
   ]
  },
  {
   "cell_type": "code",
   "execution_count": null,
   "id": "e735b272",
   "metadata": {},
   "outputs": [],
   "source": [
    "# '~' makes a Str, '^' makes a DataFrame from rows\n",
    "\n",
    "~stats[*-5..*-1]^;    # tail"
   ]
  },
  {
   "cell_type": "code",
   "execution_count": null,
   "id": "544a7247",
   "metadata": {},
   "outputs": [],
   "source": [
    "stats.shape;"
   ]
  },
  {
   "cell_type": "code",
   "execution_count": null,
   "id": "0c88477c",
   "metadata": {},
   "outputs": [],
   "source": [
    "stats.elems;"
   ]
  },
  {
   "cell_type": "code",
   "execution_count": null,
   "id": "2ede5f6f",
   "metadata": {},
   "outputs": [],
   "source": [
    "stats.columns.elems;  "
   ]
  },
  {
   "cell_type": "code",
   "execution_count": null,
   "id": "549d0285",
   "metadata": {},
   "outputs": [],
   "source": [
    "#Clean up #1 - tidy up col labels\n",
    "\n",
    "stats.columns = <CountryName CountryCode BirthRate InternetUsers IncomeGroup> Z=> 0..∞;\n",
    "say stats.columns;     #Hash (unordered)\n",
    "say stats.cx;          #Seq    (ordered)"
   ]
  },
  {
   "cell_type": "code",
   "execution_count": null,
   "id": "1f19ea81",
   "metadata": {},
   "outputs": [],
   "source": [
    "#Clean up #2 - coerce cols to numbers      [see DD-raku-Dan-typed.ipynb for why & when]\n",
    "\n",
    "stats.data[*;2,3].map({$_.=Rat});\n",
    "stats.dtypes;"
   ]
  },
  {
   "cell_type": "code",
   "execution_count": null,
   "id": "078a451a",
   "metadata": {},
   "outputs": [],
   "source": [
    "~stats.describe;"
   ]
  },
  {
   "cell_type": "code",
   "execution_count": null,
   "id": "cc5bb030",
   "metadata": {},
   "outputs": [],
   "source": [
    "~stats[0..5]<CountryName BirthRate>;"
   ]
  },
  {
   "cell_type": "code",
   "execution_count": null,
   "id": "da563f19",
   "metadata": {},
   "outputs": [],
   "source": [
    "~stats[185..*-1]^;       # Range operator (start .. end)"
   ]
  },
  {
   "cell_type": "code",
   "execution_count": null,
   "id": "ab357e67",
   "metadata": {},
   "outputs": [],
   "source": [
    "#Reverse order\n",
    "~stats[10,*-1...5]^;     # Sequence operator (start,operation ... end)"
   ]
  },
  {
   "cell_type": "code",
   "execution_count": null,
   "id": "bb2eefc3",
   "metadata": {},
   "outputs": [],
   "source": [
    "#Every 20th item\n",
    "~stats[0,20...stats.elems]^;"
   ]
  },
  {
   "cell_type": "code",
   "execution_count": null,
   "id": "4b22d256",
   "metadata": {},
   "outputs": [],
   "source": [
    "#Calculate and Append a new column\n",
    "\n",
    "my $calcs = Series.new( stats[*]<BirthRate> >>*<< stats[*]<InternetUsers> );   #multiply every row\n",
    "\n",
    "stats.splice( :ax, *, *, [MyCalc => $calcs] );\n",
    "~stats[0..5]^;"
   ]
  },
  {
   "cell_type": "code",
   "execution_count": null,
   "id": "5ccbb94d",
   "metadata": {},
   "outputs": [],
   "source": [
    "#Drop column\n",
    "\n",
    "stats.splice( :ax, *-1 );\n",
    "~stats[0..5]^;"
   ]
  },
  {
   "cell_type": "code",
   "execution_count": null,
   "id": "6cd8f6df",
   "metadata": {},
   "outputs": [],
   "source": [
    "# Grep (check whether column 3 value < 2)\n",
    "\n",
    "~stats.grep( { .[3] < 2 } );"
   ]
  },
  {
   "cell_type": "code",
   "execution_count": null,
   "id": "a793dba2",
   "metadata": {},
   "outputs": [],
   "source": [
    "# Grep (simple col label check)\n",
    "\n",
    "~stats.grep( { stats[$++]<InternetUsers> < 2 } );"
   ]
  },
  {
   "cell_type": "code",
   "execution_count": null,
   "id": "2570beab",
   "metadata": {},
   "outputs": [],
   "source": [
    "# Grep (combine two checks with col labels)\n",
    "\n",
    "~stats.grep( { my $i=stats[$++]; $i.<InternetUsers> < 2 && $i.<BirthRate> > 40 } );"
   ]
  },
  {
   "cell_type": "code",
   "execution_count": null,
   "id": "03d56379",
   "metadata": {},
   "outputs": [],
   "source": [
    "# Grep (define filters and apply later)\n",
    "\n",
    "sub filter1 { $^i.<InternetUsers> < 2  };\n",
    "sub filter2 { $^i.<BirthRate>     > 40 };\n",
    "\n",
    "~stats.grep( { my $i=stats[$++]; $i.&filter1 && $i.&filter2 } );"
   ]
  },
  {
   "cell_type": "code",
   "execution_count": null,
   "id": "1174d66b",
   "metadata": {},
   "outputs": [],
   "source": [
    "# Grep with regex\n",
    "\n",
    "stats.grep( { stats[$++]<IncomeGroup> ~~ /High/ } ).elems;"
   ]
  },
  {
   "cell_type": "code",
   "execution_count": null,
   "id": "7dc29a1f",
   "metadata": {},
   "outputs": [],
   "source": [
    "# Unique\n",
    "\n",
    "stats[*]<IncomeGroup>.unique.join(', ');"
   ]
  },
  {
   "cell_type": "code",
   "execution_count": null,
   "id": "672d10d6",
   "metadata": {},
   "outputs": [],
   "source": [
    "# Accessors\n",
    "\n",
    "stats[4][3];"
   ]
  },
  {
   "cell_type": "code",
   "execution_count": null,
   "id": "57314955",
   "metadata": {},
   "outputs": [],
   "source": [
    "stats[4]<InternetUsers>;"
   ]
  },
  {
   "cell_type": "code",
   "execution_count": null,
   "id": "1a142c19",
   "metadata": {},
   "outputs": [],
   "source": [
    "stats<4>[3];   #The default index is letter 4 => 4 (Int) so you may use either [] or <> accessor"
   ]
  }
 ],
 "metadata": {
  "kernelspec": {
   "display_name": "Raku",
   "language": "raku",
   "name": "raku"
  },
  "language_info": {
   "file_extension": ".raku",
   "mimetype": "text/plain",
   "name": "raku",
   "version": "6.d"
  }
 },
 "nbformat": 4,
 "nbformat_minor": 5
}
