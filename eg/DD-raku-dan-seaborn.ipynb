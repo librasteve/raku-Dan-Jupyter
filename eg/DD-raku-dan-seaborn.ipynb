{
 "cells": [
  {
   "cell_type": "markdown",
   "id": "c810a072",
   "metadata": {},
   "source": [
    "# NB. this is a Raku notebook!"
   ]
  },
  {
   "cell_type": "markdown",
   "id": "3b13e779",
   "metadata": {},
   "source": [
    "The purpose of this notebook is to illustrate a raku-centric hybrid workflow:\n",
    "\n",
    "1. Use raku Dan for data acquisition & cleansing\n",
    "2. Use raku Dan::Pandas create a shadow Python Pandas dataframe\n",
    "3. Pass Dan::Pandas reference to python Matplotlib & Seaborn to create plots (via Inline::Python)\n",
    "\n",
    "See other notebooks for raku to python hybrid workflow."
   ]
  },
  {
   "cell_type": "code",
   "execution_count": 1,
   "id": "eb7339c0",
   "metadata": {},
   "outputs": [],
   "source": []
  },
  {
   "cell_type": "code",
   "execution_count": 10,
   "id": "c8cd4353",
   "metadata": {},
   "outputs": [
    {
     "data": {
      "text/plain": [
       "        BirthRate           InternetUsers      \n",
       " count  195                 195                \n",
       " mean   21.469928           42.076470891949    \n",
       " std    1.0025740068320432  1.0025740068320432 \n",
       " min    7.9                 0.9                \n",
       " 25%    12.1205             14.52              \n",
       " 50%    19.68               41                 \n",
       " 75%    29.7595             66.225             \n",
       " max    49.661              96.5468            "
      ]
     },
     "execution_count": 10,
     "metadata": {},
     "output_type": "execute_result"
    }
   ],
   "source": [
    "use Dan;\n",
    "use Dan::Pandas;\n",
    "\n",
    "use Text::CSV;\n",
    "my @lines  = csv( in => 'DemographicData.csv' );\n",
    "\n",
    "my \\stats = Dan::DataFrame.new( columns => @lines[0], data => @lines[1..*-1] );\n",
    "\n",
    "stats.columns = <CountryName CountryCode BirthRate InternetUsers IncomeGroup> Z=> 0..∞;\n",
    "stats.data[*;2,3].map({$_.=Rat});\n",
    "\n",
    "~stats.describe;"
   ]
  },
  {
   "cell_type": "code",
   "execution_count": 26,
   "id": "1d34e446",
   "metadata": {},
   "outputs": [
    {
     "name": "stdout",
     "output_type": "stream",
     "text": [
      "Dan::Pandas::DataFrame\n",
      "Inline::Python::PythonObject.new(ptr => NativeCall::Types::Pointer.new(140108668532624), python => Inline::Python.new)\n"
     ]
    }
   ],
   "source": [
    "my $stats-shadow = Dan::Pandas::DataFrame.new( stats );\n",
    "\n",
    "say $stats-shadow.^name;\n",
    "say $stats-shadow.po;"
   ]
  },
  {
   "cell_type": "code",
   "execution_count": 28,
   "id": "67f39c08",
   "metadata": {},
   "outputs": [
    {
     "data": {
      "text/plain": [
       "signal only works in main thread of the main interpreter"
      ]
     },
     "execution_count": 28,
     "metadata": {},
     "output_type": "execute_result"
    }
   ],
   "source": [
    "use Inline::Python;\n",
    "\n",
    "my $mpl-start-str = qq{\n",
    "import pandas as pd\n",
    "import matplotlib.pyplot as plt\n",
    "import seaborn as sns\n",
    "%matplotlib inline\n",
    "plt.rcParams['figure.figsize'] = 8,4\n",
    "import warnings\n",
    "warnings.filterwarnings('ignore')\n",
    "};\n",
    "\n",
    "my $py-sesh = Inline::Python.new;"
   ]
  },
  {
   "cell_type": "code",
   "execution_count": null,
   "id": "111ba5dc",
   "metadata": {},
   "outputs": [],
   "source": []
  }
 ],
 "metadata": {
  "kernelspec": {
   "display_name": "Raku",
   "language": "raku",
   "name": "raku"
  },
  "language_info": {
   "file_extension": ".raku",
   "mimetype": "text/plain",
   "name": "raku",
   "version": "6.d"
  }
 },
 "nbformat": 4,
 "nbformat_minor": 5
}
