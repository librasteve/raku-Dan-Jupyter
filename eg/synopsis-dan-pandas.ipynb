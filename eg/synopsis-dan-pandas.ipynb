{
 "cells": [
  {
   "cell_type": "code",
   "execution_count": null,
   "id": "4cdb61c5",
   "metadata": {},
   "outputs": [],
   "source": [
    "use Dan;\n",
    "use Dan::Pandas;"
   ]
  },
  {
   "cell_type": "markdown",
   "id": "2d35656c",
   "metadata": {},
   "source": [
    "# Series"
   ]
  },
  {
   "cell_type": "code",
   "execution_count": null,
   "id": "ef8775c0",
   "metadata": {},
   "outputs": [],
   "source": [
    "my \\s = $;\n",
    "#my $index = {:a(0), :b(1), :c(2), :d(3), :e(4), :f(5)};\n",
    "#s = Series.new(data => [1, 3, 5, NaN, 6, 8], :$index, name => 'john' );\n",
    "#s = Series.new(data => [1, 3, 5, NaN, 6, 8], index => <a b c d e f>, name => 'john' );\n",
    "#s = Series.new(data => [1, 3, 5, NaN, 6, 8]);\n",
    "#s = Series.new([1, 3, 5, 6, 8]);\n",
    "#s = Series.new([1, 3, 5, NaN, 6, 8]);\n",
    "s = Series.new( [rand xx 5], index => <a b c d e>);\n",
    "#s = Series.new( [b=>1, a=>0, c=>2] );               #from Array of Pairs\n",
    "say ~s; "
   ]
  },
  {
   "cell_type": "code",
   "execution_count": null,
   "id": "27bd55d1",
   "metadata": {},
   "outputs": [],
   "source": [
    "say s.dtype;\n",
    "say s.ix;\n",
    "say s.index;\n",
    "say ~s.reindex(['d','e','f','g','h','i']);\n",
    "say s.elems;\n",
    "say s.pull;\n",
    "say ~s;"
   ]
  },
  {
   "cell_type": "code",
   "execution_count": null,
   "id": "cae6c77e",
   "metadata": {},
   "outputs": [],
   "source": [
    "say s.map(*+2);\n",
    "say [+] s; \n",
    "say s >>+>> 2; \n",
    "say s >>+<< s; \n",
    "\n",
    "say s[2];\n",
    "say s<a>;\n",
    "\n",
    "say ~s;"
   ]
  },
  {
   "cell_type": "code",
   "execution_count": null,
   "id": "6eed345f",
   "metadata": {},
   "outputs": [],
   "source": [
    "s.splice(1,2,(j=>3));\n",
    "\n",
    "my \\t = Series.new( [x=>1, y=>0, z=>2] );\n",
    "s.concat: t;\n",
    "\n",
    "say ~s;"
   ]
  },
  {
   "cell_type": "code",
   "execution_count": null,
   "id": "a53f3b14",
   "metadata": {},
   "outputs": [],
   "source": [
    "# The '.pd' method return value goes to STDOUT (so not visible on Jupyter notebooks for now)\n",
    "\n",
    "s.pd: '.shape';\n",
    "s.pd: '.flags';\n",
    "s.pd: '.T';\n",
    "s.pd: '.to_json(\"test.json\")';\n",
    "s.pd: '.to_csv(\"test.csv\")';\n",
    "s.pd: '.iloc[2] = 23';\n",
    "s.pd: '.iloc[2]';\n",
    "say ~s;"
   ]
  },
  {
   "cell_type": "code",
   "execution_count": null,
   "id": "d9de375c",
   "metadata": {},
   "outputs": [],
   "source": [
    "# 2-arity pd methods\n",
    "say ~my \\quants = Series.new([100, 15, 50, 15, 25]);\n",
    "say ~my \\prices = Series.new([1.1, 4.3, 2.2, 7.41, 2.89]);\n",
    "\n",
    "my \\costs  = Series.new( quants >>*<< prices );\n",
    "\n",
    "#-or- the pandas way\n",
    "#my \\costs = quants;\n",
    "#costs.pd: '.mul', prices;\n",
    "\n",
    "say \"The costs are ...\";\n",
    "say ~costs;"
   ]
  },
  {
   "cell_type": "code",
   "execution_count": null,
   "id": "5808ff4a",
   "metadata": {},
   "outputs": [],
   "source": [
    "my \\u = s.Dan-Series;\n",
    "say u.^name;\n",
    "say ~u;\n",
    "\n",
    "my \\v = Series.new( u );\n",
    "say v.^name;\n",
    "say ~v;"
   ]
  },
  {
   "cell_type": "markdown",
   "id": "25dea9b6",
   "metadata": {},
   "source": [
    "# DataFrames"
   ]
  },
  {
   "cell_type": "code",
   "execution_count": null,
   "id": "bc6ee5d9",
   "metadata": {},
   "outputs": [],
   "source": [
    "my \\dates = (Date.new(\"2022-01-01\"), *+1 ... *)[^6];\n",
    "my \\df = DataFrame.new( [[rand xx 4] xx 6], index => dates, columns => <A B C D> );\n",
    "#my \\df = DataFrame.new( [[rand xx 4] xx 6], columns => <A B C D> );\n",
    "#my \\df = DataFrame.new( [[rand xx 4] xx 6] );\n",
    "say ~df;"
   ]
  },
  {
   "cell_type": "code",
   "execution_count": null,
   "id": "bd30b629",
   "metadata": {},
   "outputs": [],
   "source": [
    "say \"---------------------------------------------\";\n",
    "\n",
    "# Data Accessors [row;col]\n",
    "say df[0;0];\n",
    "df[0;0] = 3;                # set value (not sure why this works, must manual push\n",
    "\n",
    "# Smart Accessors (mix Positional and Associative)\n",
    "say df[0][0];\n",
    "say df[0]<A>;\n",
    "say df{\"2022-01-03\"}[1];\n",
    "\n",
    "# Object Accessors & Slices (see note 1)\n",
    "say ~df[0];                 # 1d Row 0 (DataSlice)\n",
    "say ~df[*]<A>;              # 1d Col A (Series)\n",
    "say ~df[0..*-2][1..*-1];    # 2d DataFrame\n",
    "say ~df{dates[0..1]}^;      # the ^ postfix converts an Array of DataSlices into a new DataFrame"
   ]
  },
  {
   "cell_type": "code",
   "execution_count": null,
   "id": "9ed5a70e",
   "metadata": {},
   "outputs": [],
   "source": [
    "say \"---------------------------------------------\";\n",
    "### DataFrame Operations ###\n",
    "\n",
    "# 2d Map/Reduce\n",
    "say df.map(*.map(*+2).eager);\n",
    "say [+] df[*;1];\n",
    "say [+] df[1;*];\n",
    "say [+] df[*;*];\n",
    "\n",
    "# Hyper\n",
    "say df >>+>> 2;\n",
    "say df >>+<< df;\n",
    "\n",
    "# Describe\n",
    "say ~df[0..^3]^;            # head\n",
    "say ~df[(*-3..*-1)]^;       # tail\n",
    "say ~df.shape;"
   ]
  },
  {
   "cell_type": "code",
   "execution_count": null,
   "id": "8f387494",
   "metadata": {},
   "outputs": [],
   "source": [
    "# Describe\n",
    "\n",
    "# The usual '.describe' method on a Dan::Pandas::DataFrame goes to STDOUT (no STDOUT on Jupyter for now)\n",
    "# So here showing conversion to Dan::DataFrame (and then appying round to fit in the notebook cell)\n",
    "\n",
    "my $ddf = df.Dan-DataFrame.describe;\n",
    "$ddf.map(*.map({$_ .= round(0.001)}).eager);\n",
    "\n",
    "say ~$ddf;"
   ]
  },
  {
   "cell_type": "code",
   "execution_count": null,
   "id": "69b7b6da",
   "metadata": {},
   "outputs": [],
   "source": [
    "# Sort\n",
    "\n",
    "say ~df.sort: { .[1] };         # sort by 2nd col (ascending)\n",
    "say ~df.sort: { -.[1] };        # sort by 2nd col (descending)\n",
    "say ~df.sort: { df[$++]<C> };   # sort by col C\n",
    "say ~df.sort: { df.ix[$++] };   # sort by index\n",
    "\n",
    "# Grep (binary filter)\n",
    "say ~df.grep( { .[1] < 0.5 } );                                # by 2nd column \n",
    "say ~df.grep( { df.ix[$++] eq <2022-01-02 2022-01-06>.any } ); # by index (multiple) "
   ]
  },
  {
   "cell_type": "code",
   "execution_count": null,
   "id": "dfffffd1",
   "metadata": {},
   "outputs": [],
   "source": [
    "# Transpose\n",
    "say ~df.T;"
   ]
  },
  {
   "cell_type": "code",
   "execution_count": null,
   "id": "e6efd083",
   "metadata": {},
   "outputs": [],
   "source": [
    "my \\df2 = DataFrame.new([\n",
    "        A => 1.0,\n",
    "        B => Date.new(\"2022-01-01\"),\n",
    "        C => Series.new(1, index => [0..^4], dtype => Num),\n",
    "        D => [3 xx 4],\n",
    "        E => Categorical.new(<test train test train>),\n",
    "        F => \"foo\",\n",
    "]);\n",
    "say ~df2;"
   ]
  },
  {
   "cell_type": "code",
   "execution_count": null,
   "id": "a798c9aa",
   "metadata": {},
   "outputs": [],
   "source": [
    "# row-wise splice:\n",
    "\n",
    "my $ds = df2[0];                        # get a DataSlice \n",
    "$ds.splice($ds.index<A>,1,[A => 7]);    # tweak it a bit\n",
    "df2.splice( 1, 2, [j => $ds] );         # row-wise is the default (axis => 0)\n",
    "\n",
    "say 'only run this cell once!';"
   ]
  },
  {
   "cell_type": "code",
   "execution_count": null,
   "id": "5020f40d",
   "metadata": {},
   "outputs": [],
   "source": [
    "# column-wise splice:\n",
    "\n",
    "my $se = df2[*]<D>;                     # get a Series \n",
    "$se.splice(2,1,[3 => 8] );              # tweak it a bit\n",
    "df2.splice( :ax, 1, 2, [K => $se] );    # axis => 1\n",
    "\n",
    "say 'only run this cell once!';"
   ]
  },
  {
   "cell_type": "code",
   "execution_count": null,
   "id": "258b4b10",
   "metadata": {},
   "outputs": [],
   "source": [
    "say ~df2;\n",
    "\n",
    "say df2.data;\n",
    "say df2.dtypes;\n",
    "say df2.index;    #Hash (name => row number)   -or- df.ix; #Array\n",
    "say df2.columns;  #Hash (label => col number)  -or- df.cx; #Array"
   ]
  },
  {
   "cell_type": "code",
   "execution_count": null,
   "id": "4ff381d1",
   "metadata": {},
   "outputs": [],
   "source": [
    "my \\dfa = DataFrame.new(\n",
    "        [['a', 1], ['b', 2]],\n",
    "        columns => <letter number>,\n",
    ");\n",
    "say ~dfa;\n",
    "\n",
    "my \\dfc = DataFrame.new(\n",
    "        [['c', 3, 'cat'], ['d', 4, 'dog']],\n",
    "        columns => <animal letter number>,\n",
    ");\n",
    "say ~dfc;\n",
    "\n",
    "say \"---------------------------------------------\";\n",
    "dfa.concat(dfc);\n",
    "say ~dfa;"
   ]
  },
  {
   "cell_type": "code",
   "execution_count": null,
   "id": "05be9f77",
   "metadata": {},
   "outputs": [],
   "source": [
    "# The '.pd' method return value goes to STDOUT (so not visible on Jupyter notebooks for now)\n",
    "\n",
    "df.pd: '.shape';\n",
    "df.pd: '.flags';\n",
    "df.pd: '.T';\n",
    "df.pd: '.to_json(\"test.json\")';\n",
    "df.pd: '.to_csv(\"test.csv\")';\n",
    "df.pd: '.iloc[2] = 23';\n",
    "df.pd: '.iloc[2]';\n",
    "\n",
    "say ~df;"
   ]
  },
  {
   "cell_type": "code",
   "execution_count": null,
   "id": "9dc7fdef",
   "metadata": {},
   "outputs": [],
   "source": []
  }
 ],
 "metadata": {
  "kernelspec": {
   "display_name": "Raku",
   "language": "raku",
   "name": "raku"
  },
  "language_info": {
   "file_extension": ".raku",
   "mimetype": "text/plain",
   "name": "raku",
   "version": "6.d"
  }
 },
 "nbformat": 4,
 "nbformat_minor": 5
}
