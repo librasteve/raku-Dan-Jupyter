{
 "cells": [
  {
   "cell_type": "code",
   "execution_count": 18,
   "id": "4cdb61c5",
   "metadata": {},
   "outputs": [],
   "source": [
    "use Dan;\n",
    "use Dan::Pandas;"
   ]
  },
  {
   "cell_type": "code",
   "execution_count": null,
   "id": "23ecea1c",
   "metadata": {},
   "outputs": [],
   "source": [
    "say \"=============================================\";\n",
    "\n",
    "### Series ###"
   ]
  },
  {
   "cell_type": "code",
   "execution_count": 19,
   "id": "ef8775c0",
   "metadata": {},
   "outputs": [
    {
     "name": "stdout",
     "output_type": "stream",
     "text": [
      "a    0.880935\n",
      "b    0.148055\n",
      "c    0.986941\n",
      "d    0.076753\n",
      "e    0.622628\n",
      "Name: anon, dtype: float64\n"
     ]
    }
   ],
   "source": [
    "my \\s = $;\n",
    "#my $index = {:a(0), :b(1), :c(2), :d(3), :e(4), :f(5)};\n",
    "#s = Series.new(data => [1, 3, 5, NaN, 6, 8], :$index, name => 'john' );\n",
    "#s = Series.new(data => [1, 3, 5, NaN, 6, 8], index => <a b c d e f>, name => 'john' );\n",
    "#s = Series.new(data => [1, 3, 5, NaN, 6, 8]);\n",
    "#s = Series.new([1, 3, 5, 6, 8]);\n",
    "#s = Series.new([1, 3, 5, NaN, 6, 8]);\n",
    "s = Series.new( [rand xx 5], index => <a b c d e>);\n",
    "#s = Series.new( [b=>1, a=>0, c=>2] );               #from Array of Pairs\n",
    "say ~s; "
   ]
  },
  {
   "cell_type": "code",
   "execution_count": 20,
   "id": "27bd55d1",
   "metadata": {},
   "outputs": [
    {
     "name": "stdout",
     "output_type": "stream",
     "text": [
      "<class 'numpy.float64'>\n",
      "[a b c d e]\n",
      "{a => 0, b => 1, c => 2, d => 3, e => 4}\n",
      "d    0.076753\n",
      "e    0.622628\n",
      "f         NaN\n",
      "g         NaN\n",
      "h         NaN\n",
      "i         NaN\n",
      "Name: anon, dtype: float64\n",
      "5\n",
      "[0.8809346416115266 0.14805482815455417 0.9869409564830176 0.07675327175046764 0.6226282455134127]\n",
      "a    0.880935\n",
      "b    0.148055\n",
      "c    0.986941\n",
      "d    0.076753\n",
      "e    0.622628\n",
      "Name: anon, dtype: float64\n"
     ]
    }
   ],
   "source": [
    "say s.dtype;\n",
    "say s.ix;\n",
    "say s.index;\n",
    "say ~s.reindex(['d','e','f','g','h','i']);\n",
    "say s.elems;\n",
    "say s.pull;\n",
    "say ~s;"
   ]
  },
  {
   "cell_type": "code",
   "execution_count": 21,
   "id": "cae6c77e",
   "metadata": {},
   "outputs": [
    {
     "name": "stdout",
     "output_type": "stream",
     "text": [
      "(2.8809346416115265 2.148054828154554 2.986940956483018 2.0767532717504675 2.622628245513413)\n",
      "2.7153119435129787\n",
      "(2.8809346416115265 2.148054828154554 2.986940956483018 2.0767532717504675 2.622628245513413)\n",
      "(1.7618692832230531 0.29610965630910835 1.9738819129660352 0.1535065435009353 1.2452564910268253)\n",
      "0.9869409564830176\n",
      "0.8809346416115266\n",
      "a    0.880935\n",
      "b    0.148055\n",
      "c    0.986941\n",
      "d    0.076753\n",
      "e    0.622628\n",
      "Name: anon, dtype: float64\n"
     ]
    }
   ],
   "source": [
    "say s.map(*+2);\n",
    "say [+] s; \n",
    "say s >>+>> 2; \n",
    "say s >>+<< s; \n",
    "\n",
    "say s[2];\n",
    "say s<a>;\n",
    "\n",
    "say ~s;"
   ]
  },
  {
   "cell_type": "code",
   "execution_count": 22,
   "id": "6eed345f",
   "metadata": {},
   "outputs": [
    {
     "name": "stdout",
     "output_type": "stream",
     "text": [
      "a    0.880935\n",
      "j    3.000000\n",
      "d    0.076753\n",
      "e    0.622628\n",
      "x    1.000000\n",
      "y    0.000000\n",
      "z    2.000000\n",
      "Name: anon, dtype: float64\n"
     ]
    }
   ],
   "source": [
    "s.splice(1,2,(j=>3));\n",
    "\n",
    "my \\t = Series.new( [x=>1, y=>0, z=>2] );\n",
    "s.concat: t;\n",
    "\n",
    "say ~s;"
   ]
  },
  {
   "cell_type": "code",
   "execution_count": 23,
   "id": "a53f3b14",
   "metadata": {},
   "outputs": [
    {
     "name": "stdout",
     "output_type": "stream",
     "text": [
      "a     0.880935\n",
      "j     3.000000\n",
      "d    23.000000\n",
      "e     0.622628\n",
      "x     1.000000\n",
      "y     0.000000\n",
      "z     2.000000\n",
      "Name: anon, dtype: float64\n"
     ]
    }
   ],
   "source": [
    "say s.pd: '.shape';\n",
    "say s.pd: '.flags';\n",
    "say s.pd: '.T';\n",
    "s.pd: '.to_json(\"test.json\")';\n",
    "s.pd: '.to_csv(\"test.csv\")';\n",
    "say s.pd: '.iloc[2] = 23';\n",
    "say s.pd: '.iloc[2]';\n",
    "say ~s;"
   ]
  },
  {
   "cell_type": "code",
   "execution_count": 27,
   "id": "d9de375c",
   "metadata": {},
   "outputs": [
    {
     "name": "stdout",
     "output_type": "stream",
     "text": [
      "0    100\n",
      "1     15\n",
      "2     50\n",
      "3     15\n",
      "4     25\n",
      "Name: anon, dtype: int64\n",
      "0    1.10\n",
      "1    4.30\n",
      "2    2.20\n",
      "3    7.41\n",
      "4    2.89\n",
      "Name: anon, dtype: float64\n",
      "The costs are ...\n",
      "0    110.00\n",
      "1     64.50\n",
      "2    110.00\n",
      "3    111.15\n",
      "4     72.25\n",
      "Name: anon, dtype: float64\n"
     ]
    }
   ],
   "source": [
    "# 2-arity pd methods\n",
    "say ~my \\quants = Series.new([100, 15, 50, 15, 25]);\n",
    "say ~my \\prices = Series.new([1.1, 4.3, 2.2, 7.41, 2.89]);\n",
    "\n",
    "my \\costs  = Series.new( quants >>*<< prices );\n",
    "\n",
    "#-or- the pandas way\n",
    "#my \\costs = quants;\n",
    "#costs.pd: '.mul', prices;\n",
    "\n",
    "say \"The costs are ...\";\n",
    "say ~costs;"
   ]
  },
  {
   "cell_type": "code",
   "execution_count": 28,
   "id": "5808ff4a",
   "metadata": {},
   "outputs": [
    {
     "name": "stdout",
     "output_type": "stream",
     "text": [
      "Dan::Series\n",
      "a\t0.8809346416115266\n",
      "j\t3\n",
      "d\t23\n",
      "e\t0.6226282455134127\n",
      "x\t1\n",
      "y\t0\n",
      "z\t2\n",
      "dtype: Num, name: anon\n",
      "\n",
      "Dan::Pandas::Series\n",
      "a     0.880935\n",
      "j     3.000000\n",
      "d    23.000000\n",
      "e     0.622628\n",
      "x     1.000000\n",
      "y     0.000000\n",
      "z     2.000000\n",
      "Name: anon, dtype: float64\n"
     ]
    }
   ],
   "source": [
    "my \\u = s.Dan-Series;\n",
    "say u.^name;\n",
    "say ~u;\n",
    "\n",
    "my \\v = Series.new( u );\n",
    "say v.^name;\n",
    "say ~v;"
   ]
  },
  {
   "cell_type": "code",
   "execution_count": 29,
   "id": "6218ed98",
   "metadata": {},
   "outputs": [
    {
     "name": "stdout",
     "output_type": "stream",
     "text": [
      "=============================================\n"
     ]
    }
   ],
   "source": [
    "say \"=============================================\";\n",
    "\n",
    "### DataFrames ###"
   ]
  },
  {
   "cell_type": "code",
   "execution_count": 30,
   "id": "bc6ee5d9",
   "metadata": {},
   "outputs": [
    {
     "name": "stdout",
     "output_type": "stream",
     "text": [
      "                   A         B         C         D\n",
      "2022-01-01  0.450336  0.401494  0.431877  0.827657\n",
      "2022-01-02  0.823830  0.768846  0.594041  0.658728\n",
      "2022-01-03  0.190169  0.059628  0.382772  0.443158\n",
      "2022-01-04  0.517103  0.291225  0.412561  0.892446\n",
      "2022-01-05  0.952834  0.367124  0.889497  0.134775\n",
      "2022-01-06  0.426687  0.383957  0.557565  0.969320\n"
     ]
    }
   ],
   "source": [
    "my \\dates = (Date.new(\"2022-01-01\"), *+1 ... *)[^6];\n",
    "my \\df = DataFrame.new( [[rand xx 4] xx 6], index => dates, columns => <A B C D> );\n",
    "#my \\df = DataFrame.new( [[rand xx 4] xx 6], columns => <A B C D> );\n",
    "#my \\df = DataFrame.new( [[rand xx 4] xx 6] );\n",
    "say ~df;"
   ]
  },
  {
   "cell_type": "code",
   "execution_count": 31,
   "id": "bd30b629",
   "metadata": {},
   "outputs": [
    {
     "name": "stdout",
     "output_type": "stream",
     "text": [
      "---------------------------------------------\n",
      "0.45033620415325204\n",
      "3\n",
      "3\n",
      "0.05962807473233611\n",
      "A\t3\n",
      "B\t0.40149355838665957\n",
      "C\t0.43187681631134633\n",
      "D\t0.8276566080719377\n",
      "name: 2022-01-01\n",
      "\n",
      "2022-01-01    0.450336\n",
      "2022-01-02    0.823830\n",
      "2022-01-03    0.190169\n",
      "2022-01-04    0.517103\n",
      "2022-01-05    0.952834\n",
      "2022-01-06    0.426687\n",
      "Name: A, dtype: float64\n",
      "                   B         C         D\n",
      "2022-01-01  0.401494  0.431877  0.827657\n",
      "2022-01-02  0.768846  0.594041  0.658728\n",
      "2022-01-03  0.059628  0.382772  0.443158\n",
      "2022-01-04  0.291225  0.412561  0.892446\n",
      "2022-01-05  0.367124  0.889497  0.134775\n",
      "                   A         B         C         D\n",
      "2022-01-01  0.450336  0.401494  0.431877  0.827657\n",
      "2022-01-02  0.823830  0.768846  0.594041  0.658728\n"
     ]
    }
   ],
   "source": [
    "say \"---------------------------------------------\";\n",
    "\n",
    "# Data Accessors [row;col]\n",
    "say df[0;0];\n",
    "df[0;0] = 3;                # set value (not sure why this works, must manual push\n",
    "\n",
    "# Smart Accessors (mix Positional and Associative)\n",
    "say df[0][0];\n",
    "say df[0]<A>;\n",
    "say df{\"2022-01-03\"}[1];\n",
    "\n",
    "# Object Accessors & Slices (see note 1)\n",
    "say ~df[0];                 # 1d Row 0 (DataSlice)\n",
    "say ~df[*]<A>;              # 1d Col A (Series)\n",
    "say ~df[0..*-2][1..*-1];    # 2d DataFrame\n",
    "say ~df{dates[0..1]}^;      # the ^ postfix converts an Array of DataSlices into a new DataFrame"
   ]
  },
  {
   "cell_type": "code",
   "execution_count": 61,
   "id": "9ed5a70e",
   "metadata": {},
   "outputs": [
    {
     "name": "stdout",
     "output_type": "stream",
     "text": [
      "---------------------------------------------\n",
      "((2.450336204153252 2.823830030745463 2.1901689242092077 2.5171034417774836 2.952833987222898 2.4266867153436187) (2.4014935583866595 2.7688461834561178 2.059628074732336 2.291224991010741 2.367124178945053 2.383957080047151) (2.4318768163113464 2.5940411568261235 2.3827720931255536 2.4125614431968048 2.8894968296910655 2.557565128090037) (2.827656608071938 2.658728319165279 2.443158314541181 2.8924462004029943 2.1347748304656546 2.9693196952376204))\n",
      "2.8454456901929834\n",
      "2.272274066578059\n",
      "12.827630805155579\n",
      "([2.450336204153252 2.823830030745463 2.1901689242092077 2.5171034417774836 2.952833987222898 2.4266867153436187] [2.4014935583866595 2.7688461834561178 2.059628074732336 2.291224991010741 2.367124178945053 2.383957080047151] [2.4318768163113464 2.5940411568261235 2.3827720931255536 2.4125614431968048 2.8894968296910655 2.557565128090037] [2.827656608071938 2.658728319165279 2.443158314541181 2.8924462004029943 2.1347748304656546 2.9693196952376204])\n",
      "([0.9006724083065041 1.6476600614909258 0.3803378484184152 1.034206883554967 1.9056679744457963 0.8533734306872374] [0.8029871167733191 1.537692366912236 0.11925614946467222 0.5824499820214823 0.7342483578901062 0.7679141600943014] [0.8637536326226927 1.1880823136522467 0.7655441862511068 0.82512288639361 1.7789936593821305 1.1151302561800742] [1.6553132161438755 1.3174566383305577 0.8863166290823619 1.784892400805989 0.26954966093130905 1.9386393904752406])\n",
      "   2022-01-01  2022-01-02  2022-01-03  2022-01-04  2022-01-05  2022-01-06\n",
      "A    0.450336    0.823830    0.190169    0.517103    0.952834    0.426687\n",
      "B    0.401494    0.768846    0.059628    0.291225    0.367124    0.383957\n",
      "C    0.431877    0.594041    0.382772    0.412561    0.889497    0.557565\n",
      "   2022-01-01  2022-01-02  2022-01-03  2022-01-04  2022-01-05  2022-01-06\n",
      "B    0.401494    0.768846    0.059628    0.291225    0.367124    0.383957\n",
      "C    0.431877    0.594041    0.382772    0.412561    0.889497    0.557565\n",
      "D    0.827657    0.658728    0.443158    0.892446    0.134775    0.969320\n",
      "4 6\n"
     ]
    }
   ],
   "source": [
    "say \"---------------------------------------------\";\n",
    "### DataFrame Operations ###\n",
    "\n",
    "# 2d Map/Reduce\n",
    "say df.map(*.map(*+2).eager);\n",
    "say [+] df[*;1];\n",
    "say [+] df[1;*];\n",
    "say [+] df[*;*];\n",
    "\n",
    "# Hyper\n",
    "say df >>+>> 2;\n",
    "say df >>+<< df;\n",
    "\n",
    "# Describe\n",
    "say ~df[0..^3]^;            # head\n",
    "say ~df[(*-3..*-1)]^;       # tail\n",
    "say ~df.shape;"
   ]
  },
  {
   "cell_type": "code",
   "execution_count": 63,
   "id": "8f387494",
   "metadata": {},
   "outputs": [],
   "source": [
    "df.describe;   #FIXME"
   ]
  },
  {
   "cell_type": "code",
   "execution_count": 64,
   "id": "dfffffd1",
   "metadata": {},
   "outputs": [
    {
     "name": "stdout",
     "output_type": "stream",
     "text": [
      "                   A         B         C         D\n",
      "2022-01-01  0.450336  0.401494  0.431877  0.827657\n",
      "2022-01-02  0.823830  0.768846  0.594041  0.658728\n",
      "2022-01-03  0.190169  0.059628  0.382772  0.443158\n",
      "2022-01-04  0.517103  0.291225  0.412561  0.892446\n",
      "2022-01-05  0.952834  0.367124  0.889497  0.134775\n",
      "2022-01-06  0.426687  0.383957  0.557565  0.969320\n"
     ]
    }
   ],
   "source": [
    "# Transpose\n",
    "say ~df.T;"
   ]
  },
  {
   "cell_type": "code",
   "execution_count": 65,
   "id": "69b7b6da",
   "metadata": {},
   "outputs": [
    {
     "name": "stdout",
     "output_type": "stream",
     "text": [
      "---------------------------------------------\n",
      "                   A         B         C         D\n",
      "2022-01-03  0.190169  0.059628  0.382772  0.443158\n",
      "2022-01-04  0.517103  0.291225  0.412561  0.892446\n",
      "2022-01-05  0.952834  0.367124  0.889497  0.134775\n",
      "2022-01-06  0.426687  0.383957  0.557565  0.969320\n",
      "2022-01-01  0.450336  0.401494  0.431877  0.827657\n",
      "2022-01-02  0.823830  0.768846  0.594041  0.658728\n",
      "                   A         B         C         D\n",
      "2022-01-02  0.823830  0.768846  0.594041  0.658728\n",
      "2022-01-01  0.450336  0.401494  0.431877  0.827657\n",
      "2022-01-06  0.426687  0.383957  0.557565  0.969320\n",
      "2022-01-05  0.952834  0.367124  0.889497  0.134775\n",
      "2022-01-04  0.517103  0.291225  0.412561  0.892446\n",
      "2022-01-03  0.190169  0.059628  0.382772  0.443158\n",
      "                   A         B         C         D\n",
      "2022-01-03  0.190169  0.059628  0.382772  0.443158\n",
      "2022-01-04  0.517103  0.291225  0.412561  0.892446\n",
      "2022-01-01  0.450336  0.401494  0.431877  0.827657\n",
      "2022-01-06  0.426687  0.383957  0.557565  0.969320\n",
      "2022-01-02  0.823830  0.768846  0.594041  0.658728\n",
      "2022-01-05  0.952834  0.367124  0.889497  0.134775\n",
      "                   A         B         C         D\n",
      "2022-01-01  0.450336  0.401494  0.431877  0.827657\n",
      "2022-01-02  0.823830  0.768846  0.594041  0.658728\n",
      "2022-01-03  0.190169  0.059628  0.382772  0.443158\n",
      "2022-01-04  0.517103  0.291225  0.412561  0.892446\n",
      "2022-01-05  0.952834  0.367124  0.889497  0.134775\n",
      "2022-01-06  0.426687  0.383957  0.557565  0.969320\n",
      "                   A         B         C         D\n",
      "2022-01-01  0.450336  0.401494  0.431877  0.827657\n",
      "2022-01-03  0.190169  0.059628  0.382772  0.443158\n",
      "2022-01-04  0.517103  0.291225  0.412561  0.892446\n",
      "2022-01-05  0.952834  0.367124  0.889497  0.134775\n",
      "2022-01-06  0.426687  0.383957  0.557565  0.969320\n",
      "                   A         B         C         D\n",
      "2022-01-02  0.823830  0.768846  0.594041  0.658728\n",
      "2022-01-06  0.426687  0.383957  0.557565  0.969320\n"
     ]
    }
   ],
   "source": [
    "say \"---------------------------------------------\";\n",
    "# Sort\n",
    "\n",
    "say ~df.sort: { .[1] };         # sort by 2nd col (ascending)\n",
    "say ~df.sort: { -.[1] };        # sort by 2nd col (descending)\n",
    "say ~df.sort: { df[$++]<C> };   # sort by col C\n",
    "say ~df.sort: { df.ix[$++] };   # sort by index\n",
    "\n",
    "# Grep (binary filter)\n",
    "say ~df.grep( { .[1] < 0.5 } );                                # by 2nd column \n",
    "say ~df.grep( { df.ix[$++] eq <2022-01-02 2022-01-06>.any } ); # by index (multiple) "
   ]
  },
  {
   "cell_type": "code",
   "execution_count": 66,
   "id": "e6efd083",
   "metadata": {},
   "outputs": [
    {
     "name": "stdout",
     "output_type": "stream",
     "text": [
      "---------------------------------------------\n",
      "   A           B  C  D      E    F\n",
      "0  1  2022-01-01  1  3   test  foo\n",
      "1  1  2022-01-01  1  3  train  foo\n",
      "2  1  2022-01-01  1  3   test  foo\n",
      "3  1  2022-01-01  1  3  train  foo\n"
     ]
    },
    {
     "name": "stderr",
     "output_type": "stream",
     "text": [
      "WARNING: unhandled Failure detected in DESTROY. If you meant to ignore it, you can mark it as handled by calling .Bool, .so, .not, or .defined methods. The Failure was:\n",
      "No such symbol '<class 'numpy.int64'>'\n",
      "  in block  at /usr/share/perl6/site/sources/A0EFFE63B40BC04CD8EB78CDCC7B22971E653B3A (Dan::Pandas) line 535\n",
      "  in block  at /usr/share/perl6/site/sources/A0EFFE63B40BC04CD8EB78CDCC7B22971E653B3A (Dan::Pandas) line 533\n",
      "  in block  at /usr/share/perl6/site/sources/A0EFFE63B40BC04CD8EB78CDCC7B22971E653B3A (Dan::Pandas) line 530\n",
      "  in method TWEAK at /usr/share/perl6/site/sources/A0EFFE63B40BC04CD8EB78CDCC7B22971E653B3A (Dan::Pandas) line 516\n",
      "  in method new at /usr/share/perl6/site/sources/A0EFFE63B40BC04CD8EB78CDCC7B22971E653B3A (Dan::Pandas) line 380\n",
      "  in block <unit> at <unknown file> line 1\n",
      "  in method eval at /usr/share/perl6/site/sources/FA76AD37A6E13534BC3F1D3E5089BFFB787F4AD0 (Jupyter::Kernel::Sandbox) line 122\n",
      "  in code  at /usr/share/perl6/site/sources/42B1B7A6224CD62005B68B1EDFDE88F919C1BE32 (Jupyter::Kernel) line 146\n",
      "\n"
     ]
    }
   ],
   "source": [
    "say \"---------------------------------------------\";\n",
    "\n",
    "my \\df2 = DataFrame.new([\n",
    "        A => 1.0,\n",
    "        B => Date.new(\"2022-01-01\"),\n",
    "        C => Series.new(1, index => [0..^4], dtype => Num),\n",
    "        D => [3 xx 4],\n",
    "        E => Categorical.new(<test train test train>),\n",
    "        F => \"foo\",\n",
    "]);\n",
    "say ~df2;"
   ]
  },
  {
   "cell_type": "code",
   "execution_count": 67,
   "id": "258b4b10",
   "metadata": {},
   "outputs": [
    {
     "name": "stdout",
     "output_type": "stream",
     "text": [
      "[[1 2022-01-01 1 3 test foo] [1 2022-01-01 1 3 train foo] [1 2022-01-01 1 3 test foo] [1 2022-01-01 1 3 train foo]]\n",
      "(Any)\n",
      "{0 => 0, 1 => 1, 2 => 2, 3 => 3}\n",
      "{A => 0, B => 1, C => 2, D => 3, E => 4, F => 5}\n"
     ]
    }
   ],
   "source": [
    "say df2.data;\n",
    "say df2.dtypes;\n",
    "say df2.index;    #Hash (name => row number)   -or- df.ix; #Array\n",
    "say df2.columns;  #Hash (label => col number)  -or- df.cx; #Array"
   ]
  },
  {
   "cell_type": "code",
   "execution_count": 73,
   "id": "a798c9aa",
   "metadata": {},
   "outputs": [
    {
     "data": {
      "text/plain": [
       "No such method 'key' for invocant of type 'Int'.  Did you mean 'keys'?"
      ]
     },
     "execution_count": 73,
     "metadata": {},
     "output_type": "execute_result"
    }
   ],
   "source": [
    "# row-wise splice:\n",
    "#`[\n",
    "my $ds = df2[0];                        # get a DataSlice \n",
    "$ds.splice($ds.index<A>,1,7);           # tweak it a bit\n",
    "df2.splice( 1, 2, [j => $ds] );         # default\n",
    "#]\n",
    "\n",
    "# column-wise splice:\n",
    "#`[\n",
    "my $se = df2[*]<D>;                     # get a Series \n",
    "$se.splice(2,1,8);                      # tweak it a bit\n",
    "df2.splice( :ax, 1, 2, [K => $se] );    # axis => 1\n",
    "#]\n",
    "\n",
    "say ~df2;   #FIXME"
   ]
  },
  {
   "cell_type": "code",
   "execution_count": 74,
   "id": "4ff381d1",
   "metadata": {},
   "outputs": [
    {
     "name": "stdout",
     "output_type": "stream",
     "text": [
      "  letter  number\n",
      "0      a       1\n",
      "1      b       2\n",
      "  animal  letter number\n",
      "0      c       3    cat\n",
      "1      d       4    dog\n",
      "---------------------------------------------\n",
      "    letter number  animal\n",
      "0        a      1     NaN\n",
      "1        b      2     NaN\n",
      "0⋅1    cat      c     3.0\n",
      "1⋅1    dog      d     4.0\n"
     ]
    }
   ],
   "source": [
    "my \\dfa = DataFrame.new(\n",
    "        [['a', 1], ['b', 2]],\n",
    "        columns => <letter number>,\n",
    ");\n",
    "say ~dfa;\n",
    "\n",
    "my \\dfc = DataFrame.new(\n",
    "        [['c', 3, 'cat'], ['d', 4, 'dog']],\n",
    "        columns => <animal letter number>,\n",
    ");\n",
    "say ~dfc;\n",
    "\n",
    "say \"---------------------------------------------\";\n",
    "dfa.concat(dfc);\n",
    "say ~dfa;"
   ]
  },
  {
   "cell_type": "code",
   "execution_count": 82,
   "id": "05be9f77",
   "metadata": {},
   "outputs": [
    {
     "name": "stdout",
     "output_type": "stream",
     "text": [
      "                    A          B          C          D\n",
      "2022-01-01   0.450336   0.401494   0.431877   0.827657\n",
      "2022-01-02   0.823830   0.768846   0.594041   0.658728\n",
      "2022-01-03  23.000000  23.000000  23.000000  23.000000\n",
      "2022-01-04   0.517103   0.291225   0.412561   0.892446\n",
      "2022-01-05   0.952834   0.367124   0.889497   0.134775\n",
      "2022-01-06   0.426687   0.383957   0.557565   0.969320\n"
     ]
    }
   ],
   "source": [
    "df.pd: '.shape';\n",
    "df.pd: '.flags';\n",
    "df.pd: '.T';\n",
    "df.pd: '.to_json(\"test.json\")';\n",
    "df.pd: '.to_csv(\"test.csv\")';\n",
    "df.pd: '.iloc[2] = 23';\n",
    "df.pd: '.iloc[2]';\n",
    "\n",
    "say ~df;"
   ]
  },
  {
   "cell_type": "code",
   "execution_count": null,
   "id": "9dc7fdef",
   "metadata": {},
   "outputs": [],
   "source": []
  }
 ],
 "metadata": {
  "kernelspec": {
   "display_name": "Raku",
   "language": "raku",
   "name": "raku"
  },
  "language_info": {
   "file_extension": ".raku",
   "mimetype": "text/plain",
   "name": "raku",
   "version": "6.d"
  }
 },
 "nbformat": 4,
 "nbformat_minor": 5
}
