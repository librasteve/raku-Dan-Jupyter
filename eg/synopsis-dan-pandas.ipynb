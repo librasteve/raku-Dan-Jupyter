{
 "cells": [
  {
   "cell_type": "code",
   "id": "4cdb61c5",
   "metadata": {
    "ExecuteTime": {
     "end_time": "2024-11-11T11:35:17.545241Z",
     "start_time": "2024-11-11T11:35:16.124132Z"
    }
   },
   "source": [
    "use Dan;\n",
    "use Dan::Pandas;"
   ],
   "outputs": [],
   "execution_count": 1
  },
  {
   "cell_type": "markdown",
   "id": "2d35656c",
   "metadata": {},
   "source": [
    "# Series"
   ]
  },
  {
   "cell_type": "code",
   "id": "ef8775c0",
   "metadata": {
    "ExecuteTime": {
     "end_time": "2024-11-11T11:35:23.315121Z",
     "start_time": "2024-11-11T11:35:22.862464Z"
    }
   },
   "source": [
    "my \\s = $;\n",
    "#my $index = {:a(0), :b(1), :c(2), :d(3), :e(4), :f(5)};\n",
    "#s = Series.new(data => [1, 3, 5, NaN, 6, 8], :$index, name => 'john' );\n",
    "#s = Series.new(data => [1, 3, 5, NaN, 6, 8], index => <a b c d e f>, name => 'john' );\n",
    "#s = Series.new(data => [1, 3, 5, NaN, 6, 8]);\n",
    "#s = Series.new([1, 3, 5, 6, 8]);\n",
    "#s = Series.new([1, 3, 5, NaN, 6, 8]);\n",
    "s = Series.new( [rand xx 5], index => <a b c d e>);\n",
    "#s = Series.new( [b=>1, a=>0, c=>2] );               #from Array of Pairs\n",
    "say ~s; "
   ],
   "outputs": [
    {
     "name": "stdout",
     "output_type": "stream",
     "text": [
      "a    0.464571\n",
      "b    0.149161\n",
      "c    0.250561\n",
      "d    0.657434\n",
      "e    0.112205\n",
      "Name: anon, dtype: float64\n"
     ]
    }
   ],
   "execution_count": 3
  },
  {
   "cell_type": "code",
   "id": "27bd55d1",
   "metadata": {
    "ExecuteTime": {
     "end_time": "2024-11-11T11:35:24.945295Z",
     "start_time": "2024-11-11T11:35:24.717867Z"
    }
   },
   "source": [
    "say s.dtype;\n",
    "say s.ix;\n",
    "say s.index;\n",
    "say ~s.reindex(['d','e','f','g','h','i']);\n",
    "say s.elems;\n",
    "say s.pull;\n",
    "say ~s;"
   ],
   "outputs": [
    {
     "name": "stdout",
     "output_type": "stream",
     "text": [
      "<class 'numpy.float64'>\n",
      "[a b c d e]\n",
      "{a => 0, b => 1, c => 2, d => 3, e => 4}\n",
      "d    0.657434\n",
      "e    0.112205\n",
      "f         NaN\n",
      "g         NaN\n",
      "h         NaN\n",
      "i         NaN\n",
      "Name: anon, dtype: float64\n",
      "5\n",
      "[0.46457140010542197 0.14916139207469314 0.2505609147443697 0.6574335034997746 0.11220546699419365]\n",
      "a    0.464571\n",
      "b    0.149161\n",
      "c    0.250561\n",
      "d    0.657434\n",
      "e    0.112205\n",
      "Name: anon, dtype: float64\n"
     ]
    }
   ],
   "execution_count": 4
  },
  {
   "cell_type": "code",
   "id": "cae6c77e",
   "metadata": {
    "ExecuteTime": {
     "end_time": "2024-11-11T11:35:26.081059Z",
     "start_time": "2024-11-11T11:35:25.941565Z"
    }
   },
   "source": [
    "say s.map(*+2);\n",
    "say [+] s; \n",
    "say s >>+>> 2; \n",
    "say s >>+<< s; \n",
    "\n",
    "say s[2];\n",
    "say s<a>;\n",
    "\n",
    "say ~s;"
   ],
   "outputs": [
    {
     "name": "stdout",
     "output_type": "stream",
     "text": [
      "(2.464571400105422 2.149161392074693 2.2505609147443697 2.6574335034997745 2.112205466994194)\n",
      "5\n",
      "(2.464571400105422 2.149161392074693 2.2505609147443697 2.6574335034997745 2.112205466994194)\n",
      "(0.9291428002108439 0.2983227841493863 0.5011218294887394 1.3148670069995492 0.2244109339883873)\n",
      "0.2505609147443697\n",
      "0.46457140010542197\n",
      "a    0.464571\n",
      "b    0.149161\n",
      "c    0.250561\n",
      "d    0.657434\n",
      "e    0.112205\n",
      "Name: anon, dtype: float64\n"
     ]
    }
   ],
   "execution_count": 5
  },
  {
   "cell_type": "code",
   "id": "6eed345f",
   "metadata": {
    "ExecuteTime": {
     "end_time": "2024-11-11T11:35:27.021509Z",
     "start_time": "2024-11-11T11:35:26.928677Z"
    }
   },
   "source": [
    "s.splice(1,2,(j=>3));\n",
    "\n",
    "my \\t = Series.new( [x=>1, y=>0, z=>2] );\n",
    "s.concat: t;\n",
    "\n",
    "say ~s;"
   ],
   "outputs": [
    {
     "name": "stdout",
     "output_type": "stream",
     "text": [
      "a    0.464571\n",
      "j    3.000000\n",
      "d    0.657434\n",
      "e    0.112205\n",
      "x    1.000000\n",
      "y    0.000000\n",
      "z    2.000000\n",
      "Name: anon, dtype: float64\n"
     ]
    }
   ],
   "execution_count": 6
  },
  {
   "cell_type": "code",
   "id": "a53f3b14",
   "metadata": {
    "ExecuteTime": {
     "end_time": "2024-11-11T11:35:27.877387Z",
     "start_time": "2024-11-11T11:35:27.785932Z"
    }
   },
   "source": [
    "# The '.pd' method return value goes to STDOUT (so not visible on Jupyter notebooks for now)\n",
    "\n",
    "s.pd: '.shape';\n",
    "s.pd: '.flags';\n",
    "s.pd: '.T';\n",
    "s.pd: '.to_json(\"test.json\")';\n",
    "s.pd: '.to_csv(\"test.csv\")';\n",
    "s.pd: '.iloc[2] = 23';\n",
    "s.pd: '.iloc[2]';\n",
    "say ~s;"
   ],
   "outputs": [
    {
     "name": "stdout",
     "output_type": "stream",
     "text": [
      "a     0.464571\n",
      "j     3.000000\n",
      "d    23.000000\n",
      "e     0.112205\n",
      "x     1.000000\n",
      "y     0.000000\n",
      "z     2.000000\n",
      "Name: anon, dtype: float64\n"
     ]
    }
   ],
   "execution_count": 7
  },
  {
   "cell_type": "code",
   "id": "d9de375c",
   "metadata": {
    "ExecuteTime": {
     "end_time": "2024-11-11T11:35:29.624799Z",
     "start_time": "2024-11-11T11:35:29.488009Z"
    }
   },
   "source": [
    "# 2-arity pd methods\n",
    "say ~my \\quants = Series.new([100, 15, 50, 15, 25]);\n",
    "say ~my \\prices = Series.new([1.1, 4.3, 2.2, 7.41, 2.89]);\n",
    "\n",
    "my \\costs  = Series.new( quants >>*<< prices );\n",
    "\n",
    "#-or- the pandas way\n",
    "#my \\costs = quants;\n",
    "#costs.pd: '.mul', prices;\n",
    "\n",
    "say \"The costs are ...\";\n",
    "say ~costs;"
   ],
   "outputs": [
    {
     "name": "stdout",
     "output_type": "stream",
     "text": [
      "0    100\n",
      "1     15\n",
      "2     50\n",
      "3     15\n",
      "4     25\n",
      "Name: anon, dtype: int64\n",
      "0    1.10\n",
      "1    4.30\n",
      "2    2.20\n",
      "3    7.41\n",
      "4    2.89\n",
      "Name: anon, dtype: float64\n",
      "The costs are ...\n",
      "0    110.00\n",
      "1     64.50\n",
      "2    110.00\n",
      "3    111.15\n",
      "4     72.25\n",
      "Name: anon, dtype: float64\n"
     ]
    }
   ],
   "execution_count": 8
  },
  {
   "cell_type": "code",
   "id": "5808ff4a",
   "metadata": {
    "ExecuteTime": {
     "end_time": "2024-11-11T11:35:30.600952Z",
     "start_time": "2024-11-11T11:35:30.486944Z"
    }
   },
   "source": [
    "my \\u = s.Dan-Series;\n",
    "say u.^name;\n",
    "say ~u;\n",
    "\n",
    "my \\v = Series.new( u );\n",
    "say v.^name;\n",
    "say ~v;"
   ],
   "outputs": [
    {
     "name": "stdout",
     "output_type": "stream",
     "text": [
      "Dan::Series\n",
      "a\t0.46457140010542197\n",
      "j\t3\n",
      "d\t23\n",
      "e\t0.11220546699419365\n",
      "x\t1\n",
      "y\t0\n",
      "z\t2\n",
      "dtype: Num, name: anon\n",
      "\n",
      "Dan::Pandas::Series\n",
      "a     0.464571\n",
      "j     3.000000\n",
      "d    23.000000\n",
      "e     0.112205\n",
      "x     1.000000\n",
      "y     0.000000\n",
      "z     2.000000\n",
      "Name: anon, dtype: float64\n"
     ]
    }
   ],
   "execution_count": 9
  },
  {
   "cell_type": "markdown",
   "id": "25dea9b6",
   "metadata": {},
   "source": [
    "# DataFrames"
   ]
  },
  {
   "cell_type": "code",
   "id": "bc6ee5d9",
   "metadata": {
    "ExecuteTime": {
     "end_time": "2024-11-11T11:35:32.656915Z",
     "start_time": "2024-11-11T11:35:32.502663Z"
    }
   },
   "source": [
    "my \\dates = (Date.new(\"2022-01-01\"), *+1 ... *)[^6];\n",
    "my \\df = DataFrame.new( [[rand xx 4] xx 6], index => dates, columns => <A B C D> );\n",
    "#my \\df = DataFrame.new( [[rand xx 4] xx 6], columns => <A B C D> );\n",
    "#my \\df = DataFrame.new( [[rand xx 4] xx 6] );\n",
    "say ~df;"
   ],
   "outputs": [
    {
     "name": "stdout",
     "output_type": "stream",
     "text": [
      "                   A         B         C         D\n",
      "2022-01-01  0.304298  0.643539  0.817581  0.642453\n",
      "2022-01-02  0.870337  0.774799  0.091001  0.187374\n",
      "2022-01-03  0.436248  0.452533  0.018545  0.415136\n",
      "2022-01-04  0.000053  0.322624  0.336881  0.406626\n",
      "2022-01-05  0.758685  0.486635  0.544860  0.734653\n",
      "2022-01-06  0.304000  0.292401  0.340570  0.451728\n"
     ]
    }
   ],
   "execution_count": 10
  },
  {
   "cell_type": "code",
   "id": "bd30b629",
   "metadata": {
    "ExecuteTime": {
     "end_time": "2024-11-11T11:35:34.169225Z",
     "start_time": "2024-11-11T11:35:33.933983Z"
    }
   },
   "source": [
    "say \"---------------------------------------------\";\n",
    "\n",
    "# Data Accessors [row;col]\n",
    "say df[0;0];\n",
    "df[0;0] = 3;                # set value (not sure why this works, must manual push\n",
    "\n",
    "# Smart Accessors (mix Positional and Associative)\n",
    "say df[0][0];\n",
    "say df[0]<A>;\n",
    "say df{\"2022-01-03\"}[1];\n",
    "\n",
    "# Object Accessors & Slices (see note 1)\n",
    "say ~df[0];                 # 1d Row 0 (DataSlice)\n",
    "say ~df[*]<A>;              # 1d Col A (Series)\n",
    "say ~df[0..*-2][1..*-1];    # 2d DataFrame\n",
    "say ~df{dates[0..1]}^;      # the ^ postfix converts an Array of DataSlices into a new DataFrame"
   ],
   "outputs": [
    {
     "name": "stdout",
     "output_type": "stream",
     "text": [
      "---------------------------------------------\n",
      "0.30429802492797753\n",
      "3\n",
      "3\n",
      "0.4525328392324426\n",
      "A\t3\n",
      "B\t0.6435390657648895\n",
      "C\t0.8175811525088743\n",
      "D\t0.64245347232036\n",
      "name: 2022-01-01\n",
      "\n",
      "2022-01-01    0.304298\n",
      "2022-01-02    0.870337\n",
      "2022-01-03    0.436248\n",
      "2022-01-04    0.000053\n",
      "2022-01-05    0.758685\n",
      "2022-01-06    0.304000\n",
      "Name: A, dtype: float64\n",
      "                   B         C         D\n",
      "2022-01-01  0.643539  0.817581  0.642453\n",
      "2022-01-02  0.774799  0.091001  0.187374\n",
      "2022-01-03  0.452533  0.018545  0.415136\n",
      "2022-01-04  0.322624  0.336881  0.406626\n",
      "2022-01-05  0.486635  0.544860  0.734653\n",
      "                   A         B         C         D\n",
      "2022-01-01  0.304298  0.643539  0.817581  0.642453\n",
      "2022-01-02  0.870337  0.774799  0.091001  0.187374\n"
     ]
    }
   ],
   "execution_count": 11
  },
  {
   "cell_type": "code",
   "id": "9ed5a70e",
   "metadata": {
    "ExecuteTime": {
     "end_time": "2024-11-11T11:35:35.685448Z",
     "start_time": "2024-11-11T11:35:35.481297Z"
    }
   },
   "source": [
    "say \"---------------------------------------------\";\n",
    "### DataFrame Operations ###\n",
    "\n",
    "# 2d Map/Reduce\n",
    "say df.map(*.map(*+2).eager);\n",
    "say [+] df[*;1];\n",
    "say [+] df[1;*];\n",
    "say [+] df[*;*];\n",
    "\n",
    "# Hyper\n",
    "say df >>+>> 2;\n",
    "say df >>+<< df;\n",
    "\n",
    "# Describe\n",
    "say ~df[0..^3]^;            # head\n",
    "say ~df[(*-3..*-1)]^;       # tail\n",
    "say ~df.shape;"
   ],
   "outputs": [
    {
     "name": "stdout",
     "output_type": "stream",
     "text": [
      "---------------------------------------------\n",
      "((2.3042980249279776 2.6435390657648896 2.8175811525088745 2.64245347232036) (2.8703371873116903 2.7747989996650335 2.091000973591445 2.18737375303778) (2.436248117483734 2.4525328392324424 2.0185452178255163 2.415135569741857) (2.0000529665987585 2.322624387788441 2.3368806544437284 2.406625841112484) (2.758684918841529 2.4866345105907754 2.5448601900633223 2.7346531519353188) (2.303999564368639 2.292400686280815 2.340569565003881 2.4517282959593905))\n",
      "2.9725304893223976\n",
      "1.923510913605949\n",
      "10.633559106398685\n",
      "([2.3042980249279776 2.6435390657648896 2.8175811525088745 2.64245347232036] [2.8703371873116903 2.7747989996650335 2.091000973591445 2.18737375303778] [2.436248117483734 2.4525328392324424 2.0185452178255163 2.415135569741857] [2.0000529665987585 2.322624387788441 2.3368806544437284 2.406625841112484] [2.758684918841529 2.4866345105907754 2.5448601900633223 2.7346531519353188] [2.303999564368639 2.292400686280815 2.340569565003881 2.4517282959593905])\n",
      "([0.6085960498559551 1.287078131529779 1.6351623050177486 1.28490694464072] [1.7406743746233804 1.5495979993300673 0.18200194718288998 0.3747475060755605] [0.8724962349674672 0.9050656784648852 0.03709043565103243 0.8302711394837143] [0.00010593319751661667 0.6452487755768825 0.6737613088874563 0.8132516822249685] [1.5173698376830587 0.9732690211815505 1.089720380126645 1.4693063038706375] [0.6079991287372779 0.5848013725616299 0.6811391300077618 0.9034565919187809])\n",
      "                   A         B         C         D\n",
      "2022-01-01  0.304298  0.643539  0.817581  0.642453\n",
      "2022-01-02  0.870337  0.774799  0.091001  0.187374\n",
      "2022-01-03  0.436248  0.452533  0.018545  0.415136\n",
      "                   A         B         C         D\n",
      "2022-01-04  0.000053  0.322624  0.336881  0.406626\n",
      "2022-01-05  0.758685  0.486635  0.544860  0.734653\n",
      "2022-01-06  0.304000  0.292401  0.340570  0.451728\n",
      "6 4\n"
     ]
    }
   ],
   "execution_count": 12
  },
  {
   "cell_type": "code",
   "id": "8f387494",
   "metadata": {
    "ExecuteTime": {
     "end_time": "2024-11-11T11:35:36.934697Z",
     "start_time": "2024-11-11T11:35:36.772621Z"
    }
   },
   "source": [
    "# Describe\n",
    "\n",
    "# The usual '.describe' method on a Dan::Pandas::DataFrame goes to STDOUT (no STDOUT on Jupyter for now)\n",
    "# So here showing conversion to Dan::DataFrame (and then appying round to fit in the notebook cell)\n",
    "\n",
    "my $ddf = df.Dan-DataFrame.describe;\n",
    "$ddf.map(*.map({$_ .= round(0.001)}).eager);\n",
    "\n",
    "say ~$ddf;"
   ],
   "outputs": [
    {
     "name": "stdout",
     "output_type": "stream",
     "text": [
      "        A      B      C      D     \n",
      " count  6      6      6      6     \n",
      " mean   0.446  0.495  0.358  0.473 \n",
      " std    1.095  1.095  1.095  1.095 \n",
      " min    0      0.292  0.019  0.187 \n",
      " 25%    0.304  0.323  0.091  0.407 \n",
      " 50%    0.37   0.47   0.339  0.433 \n",
      " 75%    0.759  0.644  0.545  0.642 \n",
      " max    0.87   0.775  0.818  0.735 \n"
     ]
    }
   ],
   "execution_count": 13
  },
  {
   "cell_type": "code",
   "id": "69b7b6da",
   "metadata": {
    "ExecuteTime": {
     "end_time": "2024-11-11T11:35:37.997089Z",
     "start_time": "2024-11-11T11:35:37.814528Z"
    }
   },
   "source": [
    "# Sort\n",
    "\n",
    "say ~df.sort: { .[1] };         # sort by 2nd col (ascending)\n",
    "say ~df.sort: { -.[1] };        # sort by 2nd col (descending)\n",
    "say ~df.sort: { df[$++]<C> };   # sort by col C\n",
    "say ~df.sort: { df.ix[$++] };   # sort by index\n",
    "\n",
    "# Grep (binary filter)\n",
    "say ~df.grep( { .[1] < 0.5 } );                                # by 2nd column \n",
    "say ~df.grep( { df.ix[$++] eq <2022-01-02 2022-01-06>.any } ); # by index (multiple) "
   ],
   "outputs": [
    {
     "name": "stdout",
     "output_type": "stream",
     "text": [
      "                   A         B         C         D\n",
      "2022-01-06  0.304000  0.292401  0.340570  0.451728\n",
      "2022-01-04  0.000053  0.322624  0.336881  0.406626\n",
      "2022-01-03  0.436248  0.452533  0.018545  0.415136\n",
      "2022-01-05  0.758685  0.486635  0.544860  0.734653\n",
      "2022-01-01  0.304298  0.643539  0.817581  0.642453\n",
      "2022-01-02  0.870337  0.774799  0.091001  0.187374\n",
      "                   A         B         C         D\n",
      "2022-01-02  0.870337  0.774799  0.091001  0.187374\n",
      "2022-01-01  0.304298  0.643539  0.817581  0.642453\n",
      "2022-01-05  0.758685  0.486635  0.544860  0.734653\n",
      "2022-01-03  0.436248  0.452533  0.018545  0.415136\n",
      "2022-01-04  0.000053  0.322624  0.336881  0.406626\n",
      "2022-01-06  0.304000  0.292401  0.340570  0.451728\n",
      "                   A         B         C         D\n",
      "2022-01-03  0.436248  0.452533  0.018545  0.415136\n",
      "2022-01-02  0.870337  0.774799  0.091001  0.187374\n",
      "2022-01-04  0.000053  0.322624  0.336881  0.406626\n",
      "2022-01-06  0.304000  0.292401  0.340570  0.451728\n",
      "2022-01-05  0.758685  0.486635  0.544860  0.734653\n",
      "2022-01-01  0.304298  0.643539  0.817581  0.642453\n",
      "                   A         B         C         D\n",
      "2022-01-01  0.304298  0.643539  0.817581  0.642453\n",
      "2022-01-02  0.870337  0.774799  0.091001  0.187374\n",
      "2022-01-03  0.436248  0.452533  0.018545  0.415136\n",
      "2022-01-04  0.000053  0.322624  0.336881  0.406626\n",
      "2022-01-05  0.758685  0.486635  0.544860  0.734653\n",
      "2022-01-06  0.304000  0.292401  0.340570  0.451728\n",
      "                   A         B         C         D\n",
      "2022-01-03  0.436248  0.452533  0.018545  0.415136\n",
      "2022-01-04  0.000053  0.322624  0.336881  0.406626\n",
      "2022-01-05  0.758685  0.486635  0.544860  0.734653\n",
      "2022-01-06  0.304000  0.292401  0.340570  0.451728\n",
      "                   A         B         C         D\n",
      "2022-01-02  0.870337  0.774799  0.091001  0.187374\n",
      "2022-01-06  0.304000  0.292401  0.340570  0.451728\n"
     ]
    }
   ],
   "execution_count": 14
  },
  {
   "cell_type": "code",
   "id": "dfffffd1",
   "metadata": {
    "ExecuteTime": {
     "end_time": "2024-11-11T11:35:38.996705Z",
     "start_time": "2024-11-11T11:35:38.915982Z"
    }
   },
   "source": [
    "# Transpose\n",
    "say ~df.T;"
   ],
   "outputs": [
    {
     "name": "stdout",
     "output_type": "stream",
     "text": [
      "   2022-01-01  2022-01-02  2022-01-03  2022-01-04  2022-01-05  2022-01-06\n",
      "A    0.304298    0.870337    0.436248    0.000053    0.758685    0.304000\n",
      "B    0.643539    0.774799    0.452533    0.322624    0.486635    0.292401\n",
      "C    0.817581    0.091001    0.018545    0.336881    0.544860    0.340570\n",
      "D    0.642453    0.187374    0.415136    0.406626    0.734653    0.451728\n"
     ]
    }
   ],
   "execution_count": 15
  },
  {
   "cell_type": "code",
   "id": "e6efd083",
   "metadata": {
    "ExecuteTime": {
     "end_time": "2024-11-11T11:35:40.136304Z",
     "start_time": "2024-11-11T11:35:40.011701Z"
    }
   },
   "source": [
    "my \\df2 = DataFrame.new([\n",
    "        A => 1.0,\n",
    "        B => Date.new(\"2022-01-01\"),\n",
    "        C => Series.new(1, index => [0..^4], dtype => Num),\n",
    "        D => [3 xx 4],\n",
    "        E => Categorical.new(<test train test train>),\n",
    "        F => \"foo\",\n",
    "]);\n",
    "say ~df2;"
   ],
   "outputs": [
    {
     "name": "stdout",
     "output_type": "stream",
     "text": [
      "   A           B  C  D      E    F\n",
      "0  1  2022-01-01  1  3   test  foo\n",
      "1  1  2022-01-01  1  3  train  foo\n",
      "2  1  2022-01-01  1  3   test  foo\n",
      "3  1  2022-01-01  1  3  train  foo\n"
     ]
    },
    {
     "name": "stderr",
     "output_type": "stream",
     "text": [
      "WARNING: unhandled Failure detected in DESTROY. If you meant to ignore it, you can mark it as handled by calling .Bool, .so, .not, or .defined methods. The Failure was:\n",
      "No such symbol '<class 'numpy.int64'>'\n",
      "  in block  at /home/jovyan/rakudo/share/perl6/site/sources/EFE03BC52191EF460A9C342E877748975B25BE9F line 545\n",
      "  in block  at /home/jovyan/rakudo/share/perl6/site/sources/EFE03BC52191EF460A9C342E877748975B25BE9F line 543\n",
      "  in block  at /home/jovyan/rakudo/share/perl6/site/sources/EFE03BC52191EF460A9C342E877748975B25BE9F line 540\n",
      "  in method TWEAK at /home/jovyan/rakudo/share/perl6/site/sources/EFE03BC52191EF460A9C342E877748975B25BE9F line 526\n",
      "  in method new at /home/jovyan/rakudo/share/perl6/site/sources/EFE03BC52191EF460A9C342E877748975B25BE9F line 390\n",
      "  in block <unit> at <unknown file> line 1\n",
      "  in method eval at /home/jovyan/rakudo/share/perl6/site/sources/74AA6DDBC8280858255D688407E000D7C90E37CB (Jupyter::Kernel::Sandbox) line 130\n",
      "  in code  at /home/jovyan/rakudo/share/perl6/site/sources/8AEA34FC7C91148230D41502339A68FA168FF7E5 (Jupyter::Kernel) line 147\n",
      "\n"
     ]
    }
   ],
   "execution_count": 16
  },
  {
   "cell_type": "code",
   "id": "a798c9aa",
   "metadata": {
    "ExecuteTime": {
     "end_time": "2024-11-11T11:35:42.264900Z",
     "start_time": "2024-11-11T11:35:42.156567Z"
    }
   },
   "source": [
    "# row-wise splice:\n",
    "\n",
    "my $ds = df2[0];                        # get a DataSlice \n",
    "$ds.splice($ds.index<A>,1,[A => 7]);    # tweak it a bit\n",
    "df2.splice( 1, 2, [j => $ds] );         # row-wise is the default (axis => 0)\n",
    "\n",
    "say 'only run this cell once!';"
   ],
   "outputs": [
    {
     "name": "stdout",
     "output_type": "stream",
     "text": [
      "only run this cell once!\n"
     ]
    }
   ],
   "execution_count": 17
  },
  {
   "cell_type": "code",
   "id": "5020f40d",
   "metadata": {
    "ExecuteTime": {
     "end_time": "2024-11-11T11:35:43.708340Z",
     "start_time": "2024-11-11T11:35:43.597733Z"
    }
   },
   "source": [
    "# column-wise splice:\n",
    "\n",
    "my $se = df2[*]<D>;                     # get a Series \n",
    "$se.splice(2,1,[3 => 8] );              # tweak it a bit\n",
    "df2.splice( :ax, 1, 2, [K => $se] );    # axis => 1\n",
    "\n",
    "say 'only run this cell once!';"
   ],
   "outputs": [
    {
     "name": "stdout",
     "output_type": "stream",
     "text": [
      "only run this cell once!\n"
     ]
    }
   ],
   "execution_count": 18
  },
  {
   "cell_type": "code",
   "id": "258b4b10",
   "metadata": {
    "ExecuteTime": {
     "end_time": "2024-11-11T11:35:44.789801Z",
     "start_time": "2024-11-11T11:35:44.669185Z"
    }
   },
   "source": [
    "say ~df2;\n",
    "\n",
    "say df2.data;\n",
    "say df2.dtypes;\n",
    "say df2.index;    #Hash (name => row number)   -or- df.ix; #Array\n",
    "say df2.columns;  #Hash (label => col number)  -or- df.cx; #Array"
   ],
   "outputs": [
    {
     "name": "stdout",
     "output_type": "stream",
     "text": [
      "   A  K  D      E    F\n",
      "0  1  3  3   test  foo\n",
      "j  7  3  3   test  foo\n",
      "3  1  8  3  train  foo\n",
      "[[1 3 3 test foo] [7 3 3 test foo] [1 8 3 train foo]]\n",
      "(Any)\n",
      "{0 => 0, 3 => 2, j => 1}\n",
      "{A => 0, D => 2, E => 3, F => 4, K => 1}\n"
     ]
    }
   ],
   "execution_count": 19
  },
  {
   "cell_type": "code",
   "id": "4ff381d1",
   "metadata": {
    "ExecuteTime": {
     "end_time": "2024-11-11T11:35:46.424272Z",
     "start_time": "2024-11-11T11:35:46.240344Z"
    }
   },
   "source": [
    "my \\dfa = DataFrame.new(\n",
    "        [['a', 1], ['b', 2]],\n",
    "        columns => <letter number>,\n",
    ");\n",
    "say ~dfa;\n",
    "\n",
    "my \\dfc = DataFrame.new(\n",
    "        [['c', 3, 'cat'], ['d', 4, 'dog']],\n",
    "        columns => <animal letter number>,\n",
    ");\n",
    "say ~dfc;\n",
    "\n",
    "say \"---------------------------------------------\";\n",
    "dfa.concat(dfc);\n",
    "say ~dfa;"
   ],
   "outputs": [
    {
     "name": "stdout",
     "output_type": "stream",
     "text": [
      "  letter  number\n",
      "0      a       1\n",
      "1      b       2\n",
      "  animal  letter number\n",
      "0      c       3    cat\n",
      "1      d       4    dog\n",
      "---------------------------------------------\n",
      "    letter number  animal\n",
      "0        a      1     NaN\n",
      "1        b      2     NaN\n",
      "0⋅1    cat      c     3.0\n",
      "1⋅1    dog      d     4.0\n"
     ]
    }
   ],
   "execution_count": 20
  },
  {
   "cell_type": "code",
   "id": "05be9f77",
   "metadata": {
    "ExecuteTime": {
     "end_time": "2024-11-11T11:35:48.068495Z",
     "start_time": "2024-11-11T11:35:47.973236Z"
    }
   },
   "source": [
    "# The '.pd' method return value goes to STDOUT (so not visible on Jupyter notebooks for now)\n",
    "\n",
    "df.pd: '.shape';\n",
    "df.pd: '.flags';\n",
    "df.pd: '.T';\n",
    "df.pd: '.to_json(\"test.json\")';\n",
    "df.pd: '.to_csv(\"test.csv\")';\n",
    "df.pd: '.iloc[2] = 23';\n",
    "df.pd: '.iloc[2]';\n",
    "\n",
    "say ~df;"
   ],
   "outputs": [
    {
     "name": "stdout",
     "output_type": "stream",
     "text": [
      "   2022-01-01  2022-01-02  2022-01-03  2022-01-04  2022-01-05  2022-01-06\n",
      "A    0.304298    0.870337    0.436248    0.000053    0.758685    0.304000\n",
      "B    0.643539    0.774799    0.452533    0.322624    0.486635    0.292401\n",
      "C    0.817581    0.091001    0.018545    0.336881    0.544860    0.340570\n",
      "D    0.642453    0.187374    0.415136    0.406626    0.734653    0.451728\n"
     ]
    }
   ],
   "execution_count": 21
  },
  {
   "cell_type": "code",
   "execution_count": null,
   "id": "9dc7fdef",
   "metadata": {},
   "outputs": [],
   "source": []
  }
 ],
 "metadata": {
  "kernelspec": {
   "display_name": "Raku",
   "language": "raku",
   "name": "raku"
  },
  "language_info": {
   "file_extension": ".raku",
   "mimetype": "text/plain",
   "name": "raku",
   "version": "6.d"
  }
 },
 "nbformat": 4,
 "nbformat_minor": 5
}
