{
 "cells": [
  {
   "cell_type": "code",
   "execution_count": 1,
   "id": "4cdb61c5",
   "metadata": {},
   "outputs": [],
   "source": [
    "use Dan;\n",
    "use Dan::Pandas;"
   ]
  },
  {
   "cell_type": "markdown",
   "id": "2d35656c",
   "metadata": {},
   "source": [
    "# Series"
   ]
  },
  {
   "cell_type": "code",
   "execution_count": 2,
   "id": "ef8775c0",
   "metadata": {},
   "outputs": [
    {
     "name": "stdout",
     "output_type": "stream",
     "text": [
      "a    0.329679\n",
      "b    0.708751\n",
      "c    0.673161\n",
      "d    0.128299\n",
      "e    0.850226\n",
      "Name: anon, dtype: float64\n"
     ]
    }
   ],
   "source": [
    "my \\s = $;\n",
    "#my $index = {:a(0), :b(1), :c(2), :d(3), :e(4), :f(5)};\n",
    "#s = Series.new(data => [1, 3, 5, NaN, 6, 8], :$index, name => 'john' );\n",
    "#s = Series.new(data => [1, 3, 5, NaN, 6, 8], index => <a b c d e f>, name => 'john' );\n",
    "#s = Series.new(data => [1, 3, 5, NaN, 6, 8]);\n",
    "#s = Series.new([1, 3, 5, 6, 8]);\n",
    "#s = Series.new([1, 3, 5, NaN, 6, 8]);\n",
    "s = Series.new( [rand xx 5], index => <a b c d e>);\n",
    "#s = Series.new( [b=>1, a=>0, c=>2] );               #from Array of Pairs\n",
    "say ~s; "
   ]
  },
  {
   "cell_type": "code",
   "execution_count": 3,
   "id": "27bd55d1",
   "metadata": {},
   "outputs": [
    {
     "name": "stdout",
     "output_type": "stream",
     "text": [
      "<class 'numpy.float64'>\n",
      "[a b c d e]\n",
      "{a => 0, b => 1, c => 2, d => 3, e => 4}\n",
      "d    0.128299\n",
      "e    0.850226\n",
      "f         NaN\n",
      "g         NaN\n",
      "h         NaN\n",
      "i         NaN\n",
      "Name: anon, dtype: float64\n",
      "5\n",
      "[0.3296793855359199 0.7087509499584729 0.6731613675302677 0.12829909670229056 0.8502264847273964]\n",
      "a    0.329679\n",
      "b    0.708751\n",
      "c    0.673161\n",
      "d    0.128299\n",
      "e    0.850226\n",
      "Name: anon, dtype: float64\n"
     ]
    }
   ],
   "source": [
    "say s.dtype;\n",
    "say s.ix;\n",
    "say s.index;\n",
    "say ~s.reindex(['d','e','f','g','h','i']);\n",
    "say s.elems;\n",
    "say s.pull;\n",
    "say ~s;"
   ]
  },
  {
   "cell_type": "code",
   "execution_count": 4,
   "id": "cae6c77e",
   "metadata": {},
   "outputs": [
    {
     "name": "stdout",
     "output_type": "stream",
     "text": [
      "(2.32967938553592 2.708750949958473 2.673161367530268 2.128299096702291 2.850226484727396)\n",
      "2.690117284454347\n",
      "(2.32967938553592 2.708750949958473 2.673161367530268 2.128299096702291 2.850226484727396)\n",
      "(0.6593587710718398 1.4175018999169458 1.3463227350605353 0.2565981934045811 1.7004529694547927)\n",
      "0.6731613675302677\n",
      "0.3296793855359199\n",
      "a    0.329679\n",
      "b    0.708751\n",
      "c    0.673161\n",
      "d    0.128299\n",
      "e    0.850226\n",
      "Name: anon, dtype: float64\n"
     ]
    }
   ],
   "source": [
    "say s.map(*+2);\n",
    "say [+] s; \n",
    "say s >>+>> 2; \n",
    "say s >>+<< s; \n",
    "\n",
    "say s[2];\n",
    "say s<a>;\n",
    "\n",
    "say ~s;"
   ]
  },
  {
   "cell_type": "code",
   "execution_count": 5,
   "id": "6eed345f",
   "metadata": {},
   "outputs": [
    {
     "name": "stdout",
     "output_type": "stream",
     "text": [
      "a    0.329679\n",
      "j    3.000000\n",
      "d    0.128299\n",
      "e    0.850226\n",
      "x    1.000000\n",
      "y    0.000000\n",
      "z    2.000000\n",
      "Name: anon, dtype: float64\n"
     ]
    }
   ],
   "source": [
    "s.splice(1,2,(j=>3));\n",
    "\n",
    "my \\t = Series.new( [x=>1, y=>0, z=>2] );\n",
    "s.concat: t;\n",
    "\n",
    "say ~s;"
   ]
  },
  {
   "cell_type": "code",
   "execution_count": 6,
   "id": "a53f3b14",
   "metadata": {},
   "outputs": [
    {
     "name": "stdout",
     "output_type": "stream",
     "text": [
      "a     0.329679\n",
      "j     3.000000\n",
      "d    23.000000\n",
      "e     0.850226\n",
      "x     1.000000\n",
      "y     0.000000\n",
      "z     2.000000\n",
      "Name: anon, dtype: float64\n"
     ]
    }
   ],
   "source": [
    "# The '.pd' method return value goes to STDOUT (so not visible on Jupyter notebooks for now)\n",
    "\n",
    "s.pd: '.shape';\n",
    "s.pd: '.flags';\n",
    "s.pd: '.T';\n",
    "s.pd: '.to_json(\"test.json\")';\n",
    "s.pd: '.to_csv(\"test.csv\")';\n",
    "s.pd: '.iloc[2] = 23';\n",
    "s.pd: '.iloc[2]';\n",
    "say ~s;"
   ]
  },
  {
   "cell_type": "code",
   "execution_count": 7,
   "id": "d9de375c",
   "metadata": {},
   "outputs": [
    {
     "name": "stdout",
     "output_type": "stream",
     "text": [
      "0    100\n",
      "1     15\n",
      "2     50\n",
      "3     15\n",
      "4     25\n",
      "Name: anon, dtype: int64\n",
      "0    1.10\n",
      "1    4.30\n",
      "2    2.20\n",
      "3    7.41\n",
      "4    2.89\n",
      "Name: anon, dtype: float64\n",
      "The costs are ...\n",
      "0    110.00\n",
      "1     64.50\n",
      "2    110.00\n",
      "3    111.15\n",
      "4     72.25\n",
      "Name: anon, dtype: float64\n"
     ]
    }
   ],
   "source": [
    "# 2-arity pd methods\n",
    "say ~my \\quants = Series.new([100, 15, 50, 15, 25]);\n",
    "say ~my \\prices = Series.new([1.1, 4.3, 2.2, 7.41, 2.89]);\n",
    "\n",
    "my \\costs  = Series.new( quants >>*<< prices );\n",
    "\n",
    "#-or- the pandas way\n",
    "#my \\costs = quants;\n",
    "#costs.pd: '.mul', prices;\n",
    "\n",
    "say \"The costs are ...\";\n",
    "say ~costs;"
   ]
  },
  {
   "cell_type": "code",
   "execution_count": 8,
   "id": "5808ff4a",
   "metadata": {},
   "outputs": [
    {
     "name": "stdout",
     "output_type": "stream",
     "text": [
      "Dan::Series\n",
      "a\t0.3296793855359199\n",
      "j\t3\n",
      "d\t23\n",
      "e\t0.8502264847273964\n",
      "x\t1\n",
      "y\t0\n",
      "z\t2\n",
      "dtype: Num, name: anon\n",
      "\n",
      "Dan::Pandas::Series\n",
      "a     0.329679\n",
      "j     3.000000\n",
      "d    23.000000\n",
      "e     0.850226\n",
      "x     1.000000\n",
      "y     0.000000\n",
      "z     2.000000\n",
      "Name: anon, dtype: float64\n"
     ]
    }
   ],
   "source": [
    "my \\u = s.Dan-Series;\n",
    "say u.^name;\n",
    "say ~u;\n",
    "\n",
    "my \\v = Series.new( u );\n",
    "say v.^name;\n",
    "say ~v;"
   ]
  },
  {
   "cell_type": "markdown",
   "id": "25dea9b6",
   "metadata": {},
   "source": [
    "# DataFrames"
   ]
  },
  {
   "cell_type": "code",
   "execution_count": 9,
   "id": "bc6ee5d9",
   "metadata": {},
   "outputs": [
    {
     "name": "stdout",
     "output_type": "stream",
     "text": [
      "                   A         B         C         D\n",
      "2022-01-01  0.886596  0.481328  0.082735  0.588038\n",
      "2022-01-02  0.807890  0.926926  0.784662  0.804403\n",
      "2022-01-03  0.352600  0.056232  0.812881  0.814919\n",
      "2022-01-04  0.913957  0.999846  0.743154  0.126271\n",
      "2022-01-05  0.473774  0.140734  0.298773  0.753436\n",
      "2022-01-06  0.433412  0.783020  0.086205  0.841120\n"
     ]
    }
   ],
   "source": [
    "my \\dates = (Date.new(\"2022-01-01\"), *+1 ... *)[^6];\n",
    "my \\df = DataFrame.new( [[rand xx 4] xx 6], index => dates, columns => <A B C D> );\n",
    "#my \\df = DataFrame.new( [[rand xx 4] xx 6], columns => <A B C D> );\n",
    "#my \\df = DataFrame.new( [[rand xx 4] xx 6] );\n",
    "say ~df;"
   ]
  },
  {
   "cell_type": "code",
   "execution_count": 10,
   "id": "bd30b629",
   "metadata": {},
   "outputs": [
    {
     "name": "stdout",
     "output_type": "stream",
     "text": [
      "---------------------------------------------\n",
      "0.8865957723145074\n",
      "3\n",
      "3\n",
      "0.05623202998785437\n",
      "A\t3\n",
      "B\t0.4813281945638903\n",
      "C\t0.08273503387836145\n",
      "D\t0.5880378336096007\n",
      "name: 2022-01-01\n",
      "\n",
      "2022-01-01    0.886596\n",
      "2022-01-02    0.807890\n",
      "2022-01-03    0.352600\n",
      "2022-01-04    0.913957\n",
      "2022-01-05    0.473774\n",
      "2022-01-06    0.433412\n",
      "Name: A, dtype: float64\n",
      "                   B         C         D\n",
      "2022-01-01  0.481328  0.082735  0.588038\n",
      "2022-01-02  0.926926  0.784662  0.804403\n",
      "2022-01-03  0.056232  0.812881  0.814919\n",
      "2022-01-04  0.999846  0.743154  0.126271\n",
      "2022-01-05  0.140734  0.298773  0.753436\n",
      "                   A         B         C         D\n",
      "2022-01-01  0.886596  0.481328  0.082735  0.588038\n",
      "2022-01-02  0.807890  0.926926  0.784662  0.804403\n"
     ]
    }
   ],
   "source": [
    "say \"---------------------------------------------\";\n",
    "\n",
    "# Data Accessors [row;col]\n",
    "say df[0;0];\n",
    "df[0;0] = 3;                # set value (not sure why this works, must manual push\n",
    "\n",
    "# Smart Accessors (mix Positional and Associative)\n",
    "say df[0][0];\n",
    "say df[0]<A>;\n",
    "say df{\"2022-01-03\"}[1];\n",
    "\n",
    "# Object Accessors & Slices (see note 1)\n",
    "say ~df[0];                 # 1d Row 0 (DataSlice)\n",
    "say ~df[*]<A>;              # 1d Col A (Series)\n",
    "say ~df[0..*-2][1..*-1];    # 2d DataFrame\n",
    "say ~df{dates[0..1]}^;      # the ^ postfix converts an Array of DataSlices into a new DataFrame"
   ]
  },
  {
   "cell_type": "code",
   "execution_count": 11,
   "id": "9ed5a70e",
   "metadata": {},
   "outputs": [
    {
     "name": "stdout",
     "output_type": "stream",
     "text": [
      "---------------------------------------------\n",
      "((2.8865957723145073 2.4813281945638903 2.0827350338783615 2.588037833609601) (2.807889943514838 2.9269259827541196 2.784661744867863 2.8044031579164233) (2.352599549710464 2.0562320299878545 2.8128813495153717 2.8149186211797463) (2.9139565816070414 2.9998457471753177 2.743154250644695 2.1262709969425955) (2.4737739024834857 2.140734320848792 2.298773030035069 2.753436032320267) (2.433411642327835 2.783020380183304 2.0862050978738873 2.841119990593169))\n",
      "3.3880866555132787\n",
      "3.3238808290532442\n",
      "13.992911186848497\n",
      "([2.8865957723145073 2.4813281945638903 2.0827350338783615 2.588037833609601] [2.807889943514838 2.9269259827541196 2.784661744867863 2.8044031579164233] [2.352599549710464 2.0562320299878545 2.8128813495153717 2.8149186211797463] [2.9139565816070414 2.9998457471753177 2.743154250644695 2.1262709969425955] [2.4737739024834857 2.140734320848792 2.298773030035069 2.753436032320267] [2.433411642327835 2.783020380183304 2.0862050978738873 2.841119990593169])\n",
      "([1.7731915446290147 0.9626563891277806 0.1654700677567229 1.1760756672192014] [1.6157798870296767 1.8538519655082393 1.5693234897357264 1.6088063158328463] [0.7051990994209276 0.11246405997570874 1.6257626990307437 1.6298372423594925] [1.827913163214083 1.9996914943506359 1.4863085012893895 0.2525419938851907] [0.9475478049669714 0.2814686416975838 0.5975460600701374 1.5068720646405342] [0.8668232846556703 1.5660407603666076 0.17241019574777416 1.6822399811863389])\n",
      "                   A         B         C         D\n",
      "2022-01-01  0.886596  0.481328  0.082735  0.588038\n",
      "2022-01-02  0.807890  0.926926  0.784662  0.804403\n",
      "2022-01-03  0.352600  0.056232  0.812881  0.814919\n",
      "                   A         B         C         D\n",
      "2022-01-04  0.913957  0.999846  0.743154  0.126271\n",
      "2022-01-05  0.473774  0.140734  0.298773  0.753436\n",
      "2022-01-06  0.433412  0.783020  0.086205  0.841120\n",
      "6 4\n"
     ]
    }
   ],
   "source": [
    "say \"---------------------------------------------\";\n",
    "### DataFrame Operations ###\n",
    "\n",
    "# 2d Map/Reduce\n",
    "say df.map(*.map(*+2).eager);\n",
    "say [+] df[*;1];\n",
    "say [+] df[1;*];\n",
    "say [+] df[*;*];\n",
    "\n",
    "# Hyper\n",
    "say df >>+>> 2;\n",
    "say df >>+<< df;\n",
    "\n",
    "# Describe\n",
    "say ~df[0..^3]^;            # head\n",
    "say ~df[(*-3..*-1)]^;       # tail\n",
    "say ~df.shape;"
   ]
  },
  {
   "cell_type": "code",
   "execution_count": 12,
   "id": "8f387494",
   "metadata": {},
   "outputs": [
    {
     "name": "stdout",
     "output_type": "stream",
     "text": [
      "        A      B      C      D     \n",
      " count  6      6      6      6     \n",
      " mean   0.645  0.565  0.468  0.655 \n",
      " std    1.095  1.095  1.095  1.095 \n",
      " min    0.353  0.056  0.083  0.126 \n",
      " 25%    0.433  0.141  0.086  0.588 \n",
      " 50%    0.641  0.632  0.521  0.779 \n",
      " 75%    0.887  0.927  0.785  0.815 \n",
      " max    0.914  1      0.813  0.841 \n"
     ]
    }
   ],
   "source": [
    "# Describe\n",
    "\n",
    "# The usual '.describe' method on a Dan::Pandas::DataFrame goes to STDOUT (no STDOUT on Jupyter for now)\n",
    "# So here showing conversion to Dan::DataFrame (and then appying round to fit in the notebook cell)\n",
    "\n",
    "my $ddf = df.Dan-DataFrame.describe;\n",
    "$ddf.map(*.map({$_ .= round(0.001)}).eager);\n",
    "\n",
    "say ~$ddf;"
   ]
  },
  {
   "cell_type": "code",
   "execution_count": 13,
   "id": "69b7b6da",
   "metadata": {},
   "outputs": [
    {
     "name": "stdout",
     "output_type": "stream",
     "text": [
      "                   A         B         C         D\n",
      "2022-01-03  0.352600  0.056232  0.812881  0.814919\n",
      "2022-01-05  0.473774  0.140734  0.298773  0.753436\n",
      "2022-01-01  0.886596  0.481328  0.082735  0.588038\n",
      "2022-01-06  0.433412  0.783020  0.086205  0.841120\n",
      "2022-01-02  0.807890  0.926926  0.784662  0.804403\n",
      "2022-01-04  0.913957  0.999846  0.743154  0.126271\n",
      "                   A         B         C         D\n",
      "2022-01-04  0.913957  0.999846  0.743154  0.126271\n",
      "2022-01-02  0.807890  0.926926  0.784662  0.804403\n",
      "2022-01-06  0.433412  0.783020  0.086205  0.841120\n",
      "2022-01-01  0.886596  0.481328  0.082735  0.588038\n",
      "2022-01-05  0.473774  0.140734  0.298773  0.753436\n",
      "2022-01-03  0.352600  0.056232  0.812881  0.814919\n",
      "                   A         B         C         D\n",
      "2022-01-01  0.886596  0.481328  0.082735  0.588038\n",
      "2022-01-06  0.433412  0.783020  0.086205  0.841120\n",
      "2022-01-05  0.473774  0.140734  0.298773  0.753436\n",
      "2022-01-04  0.913957  0.999846  0.743154  0.126271\n",
      "2022-01-02  0.807890  0.926926  0.784662  0.804403\n",
      "2022-01-03  0.352600  0.056232  0.812881  0.814919\n",
      "                   A         B         C         D\n",
      "2022-01-01  0.886596  0.481328  0.082735  0.588038\n",
      "2022-01-02  0.807890  0.926926  0.784662  0.804403\n",
      "2022-01-03  0.352600  0.056232  0.812881  0.814919\n",
      "2022-01-04  0.913957  0.999846  0.743154  0.126271\n",
      "2022-01-05  0.473774  0.140734  0.298773  0.753436\n",
      "2022-01-06  0.433412  0.783020  0.086205  0.841120\n",
      "                   A         B         C         D\n",
      "2022-01-01  0.886596  0.481328  0.082735  0.588038\n",
      "2022-01-03  0.352600  0.056232  0.812881  0.814919\n",
      "2022-01-05  0.473774  0.140734  0.298773  0.753436\n",
      "                   A         B         C         D\n",
      "2022-01-02  0.807890  0.926926  0.784662  0.804403\n",
      "2022-01-06  0.433412  0.783020  0.086205  0.841120\n"
     ]
    }
   ],
   "source": [
    "# Sort\n",
    "\n",
    "say ~df.sort: { .[1] };         # sort by 2nd col (ascending)\n",
    "say ~df.sort: { -.[1] };        # sort by 2nd col (descending)\n",
    "say ~df.sort: { df[$++]<C> };   # sort by col C\n",
    "say ~df.sort: { df.ix[$++] };   # sort by index\n",
    "\n",
    "# Grep (binary filter)\n",
    "say ~df.grep( { .[1] < 0.5 } );                                # by 2nd column \n",
    "say ~df.grep( { df.ix[$++] eq <2022-01-02 2022-01-06>.any } ); # by index (multiple) "
   ]
  },
  {
   "cell_type": "code",
   "execution_count": 14,
   "id": "dfffffd1",
   "metadata": {},
   "outputs": [
    {
     "name": "stdout",
     "output_type": "stream",
     "text": [
      "   2022-01-01  2022-01-02  2022-01-03  2022-01-04  2022-01-05  2022-01-06\n",
      "A    0.886596    0.807890    0.352600    0.913957    0.473774    0.433412\n",
      "B    0.481328    0.926926    0.056232    0.999846    0.140734    0.783020\n",
      "C    0.082735    0.784662    0.812881    0.743154    0.298773    0.086205\n",
      "D    0.588038    0.804403    0.814919    0.126271    0.753436    0.841120\n"
     ]
    }
   ],
   "source": [
    "# Transpose\n",
    "say ~df.T;"
   ]
  },
  {
   "cell_type": "code",
   "execution_count": 15,
   "id": "e6efd083",
   "metadata": {},
   "outputs": [
    {
     "name": "stdout",
     "output_type": "stream",
     "text": [
      "   A           B  C  D      E    F\n",
      "0  1  2022-01-01  1  3   test  foo\n",
      "1  1  2022-01-01  1  3  train  foo\n",
      "2  1  2022-01-01  1  3   test  foo\n",
      "3  1  2022-01-01  1  3  train  foo\n"
     ]
    },
    {
     "name": "stderr",
     "output_type": "stream",
     "text": [
      "WARNING: unhandled Failure detected in DESTROY. If you meant to ignore it, you can mark it as handled by calling .Bool, .so, .not, or .defined methods. The Failure was:\n",
      "No such symbol '<class 'numpy.int64'>'\n",
      "  in block  at /usr/share/perl6/site/sources/A0EFFE63B40BC04CD8EB78CDCC7B22971E653B3A (Dan::Pandas) line 535\n",
      "  in block  at /usr/share/perl6/site/sources/A0EFFE63B40BC04CD8EB78CDCC7B22971E653B3A (Dan::Pandas) line 533\n",
      "  in block  at /usr/share/perl6/site/sources/A0EFFE63B40BC04CD8EB78CDCC7B22971E653B3A (Dan::Pandas) line 530\n",
      "  in method TWEAK at /usr/share/perl6/site/sources/A0EFFE63B40BC04CD8EB78CDCC7B22971E653B3A (Dan::Pandas) line 516\n",
      "  in method new at /usr/share/perl6/site/sources/A0EFFE63B40BC04CD8EB78CDCC7B22971E653B3A (Dan::Pandas) line 380\n",
      "  in block <unit> at <unknown file> line 1\n",
      "  in method eval at /usr/share/perl6/site/sources/FA76AD37A6E13534BC3F1D3E5089BFFB787F4AD0 (Jupyter::Kernel::Sandbox) line 122\n",
      "  in code  at /usr/share/perl6/site/sources/42B1B7A6224CD62005B68B1EDFDE88F919C1BE32 (Jupyter::Kernel) line 146\n",
      "\n"
     ]
    }
   ],
   "source": [
    "my \\df2 = DataFrame.new([\n",
    "        A => 1.0,\n",
    "        B => Date.new(\"2022-01-01\"),\n",
    "        C => Series.new(1, index => [0..^4], dtype => Num),\n",
    "        D => [3 xx 4],\n",
    "        E => Categorical.new(<test train test train>),\n",
    "        F => \"foo\",\n",
    "]);\n",
    "say ~df2;"
   ]
  },
  {
   "cell_type": "code",
   "execution_count": 16,
   "id": "a798c9aa",
   "metadata": {},
   "outputs": [
    {
     "name": "stdout",
     "output_type": "stream",
     "text": [
      "only run this cell once!\n"
     ]
    }
   ],
   "source": [
    "# row-wise splice:\n",
    "\n",
    "my $ds = df2[0];                        # get a DataSlice \n",
    "$ds.splice($ds.index<A>,1,[A => 7]);    # tweak it a bit\n",
    "df2.splice( 1, 2, [j => $ds] );         # row-wise is the default (axis => 0)\n",
    "\n",
    "say 'only run this cell once!';"
   ]
  },
  {
   "cell_type": "code",
   "execution_count": 17,
   "id": "5020f40d",
   "metadata": {},
   "outputs": [
    {
     "name": "stdout",
     "output_type": "stream",
     "text": [
      "Dan::Pandas::Series.new(name => \"D\", data => Array[Any].new(3, 3, 8), po => Inline::Python::PythonObject.new(ptr => NativeCall::Types::Pointer.new(281472806779584), python => Inline::Python.new))\n",
      "only run this cell once!\n"
     ]
    }
   ],
   "source": [
    "# column-wise splice:\n",
    "\n",
    "my $se = df2[*]<D>;                     # get a Series \n",
    "$se.splice(2,1,[3 => 8] );              # tweak it a bit\n",
    "df2.splice( :ax, 1, 2, [K => $se] );    # axis => 1\n",
    "\n",
    "say 'only run this cell once!';"
   ]
  },
  {
   "cell_type": "code",
   "execution_count": 18,
   "id": "258b4b10",
   "metadata": {},
   "outputs": [
    {
     "name": "stdout",
     "output_type": "stream",
     "text": [
      "   A  K  D      E    F\n",
      "0  1  3  3   test  foo\n",
      "j  7  3  3   test  foo\n",
      "3  1  8  3  train  foo\n",
      "[[1 3 3 test foo] [7 3 3 test foo] [1 8 3 train foo]]\n",
      "(Any)\n",
      "{0 => 0, 3 => 2, j => 1}\n",
      "{A => 0, D => 2, E => 3, F => 4, K => 1}\n"
     ]
    }
   ],
   "source": [
    "say ~df2;\n",
    "\n",
    "say df2.data;\n",
    "say df2.dtypes;\n",
    "say df2.index;    #Hash (name => row number)   -or- df.ix; #Array\n",
    "say df2.columns;  #Hash (label => col number)  -or- df.cx; #Array"
   ]
  },
  {
   "cell_type": "code",
   "execution_count": 19,
   "id": "4ff381d1",
   "metadata": {},
   "outputs": [
    {
     "name": "stdout",
     "output_type": "stream",
     "text": [
      "  letter  number\n",
      "0      a       1\n",
      "1      b       2\n",
      "  animal  letter number\n",
      "0      c       3    cat\n",
      "1      d       4    dog\n",
      "---------------------------------------------\n",
      "    letter number  animal\n",
      "0        a      1     NaN\n",
      "1        b      2     NaN\n",
      "0⋅1    cat      c     3.0\n",
      "1⋅1    dog      d     4.0\n"
     ]
    }
   ],
   "source": [
    "my \\dfa = DataFrame.new(\n",
    "        [['a', 1], ['b', 2]],\n",
    "        columns => <letter number>,\n",
    ");\n",
    "say ~dfa;\n",
    "\n",
    "my \\dfc = DataFrame.new(\n",
    "        [['c', 3, 'cat'], ['d', 4, 'dog']],\n",
    "        columns => <animal letter number>,\n",
    ");\n",
    "say ~dfc;\n",
    "\n",
    "say \"---------------------------------------------\";\n",
    "dfa.concat(dfc);\n",
    "say ~dfa;"
   ]
  },
  {
   "cell_type": "code",
   "execution_count": 20,
   "id": "05be9f77",
   "metadata": {},
   "outputs": [
    {
     "name": "stdout",
     "output_type": "stream",
     "text": [
      "   2022-01-01  2022-01-02  2022-01-03  2022-01-04  2022-01-05  2022-01-06\n",
      "A    0.886596    0.807890    0.352600    0.913957    0.473774    0.433412\n",
      "B    0.481328    0.926926    0.056232    0.999846    0.140734    0.783020\n",
      "C    0.082735    0.784662    0.812881    0.743154    0.298773    0.086205\n",
      "D    0.588038    0.804403    0.814919    0.126271    0.753436    0.841120\n"
     ]
    }
   ],
   "source": [
    "# The '.pd' method return value goes to STDOUT (so not visible on Jupyter notebooks for now)\n",
    "\n",
    "df.pd: '.shape';\n",
    "df.pd: '.flags';\n",
    "df.pd: '.T';\n",
    "df.pd: '.to_json(\"test.json\")';\n",
    "df.pd: '.to_csv(\"test.csv\")';\n",
    "df.pd: '.iloc[2] = 23';\n",
    "df.pd: '.iloc[2]';\n",
    "\n",
    "say ~df;"
   ]
  },
  {
   "cell_type": "code",
   "execution_count": null,
   "id": "9dc7fdef",
   "metadata": {},
   "outputs": [],
   "source": []
  }
 ],
 "metadata": {
  "kernelspec": {
   "display_name": "Raku",
   "language": "raku",
   "name": "raku"
  },
  "language_info": {
   "file_extension": ".raku",
   "mimetype": "text/plain",
   "name": "raku",
   "version": "6.d"
  }
 },
 "nbformat": 4,
 "nbformat_minor": 5
}
