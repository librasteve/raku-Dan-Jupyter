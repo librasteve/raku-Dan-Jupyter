{
 "cells": [
  {
   "cell_type": "code",
   "execution_count": 1,
   "id": "669e6710-fa31-470d-905d-0bc2ff23135d",
   "metadata": {},
   "outputs": [],
   "source": [
    "# takes ~20sec\n",
    "use Dan :ALL;"
   ]
  },
  {
   "cell_type": "markdown",
   "id": "6fcb3d2f-0b91-49cd-9d25-387bc24f55c5",
   "metadata": {},
   "source": [
    "viz. https://en.wikipedia.org/w/index.php?title=Filmfare_Award_for_Best_Actress&action=edit"
   ]
  },
  {
   "cell_type": "code",
   "execution_count": 2,
   "id": "5b11edcd-e3b1-46cf-acf9-fcf049db1e89",
   "metadata": {},
   "outputs": [
    {
     "name": "stdout",
     "output_type": "stream",
     "text": [
      "===1950s===\n",
      "\n",
      "{| class=\"wikitable sortable\" rowspan=2 style=\"text-align: left;\" border=\"2\" cellpadding=\"5\"\n",
      "|-\n",
      "!scope=\"col\" style=\"width:3%; text-align:center;\"| Year\n",
      "!scope=\"col\" style=\"width:3%;text-align:center;\"| Photos of winners\n",
      "!scope=\"col\" style=\"width:15%;text-align:center;\"| Actress\n",
      "!scope=\"col\" style=\"width:15%;text-align:center;\"| Role(s)\n",
      "!scope=\"col\" style=\"width:15%;text-align:center;\"| Film\n",
      "|-\n",
      "! scope=\"row\" rowspan=2 style=\"text-align:center\" | 1954 <br /><small>[[1st Filmfare Awards|(1st)]] </small>\n",
      "|rowspan=2 style=\"text-align:center\"|{{border|[[File:Meena Kumari.jpg|95px|centre]]|width=2px|style=solid |color=gold}}\n",
      "| style=\"background:#FAEB86;\" |'''{{sort|Meena|[[Meena Kumari]]}}''' {{double dagger|alt=Award winner}}\n",
      "| style=\"background:#FAEB86;\" | '''{{sort|Gauri|Gauri}}'''\n",
      "| style=\"background:#FAEB86;\" | '''''[[Baiju Bawra (film)|Baiju Bawra]]'''''\n",
      "|-\n",
      "| colspan =3 style=\"text-align:center\" | '''No Other Nominee'''\n",
      "|-\n",
      "! scope=\"row\" rowspan=2 style=\"text-align:center\" | 1955<br /><small>[[2nd Filmfare Awards|(2nd)]]</small>\n",
      "|rowspan=2 style=\"text-align:center\"|{{border| [[File:Meena Kumari.jpg|95px]]|width=2px|style=solid |color=gold}}\n",
      "| style=\"background:#FAEB86;\" |'''{{sort|Meena|[[Meena Kumari]]}}''' {{double dagger|alt=Award winner}}\n"
     ]
    }
   ],
   "source": [
    "my @lines = 'FilmFare.txt'.IO.lines;\n",
    ".say for @lines[0..20];"
   ]
  },
  {
   "cell_type": "markdown",
   "id": "781ecadd-548d-4c3a-b9e0-5b3dfbfb2b82",
   "metadata": {},
   "source": [
    "### PART I: USE REGEXES TO EXTRACT DATA ITEMS"
   ]
  },
  {
   "cell_type": "code",
   "execution_count": 3,
   "id": "2d294e78-42b4-4eaa-928c-774cabbffb28",
   "metadata": {},
   "outputs": [
    {
     "name": "stdout",
     "output_type": "stream",
     "text": [
      "Meena::Gauri::Baiju Bawra::Meena::Lalita::Parineeta::Kamini::Biraj::Biraj Bahu::Geeta::Kamala\n"
     ]
    }
   ],
   "source": [
    "my @exclusions = <Year|Photos|Actress|Role|Film|Filmfare|Awards|File|No|Other|Nominee|Portrait|Returns>;\n",
    "\n",
    "my regex tcword {       # tite case word\n",
    "    <upper>             # first character uppercase \n",
    "    <lower>+            # rest of chars lowercase\n",
    "}\n",
    "\n",
    "my regex name {\n",
    "    <tcword>+ %% ' '    # one or more separated by a space\n",
    "}\n",
    "\n",
    "my regex year {         \n",
    "    \\d**4               # four consecutive digits\n",
    "}\n",
    "\n",
    "my ( $current, @years, @names );\n",
    "\n",
    "for @lines -> $l is rw {\n",
    "    next if $l ~~ /File/;               # avoid getting name from photo links\n",
    "\n",
    "    $l ~~ s:g/<@exclusions>//;          # strip out exclusions\n",
    "\n",
    "    if $l ~~ /<year>/ {\n",
    "        $current = $<year>;             # current year is 'sticky'\n",
    "    }\n",
    "\n",
    "    if $l ~~ /<name>/ {\n",
    "        @years.push: $current;\n",
    "        @names.push: ~$<name>.trim;\n",
    "    }\n",
    "}\n",
    "@names[0..10].join(\"::\").say;"
   ]
  },
  {
   "cell_type": "markdown",
   "id": "9cf6b338-45ec-4341-8a5a-2e3c1cdba219",
   "metadata": {},
   "source": [
    "### PART II: MAP DATA ITEMS TO 2-D ARRAY AND MAKE DATAFRAME "
   ]
  },
  {
   "cell_type": "code",
   "execution_count": 4,
   "id": "3506183d-e28d-4e37-bdb6-0cb798b6a160",
   "metadata": {},
   "outputs": [
    {
     "name": "stdout",
     "output_type": "stream",
     "text": [
      "    Year  Actor   Role    Film        \n",
      " 0  1954  Meena   Gauri   Baiju Bawra \n",
      " 1  1955  Meena   Lalita  Parineeta   \n",
      " 2  1956  Kamini  Biraj   Biraj Bahu  \n",
      " 3  1956  Geeta   Kamala  Vachan      \n",
      " 4  1956  Meena   Shobha  Azaad       \n",
      " 5  1957  Nutan   Gauri   Seema       \n"
     ]
    }
   ],
   "source": [
    "my @name3 = @names.rotor(3);            # rotor name over cols 1..3\n",
    "my @year3 = @years.rotor(3);            # match year cadence to names\n",
    "\n",
    "my @data;                               # 2d array\n",
    "\n",
    "for 0..@year3 -> $m {\n",
    "    next unless @year3[$m][0];\n",
    "    \n",
    "    @data[$m;0] = @year3[$m][0];\n",
    "    @data[$m;1..3] = @name3[$m];\n",
    "}\n",
    "\n",
    "my @columns = <Year Actor Role Film>;\n",
    "\n",
    "my \\df = DataFrame.new( :@data, :@columns );\n",
    "say ~df[0..5]^;\n"
   ]
  },
  {
   "cell_type": "markdown",
   "id": "b74df638-0355-45eb-a575-b177c8fcc28b",
   "metadata": {},
   "source": [
    "### PART III: MAKE SOME NEW SERIES AND DATAFRAMES TYPES"
   ]
  },
  {
   "cell_type": "code",
   "execution_count": 5,
   "id": "fb455f8d-4dea-4855-be38-a0c5a26d28b9",
   "metadata": {},
   "outputs": [
    {
     "name": "stdout",
     "output_type": "stream",
     "text": [
      "0\t1954\n",
      "1\t1955\n",
      "2\t2020\n",
      "dtype: Int, name: anon\n",
      "\n",
      "0\tBob\n",
      "1\tJane\n",
      "2\tAlice\n",
      "dtype: Str, name: anon\n",
      "\n"
     ]
    }
   ],
   "source": [
    "class YearSeries {\n",
    "    has Series $.series handles *;\n",
    "\n",
    "    submethod TWEAK { \n",
    "        given $!series.data {\n",
    "            unless ( 1 \n",
    "                && .all ~~ /<year>/\n",
    "                && 1950 < .all < 2030\n",
    "                #&& 1940 < .all < 2030\n",
    "            ) {\n",
    "                die \"Data fails to meet YearSeries constraint.\"\n",
    "            }\n",
    "        }\n",
    "    }\n",
    "}\n",
    "\n",
    "my $yse = YearSeries.new(series => Series.new(data => [1954, 1955, 2020]));\n",
    "say ~$yse.series;\n",
    "\n",
    "\n",
    "class NameSeries {\n",
    "    has Series $.series handles *;\n",
    "\n",
    "    submethod TWEAK {\n",
    "        given $!series.data {\n",
    "            unless ( .all ~~ /<name>/ ) {\n",
    "                #die \"Data fails to meet NameSeries constraint.\"\n",
    "            }\n",
    "        }\n",
    "    }\n",
    "}\n",
    "\n",
    "my $mse = Series.new(data => <Bob Jane Alice>);\n",
    "my $zse = NameSeries.new(series => $mse);\n",
    "say ~$zse.series;"
   ]
  },
  {
   "cell_type": "code",
   "execution_count": 6,
   "id": "d321cd45-981d-4491-a0da-4b636082a2f5",
   "metadata": {},
   "outputs": [
    {
     "name": "stdout",
     "output_type": "stream",
     "text": [
      "ok\n"
     ]
    }
   ],
   "source": [
    "class FilmDataFrame {\n",
    "    has DataFrame $.dataframe handles *;\n",
    "\n",
    "    submethod TWEAK {\n",
    "        unless ( 1\n",
    "            && YearSeries.new(series => self.dataframe[*]<Year>)\n",
    "            && NameSeries.new(series => self.dataframe[*]<Actor>)\n",
    "            && NameSeries.new(series => self.dataframe[*]<Role>)\n",
    "            && NameSeries.new(series => self.dataframe[*]<Film>)\n",
    "        ) {\n",
    "            die \"Data fails to meet FilmDataFrame constraint.\"\n",
    "        }\n",
    "    }\n",
    "}\n",
    "say 'ok'"
   ]
  },
  {
   "cell_type": "markdown",
   "id": "0018a30b-29bb-4381-a9d5-82ac1989650e",
   "metadata": {},
   "source": [
    "### PART IV: PERFORM TYPE CHECKS AT SERIES AND DATAFRAME LEVEL "
   ]
  },
  {
   "cell_type": "code",
   "execution_count": null,
   "id": "ed5aa54f-4037-4c4c-8d69-3ddc379ccf5a",
   "metadata": {},
   "outputs": [],
   "source": [
    "my FilmDataFrame $fdf .= new( dataframe => df );"
   ]
  },
  {
   "cell_type": "code",
   "execution_count": null,
   "id": "6315a6c9-0ef1-42ad-8878-c62de9d6ed23",
   "metadata": {},
   "outputs": [],
   "source": [
    "say df[*]<Year>.grep(* <= 1950);"
   ]
  },
  {
   "cell_type": "code",
   "execution_count": null,
   "id": "d146845c-ab40-4357-bc9a-aa3be9df9073",
   "metadata": {},
   "outputs": [],
   "source": []
  }
 ],
 "metadata": {
  "kernelspec": {
   "display_name": "Raku",
   "language": "raku",
   "name": "raku"
  },
  "language_info": {
   "file_extension": ".raku",
   "mimetype": "text/plain",
   "name": "raku",
   "version": "6.d"
  }
 },
 "nbformat": 4,
 "nbformat_minor": 5
}
