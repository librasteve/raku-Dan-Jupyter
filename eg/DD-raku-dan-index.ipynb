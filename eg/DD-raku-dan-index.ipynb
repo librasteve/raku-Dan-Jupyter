{
 "cells": [
  {
   "cell_type": "code",
   "execution_count": 1,
   "id": "eb7339c0",
   "metadata": {},
   "outputs": [],
   "source": [
    "use Dan :ALL;  #~20 sec on first run"
   ]
  },
  {
   "cell_type": "code",
   "execution_count": 2,
   "id": "138d21a1-78b0-49cf-b518-8dcb4144cd27",
   "metadata": {},
   "outputs": [
    {
     "data": {
      "text/plain": [
       "    A                    B                     C                     D                    E                   \n",
       " a  0.5200644586136679   0.27531688490635065   0.048180777638232586  0.5136270120105964   0.3532894332416697  \n",
       " b  0.573289345922787    0.35554207268242977   0.8615126909480373    0.8071773206039816   0.43845409072984565 \n",
       " c  0.8188988434588528   0.8879275848061826    0.7065158530413506    0.540698465382533    0.48329289843068235 \n",
       " d  0.5709745024171974   0.29892172101419134   0.037061940185424636  0.25595078157930895  0.7042300021962947  \n",
       " e  0.5172166918025073   0.48921515445818153   0.962545922471468     0.6160791417939093   0.08262492021382672 \n",
       " f  0.45090429385553277  0.014680130670543745  0.7385913002830977    0.5708674104776021   0.36168746051913736 "
      ]
     },
     "execution_count": 2,
     "metadata": {},
     "output_type": "execute_result"
    }
   ],
   "source": [
    "my $dfRand = DataFrame.new( [[rand xx 5] xx 6], columns => <A B C D E>, index => ['a'..'zzz'] );\n",
    "~$dfRand;"
   ]
  },
  {
   "cell_type": "code",
   "execution_count": 3,
   "id": "5ad314b5-8e0f-436f-b3a1-6eac302db25c",
   "metadata": {},
   "outputs": [
    {
     "data": {
      "text/plain": [
       "(0.037061940185424636 0.25595078157930895 0.7042300021962947)"
      ]
     },
     "execution_count": 3,
     "metadata": {},
     "output_type": "execute_result"
    }
   ],
   "source": [
    "$dfRand[3]{'C'..'E'};"
   ]
  },
  {
   "cell_type": "code",
   "execution_count": 4,
   "id": "a4f7c35a-22b4-4004-9578-33a478e0e11a",
   "metadata": {},
   "outputs": [
    {
     "data": {
      "text/plain": [
       "(0.037061940185424636 0.25595078157930895 0.7042300021962947)"
      ]
     },
     "execution_count": 4,
     "metadata": {},
     "output_type": "execute_result"
    }
   ],
   "source": [
    "$dfRand<d>{'C'..'E'};"
   ]
  },
  {
   "cell_type": "code",
   "execution_count": 5,
   "id": "866dc34e-29b9-476e-aa55-5d974fff6d38",
   "metadata": {},
   "outputs": [
    {
     "data": {
      "text/plain": [
       "0\ta\n",
       "1\tb\n",
       "2\tc\n",
       "3\td\n",
       "4\te\n",
       "5\tf\n",
       "dtype: Str, name: rix\n"
      ]
     },
     "execution_count": 5,
     "metadata": {},
     "output_type": "execute_result"
    }
   ],
   "source": [
    "my $row-index = Series.new( name => 'rix', ['a'..'f'] );\n",
    "~$row-index;"
   ]
  },
  {
   "cell_type": "code",
   "execution_count": 6,
   "id": "1d346126-246c-4d37-92d1-cd6d4987fa60",
   "metadata": {},
   "outputs": [
    {
     "data": {
      "text/plain": [
       "    A                    B                    C                     D                   E                   \n",
       " 0  0.9907018410953307   0.4548993686322582   0.7881369163520858    0.9313897039474266  0.21663879751370274 \n",
       " 1  0.9474358793909543   0.2890597036732815   0.033376004397779546  0.6232997722252236  0.5804278235093185  \n",
       " 2  0.9337368685440162   0.24734824037022818  0.5861221516696073    0.6240351146054761  0.8375483383271561  \n",
       " 3  0.03952146472616336  0.9583049698779948   0.22112661967663605   0.8012506968200781  0.4228964647973126  \n",
       " 4  0.6629456733284015   0.468801244043234    0.18693806122241818   0.7164261917881115  0.8975546089095675  \n",
       " 5  0.8648190297605793   0.17328755039669497  0.7384246798232051    0.6064361893604616  0.9835282645210678  "
      ]
     },
     "execution_count": 6,
     "metadata": {},
     "output_type": "execute_result"
    }
   ],
   "source": [
    "my $nxRand = DataFrame.new( [[rand xx 5] xx 6], columns => <A B C D E> );\n",
    "~$nxRand;"
   ]
  },
  {
   "cell_type": "code",
   "execution_count": 7,
   "id": "b4c7b253-5f96-4abd-890b-189e6e0cd2e0",
   "metadata": {},
   "outputs": [
    {
     "data": {
      "text/plain": [
       "    rix  A                    B                    C                     D                   E                   \n",
       " 0  a    0.9907018410953307   0.4548993686322582   0.7881369163520858    0.9313897039474266  0.21663879751370274 \n",
       " 1  b    0.9474358793909543   0.2890597036732815   0.033376004397779546  0.6232997722252236  0.5804278235093185  \n",
       " 2  c    0.9337368685440162   0.24734824037022818  0.5861221516696073    0.6240351146054761  0.8375483383271561  \n",
       " 3  d    0.03952146472616336  0.9583049698779948   0.22112661967663605   0.8012506968200781  0.4228964647973126  \n",
       " 4  e    0.6629456733284015   0.468801244043234    0.18693806122241818   0.7164261917881115  0.8975546089095675  \n",
       " 5  f    0.8648190297605793   0.17328755039669497  0.7384246798232051    0.6064361893604616  0.9835282645210678  "
      ]
     },
     "execution_count": 7,
     "metadata": {},
     "output_type": "execute_result"
    }
   ],
   "source": [
    "$nxRand.splice( :ax, 0, 0, [$row-index,] );\n",
    "~$nxRand;"
   ]
  },
  {
   "cell_type": "code",
   "execution_count": 9,
   "id": "b52f86a0-9d02-4186-87cb-94f6ea26fdca",
   "metadata": {},
   "outputs": [
    {
     "data": {
      "text/plain": [
       "d"
      ]
     },
     "execution_count": 9,
     "metadata": {},
     "output_type": "execute_result"
    }
   ],
   "source": [
    "$nxRand.series('rix')[3];"
   ]
  },
  {
   "cell_type": "code",
   "execution_count": 15,
   "id": "05c455da-7052-4c16-86cd-f7b9e4a97a47",
   "metadata": {},
   "outputs": [
    {
     "data": {
      "text/plain": [
       "    C                    D                   E                  \n",
       " 3  0.22112661967663605  0.8012506968200781  0.4228964647973126 "
      ]
     },
     "execution_count": 15,
     "metadata": {},
     "output_type": "execute_result"
    }
   ],
   "source": [
    "~$nxRand.grep({$nxRand.series('rix')[$++] eq 'd'})[*]{'C'..'E'};"
   ]
  },
  {
   "cell_type": "code",
   "execution_count": null,
   "id": "fc88a954-82ed-4305-ac5a-8f41677897ab",
   "metadata": {},
   "outputs": [],
   "source": []
  }
 ],
 "metadata": {
  "kernelspec": {
   "display_name": "Raku",
   "language": "raku",
   "name": "raku"
  },
  "language_info": {
   "file_extension": ".raku",
   "mimetype": "text/plain",
   "name": "raku",
   "version": "6.d"
  }
 },
 "nbformat": 4,
 "nbformat_minor": 5
}
