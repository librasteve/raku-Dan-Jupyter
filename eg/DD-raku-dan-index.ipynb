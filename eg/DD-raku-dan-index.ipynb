{
 "cells": [
  {
   "cell_type": "code",
   "execution_count": 1,
   "id": "eb7339c0",
   "metadata": {},
   "outputs": [],
   "source": [
    "use Dan :ALL;  #~20 sec on first run"
   ]
  },
  {
   "cell_type": "markdown",
   "id": "81d2bedd-d523-4366-a6ec-52724e4493cd",
   "metadata": {},
   "source": [
    "### A regular Dan DataFrame with Index"
   ]
  },
  {
   "cell_type": "code",
   "execution_count": 2,
   "id": "138d21a1-78b0-49cf-b518-8dcb4144cd27",
   "metadata": {},
   "outputs": [
    {
     "data": {
      "text/plain": [
       "    A                     B                    C                    D                    E                   \n",
       " a  0.4866142040249799    0.7363155572749766   0.5288816103734105   0.8350591532040785   0.546363563089522   \n",
       " b  0.7936416052169518    0.9226721118031563   0.46524562452747487  0.2940576630417491   0.37513752016941826 \n",
       " c  0.042935923351063554  0.44247578262843124  0.9057480210943761   0.19047867970980958  0.6366627576105072  \n",
       " d  0.07264867658177565   0.1230300329329237   0.8706552608672291   0.09366807143396572  0.3194418866369073  \n",
       " e  0.8864118597835392    0.2369093002965429   0.3374878632056312   0.7826715276731341   0.7137242536931894  \n",
       " f  0.8747840939846101    0.10007796754266307  0.8830142801234392   0.6756487979640361   0.8206295942472142  "
      ]
     },
     "execution_count": 2,
     "metadata": {},
     "output_type": "execute_result"
    }
   ],
   "source": [
    "my $dfRand = DataFrame.new( [[rand xx 5] xx 6], columns => <A B C D E>, index => ['a'..'zzz'] );\n",
    "~$dfRand;"
   ]
  },
  {
   "cell_type": "code",
   "execution_count": 3,
   "id": "5ad314b5-8e0f-436f-b3a1-6eac302db25c",
   "metadata": {},
   "outputs": [
    {
     "data": {
      "text/plain": [
       "(0.8706552608672291 0.09366807143396572 0.3194418866369073)"
      ]
     },
     "execution_count": 3,
     "metadata": {},
     "output_type": "execute_result"
    }
   ],
   "source": [
    "$dfRand[3]{'C'..'E'};"
   ]
  },
  {
   "cell_type": "code",
   "execution_count": 4,
   "id": "a4f7c35a-22b4-4004-9578-33a478e0e11a",
   "metadata": {},
   "outputs": [
    {
     "data": {
      "text/plain": [
       "(0.8706552608672291 0.09366807143396572 0.3194418866369073)"
      ]
     },
     "execution_count": 4,
     "metadata": {},
     "output_type": "execute_result"
    }
   ],
   "source": [
    "$dfRand<d>{'C'..'E'};"
   ]
  },
  {
   "cell_type": "markdown",
   "id": "cba250ae-5818-466b-a9a5-c7e623dfc8d4",
   "metadata": {},
   "source": [
    "### Dan::DataFrame and Data::Generators I"
   ]
  },
  {
   "cell_type": "markdown",
   "id": "34433688-788d-4d85-bd0b-b7bc08277a36",
   "metadata": {},
   "source": [
    "Lets mix in https://github.com/antononcube/Raku-Data-Generators and https://github.com/antononcube/Raku-Data-Reshapers\n",
    "per the Reddit chat https://www.reddit.com/r/rakulang/comments/vj27i5/raku_dan_tprc_talk/"
   ]
  },
  {
   "cell_type": "markdown",
   "id": "5b13200b-0c44-4f71-82da-55a8be478738",
   "metadata": {},
   "source": [
    "For now this is just a Data::... only example..."
   ]
  },
  {
   "cell_type": "code",
   "execution_count": 5,
   "id": "fb794b4c-4e37-438c-a640-d48d0eddc8a8",
   "metadata": {},
   "outputs": [],
   "source": [
    "use Data::Generators;  #~20 sec on first run\n",
    "use Data::Reshapers;"
   ]
  },
  {
   "cell_type": "code",
   "execution_count": 6,
   "id": "5bd3e2c3-0970-427d-8729-0736e84f41ce",
   "metadata": {},
   "outputs": [
    {
     "name": "stderr",
     "output_type": "stream",
     "text": [
      "Array @dsRand = [{:A(\"inconspicuously\"), :B(14.839455599719894e0), :C(19.396767406247484e0), :D(\"Tchaikovsky\"), :E(\"0IRmpUtPG\")}, {:A(\"blurt\"), :B(9.392448221864141e0), :C(18.519524932859788e0), :D(\"gossiping\"), :E(\"ooPgSB\")}, {:A(\"Penobscot\"), :B(13.79602322026288e0), :C(23.34156489930512e0), :D(\"laughing\"), :E(\"AGwd\")}, {:A(\"swan-neck\"), :B(4.553218901024791e0), :C(18.500570771409983e0), :D(\"kangaroo\"), :E(\"9bpfoiYGekI4qOcmP7\")}, {:A(\"arbitrable\"), :B(17.374799210500562e0), :C(12.36901055969075e0), :D(\"slim\"), :E(\"kzww\")}, {:A(\"dichromia\"), :B(-3.795956656387391e0), :C(5.78374358610828e0), :D(\"postoperative\"), :E(\"ZBVfiCql\")}]\n"
     ]
    }
   ],
   "source": [
    "# Make a dataset\n",
    "my @dsRand = random-tabular-dataset(6, <A B C D E>);\n",
    "dd @dsRand;"
   ]
  },
  {
   "cell_type": "markdown",
   "id": "c012d623-f96e-4362-a26d-58a2d406109a",
   "metadata": {},
   "source": [
    "This shows the raw dataset implied in Data::Generators - it is just an Array of Hashes of Pairs.\n",
    "\n",
    "Remark: The signature design and implementation are based on the Mathematica implementation RandomTabularDataset, [AAf3].\n",
    "https://reference.wolfram.com/language/ref/Dataset.html"
   ]
  },
  {
   "cell_type": "code",
   "execution_count": 7,
   "id": "a7f2c382-e91a-46ea-91ad-d2251b3c7a09",
   "metadata": {},
   "outputs": [
    {
     "data": {
      "text/plain": [
       "+-----------------+-----------+-----------+---------------+--------------------+\n",
       "|        A        |     B     |     C     |       D       |         E          |\n",
       "+-----------------+-----------+-----------+---------------+--------------------+\n",
       "| inconspicuously | 14.839456 | 19.396767 |  Tchaikovsky  |     0IRmpUtPG      |\n",
       "|      blurt      |  9.392448 | 18.519525 |   gossiping   |       ooPgSB       |\n",
       "|    Penobscot    | 13.796023 | 23.341565 |    laughing   |        AGwd        |\n",
       "|    swan-neck    |  4.553219 | 18.500571 |    kangaroo   | 9bpfoiYGekI4qOcmP7 |\n",
       "|    arbitrable   | 17.374799 | 12.369011 |      slim     |        kzww        |\n",
       "|    dichromia    | -3.795957 |  5.783744 | postoperative |      ZBVfiCql      |\n",
       "+-----------------+-----------+-----------+---------------+--------------------+"
      ]
     },
     "execution_count": 7,
     "metadata": {},
     "output_type": "execute_result"
    }
   ],
   "source": [
    "# Show first dataset\n",
    "to-pretty-table(@dsRand, field-names => <A B C D E>);"
   ]
  },
  {
   "cell_type": "code",
   "execution_count": 8,
   "id": "b893abd1-faec-44f1-8505-75059e6d7c44",
   "metadata": {},
   "outputs": [
    {
     "data": {
      "text/plain": [
       "+---+-----------------+-----------+-----------+---------------+--------------------+\n",
       "|   |        A        |     B     |     C     |       D       |         E          |\n",
       "+---+-----------------+-----------+-----------+---------------+--------------------+\n",
       "| a | inconspicuously | 14.839456 | 19.396767 |  Tchaikovsky  |     0IRmpUtPG      |\n",
       "| b |      blurt      |  9.392448 | 18.519525 |   gossiping   |       ooPgSB       |\n",
       "| c |    Penobscot    | 13.796023 | 23.341565 |    laughing   |        AGwd        |\n",
       "| d |    swan-neck    |  4.553219 | 18.500571 |    kangaroo   | 9bpfoiYGekI4qOcmP7 |\n",
       "| e |    arbitrable   | 17.374799 | 12.369011 |      slim     |        kzww        |\n",
       "| f |    dichromia    | -3.795957 |  5.783744 | postoperative |      ZBVfiCql      |\n",
       "+---+-----------------+-----------+-----------+---------------+--------------------+"
      ]
     },
     "execution_count": 8,
     "metadata": {},
     "output_type": "execute_result"
    }
   ],
   "source": [
    "# Endow the dataset with row-names\n",
    "my %dsRand = 'a'..'f' Z=> @dsRand;\n",
    "\n",
    "# Show second dataset\n",
    "to-pretty-table(%dsRand, field-names => <A B C D E>);"
   ]
  },
  {
   "cell_type": "markdown",
   "id": "73466a70-91de-470f-8ebb-1742d9246ce0",
   "metadata": {},
   "source": [
    "### Dan::DataFrame and Data::Generators II"
   ]
  },
  {
   "cell_type": "markdown",
   "id": "5fc84721-1ed8-43b9-adfa-30f20bf006f6",
   "metadata": {},
   "source": [
    "Now let's try making a Dan::DataFrame with Data::Generators..."
   ]
  },
  {
   "cell_type": "code",
   "execution_count": 9,
   "id": "a5167f25-ad61-4eb2-af3a-3cc1f147e24c",
   "metadata": {},
   "outputs": [
    {
     "data": {
      "text/plain": [
       "{female => {1st => 144, 2nd => 106, 3rd => 216}, male => {1st => 179, 2nd => 171, 3rd => 493}}"
      ]
     },
     "execution_count": 9,
     "metadata": {},
     "output_type": "execute_result"
    }
   ],
   "source": [
    "my @tbl = get-titanic-dataset();\n",
    "my $res = cross-tabulate( @tbl, 'passengerSex', 'passengerClass');"
   ]
  },
  {
   "cell_type": "code",
   "execution_count": 10,
   "id": "41b6e0d7-306a-4929-b72b-d03e4f1ed95b",
   "metadata": {},
   "outputs": [
    {
     "data": {
      "text/plain": [
       "+--------------+----------------+-----------+---------------+-----------+\n",
       "|      C       |       E        |     A     |       D       |     B     |\n",
       "+--------------+----------------+-----------+---------------+-----------+\n",
       "|    unload    |   angledozer   |   crater  | antispasmodic | 15.418379 |\n",
       "| Chickamauga  |   tax-exempt   |   yo-yo   |  Bartlesville | 14.762477 |\n",
       "|   drinker    |   gloatingly   | pseudopod |  hyperidrosis |  9.948859 |\n",
       "|    taster    | porcupinefish  | homewards |  wollastonite |  1.536198 |\n",
       "| Barranquilla | platitudinize  |   Exacum  |    overpay    | 11.788930 |\n",
       "|    Carew     | foster-brother | psoriasis |      bill     | 21.082479 |\n",
       "+--------------+----------------+-----------+---------------+-----------+"
      ]
     },
     "execution_count": 10,
     "metadata": {},
     "output_type": "execute_result"
    }
   ],
   "source": [
    "my @colnames = <A B C D E>;\n",
    "my @dsRand2 = random-tabular-dataset(6, @colnames);\n",
    "to-pretty-table(@dsRand2);"
   ]
  },
  {
   "cell_type": "markdown",
   "id": "05add599-94b3-414d-83da-b1012f7b494c",
   "metadata": {},
   "source": [
    "Remark: the dataset model does not inherently preserve order"
   ]
  },
  {
   "cell_type": "code",
   "execution_count": 11,
   "id": "cd71b714-8eec-4ac7-bc80-324c854443b3",
   "metadata": {},
   "outputs": [
    {
     "data": {
      "text/plain": [
       "[{A => crater, B => 15.418379091678371, C => unload, D => antispasmodic, E => angledozer} {A => yo-yo, B => 14.762476868666774, C => Chickamauga, D => Bartlesville, E => tax-exempt} {A => pseudopod, B => 9.948859469216888, C => drinker, D => hyperidrosis, E => gloatingly} {A => homewards, B => 1.5361975003623574, C => taster, D => wollastonite, E => porcupinefish} {A => Exacum, B => 11.788929649546072, C => Barranquilla, D => overpay, E => platitudinize} {A => psoriasis, B => 21.082478592526073, C => Carew, D => bill, E => foster-brother}]"
      ]
     },
     "execution_count": 11,
     "metadata": {},
     "output_type": "execute_result"
    }
   ],
   "source": [
    "@dsRand2"
   ]
  },
  {
   "cell_type": "markdown",
   "id": "7cd64fe4-426e-49ac-96d2-31ed4bd07781",
   "metadata": {},
   "source": [
    "Need a little routine to unpack dataset to array of pairs of arrays..."
   ]
  },
  {
   "cell_type": "code",
   "execution_count": 16,
   "id": "d143d40e-5f86-47fa-9220-985cc1c6e05f",
   "metadata": {},
   "outputs": [
    {
     "data": {
      "text/plain": [
       "&unpack"
      ]
     },
     "execution_count": 16,
     "metadata": {},
     "output_type": "execute_result"
    }
   ],
   "source": [
    "sub unpack( @dataset, @colnames ) {\n",
    "    my ( %hoa, @aop );\n",
    "\n",
    "    for @colnames -> $cn {\n",
    "        for @dataset -> %rh {\n",
    "            %hoa{$cn}.push: %rh{$cn}\n",
    "        }\n",
    "        @aop.push: $cn => %hoa{$cn}\n",
    "    }\n",
    "    @aop\n",
    "}"
   ]
  },
  {
   "cell_type": "code",
   "execution_count": 17,
   "id": "1c474be1-a32a-42d3-804e-de6cd5e6c27e",
   "metadata": {},
   "outputs": [
    {
     "data": {
      "text/plain": [
       "    A          B                   C             D              E              \n",
       " a  crater     15.418379091678371  unload        antispasmodic  angledozer     \n",
       " b  yo-yo      14.762476868666774  Chickamauga   Bartlesville   tax-exempt     \n",
       " c  pseudopod  9.948859469216888   drinker       hyperidrosis   gloatingly     \n",
       " d  homewards  1.5361975003623574  taster        wollastonite   porcupinefish  \n",
       " e  Exacum     11.788929649546072  Barranquilla  overpay        platitudinize  \n",
       " f  psoriasis  21.082478592526073  Carew         bill           foster-brother "
      ]
     },
     "execution_count": 17,
     "metadata": {},
     "output_type": "execute_result"
    }
   ],
   "source": [
    "my $danRand = DataFrame.new( data => @dsRand2.&unpack( @colnames ) );\n",
    "$danRand.ix: 'a'..'zz';\n",
    "~$danRand;"
   ]
  },
  {
   "cell_type": "markdown",
   "id": "2ca075a6-b9bc-45e2-b184-fd9060696abf",
   "metadata": {
    "jp-MarkdownHeadingCollapsed": true,
    "tags": []
   },
   "source": [
    "### How a 'no-index' Dan::DataFrame might look"
   ]
  },
  {
   "cell_type": "code",
   "execution_count": null,
   "id": "866dc34e-29b9-476e-aa55-5d974fff6d38",
   "metadata": {},
   "outputs": [],
   "source": [
    "my $row-index = Series.new( name => 'rix', ['a'..'f'] );\n",
    "~$row-index;"
   ]
  },
  {
   "cell_type": "code",
   "execution_count": null,
   "id": "1d346126-246c-4d37-92d1-cd6d4987fa60",
   "metadata": {},
   "outputs": [],
   "source": [
    "my $nxRand = DataFrame.new( [[rand xx 5] xx 6], columns => <A B C D E> );\n",
    "~$nxRand;"
   ]
  },
  {
   "cell_type": "code",
   "execution_count": null,
   "id": "b4c7b253-5f96-4abd-890b-189e6e0cd2e0",
   "metadata": {},
   "outputs": [],
   "source": [
    "$nxRand.splice( :ax, 0, 0, [$row-index,] );\n",
    "~$nxRand;"
   ]
  },
  {
   "cell_type": "code",
   "execution_count": null,
   "id": "b52f86a0-9d02-4186-87cb-94f6ea26fdca",
   "metadata": {},
   "outputs": [],
   "source": [
    "$nxRand.series('rix')[3];"
   ]
  },
  {
   "cell_type": "code",
   "execution_count": null,
   "id": "05c455da-7052-4c16-86cd-f7b9e4a97a47",
   "metadata": {},
   "outputs": [],
   "source": [
    "#which would mean that we need some monster \"accessor\" - yikes!!\n",
    "~$nxRand.grep({$nxRand.series('rix')[$++] eq 'd'})[*]{'C'..'E'};"
   ]
  },
  {
   "cell_type": "markdown",
   "id": "1ebdb534-e3db-4d47-aa86-284ce90ab03b",
   "metadata": {},
   "source": [
    "Conclusion: We like have row indexes..."
   ]
  }
 ],
 "metadata": {
  "kernelspec": {
   "display_name": "Raku",
   "language": "raku",
   "name": "raku"
  },
  "language_info": {
   "file_extension": ".raku",
   "mimetype": "text/plain",
   "name": "raku",
   "version": "6.d"
  }
 },
 "nbformat": 4,
 "nbformat_minor": 5
}
