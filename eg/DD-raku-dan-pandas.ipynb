{
 "cells": [
  {
   "cell_type": "code",
   "execution_count": 1,
   "id": "eb7339c0",
   "metadata": {},
   "outputs": [],
   "source": [
    "use Dan;\n",
    "use Dan::Pandas;"
   ]
  },
  {
   "cell_type": "code",
   "execution_count": 2,
   "id": "c8cd4353",
   "metadata": {},
   "outputs": [
    {
     "data": {
      "text/plain": [
       "  Country Name Country Code Birth rate Internet users         Income Group\n",
       "0        Aruba          ABW     10.244           78.9          High income\n",
       "1  Afghanistan          AFG     35.253            5.9           Low income\n",
       "2       Angola          AGO     45.985           19.1  Upper middle income\n",
       "3      Albania          ALB     12.877           57.2  Upper middle income"
      ]
     },
     "execution_count": 2,
     "metadata": {},
     "output_type": "execute_result"
    }
   ],
   "source": [
    "# Read .csv file (Text::CSV)\n",
    "\n",
    "use Text::CSV;\n",
    "my @lines  = csv( in => 'DemographicData.csv' );\n",
    "\n",
    "my \\stats = DataFrame.new( columns => @lines[0], data => @lines[1..*-1] );\n",
    "~stats[0..3]^;      # head"
   ]
  },
  {
   "cell_type": "code",
   "execution_count": 3,
   "id": "ea9404e2",
   "metadata": {},
   "outputs": [
    {
     "data": {
      "text/plain": [
       "Dan::Pandas::DataFrame"
      ]
     },
     "execution_count": 3,
     "metadata": {},
     "output_type": "execute_result"
    }
   ],
   "source": [
    "stats.^name;"
   ]
  },
  {
   "cell_type": "code",
   "execution_count": 4,
   "id": "e735b272",
   "metadata": {},
   "outputs": [
    {
     "data": {
      "text/plain": [
       "         Country Name Country Code  ... Internet users         Income Group\n",
       "190       Yemen, Rep.          YEM  ...             20  Lower middle income\n",
       "191      South Africa          ZAF  ...           46.5  Upper middle income\n",
       "192  Congo, Dem. Rep.          COD  ...            2.2           Low income\n",
       "193            Zambia          ZMB  ...           15.4  Lower middle income\n",
       "194          Zimbabwe          ZWE  ...           18.5           Low income\n",
       "\n",
       "[5 rows x 5 columns]"
      ]
     },
     "execution_count": 4,
     "metadata": {},
     "output_type": "execute_result"
    }
   ],
   "source": [
    "# '~' makes a Str, '^' makes a DataFrame from rows\n",
    "\n",
    "~stats[*-5..*-1]^;    # tail"
   ]
  },
  {
   "cell_type": "code",
   "execution_count": 5,
   "id": "544a7247",
   "metadata": {},
   "outputs": [
    {
     "data": {
      "text/plain": [
       "[195 5]"
      ]
     },
     "execution_count": 5,
     "metadata": {},
     "output_type": "execute_result"
    }
   ],
   "source": [
    "stats.shape;"
   ]
  },
  {
   "cell_type": "code",
   "execution_count": 6,
   "id": "0c88477c",
   "metadata": {},
   "outputs": [
    {
     "data": {
      "text/plain": [
       "195"
      ]
     },
     "execution_count": 6,
     "metadata": {},
     "output_type": "execute_result"
    }
   ],
   "source": [
    "stats.elems;"
   ]
  },
  {
   "cell_type": "code",
   "execution_count": 7,
   "id": "2ede5f6f",
   "metadata": {},
   "outputs": [
    {
     "data": {
      "text/plain": [
       "5"
      ]
     },
     "execution_count": 7,
     "metadata": {},
     "output_type": "execute_result"
    }
   ],
   "source": [
    "stats.columns.elems;  "
   ]
  },
  {
   "cell_type": "code",
   "execution_count": 8,
   "id": "549d0285",
   "metadata": {},
   "outputs": [
    {
     "name": "stdout",
     "output_type": "stream",
     "text": [
      "{BirthRate => 2, CountryCode => 1, CountryName => 0, IncomeGroup => 4, InternetUsers => 3}\n",
      "[CountryName CountryCode BirthRate InternetUsers IncomeGroup]\n"
     ]
    }
   ],
   "source": [
    "#Clean up #1 - tidy up col labels\n",
    "\n",
    "stats.pd: \".columns = ['CountryName', 'CountryCode', 'BirthRate', 'InternetUsers', 'IncomeGroup']\";\n",
    "say stats.columns;     #Hash (unordered)\n",
    "say stats.cx;          #Seq    (ordered)"
   ]
  },
  {
   "cell_type": "code",
   "execution_count": 9,
   "id": "9293e393",
   "metadata": {},
   "outputs": [
    {
     "data": {
      "text/plain": [
       "()"
      ]
     },
     "execution_count": 9,
     "metadata": {},
     "output_type": "execute_result"
    }
   ],
   "source": [
    "## FIXME work this out\n",
    "\n",
    "##Clean up #2 - coerce cols to numbers      [see DD-raku-Dan-typed.ipynb for why & when]\n",
    "\n",
    "#stats.data[*;2,3].map({$_.=Rat});\n",
    "#stats.dtypes;"
   ]
  },
  {
   "cell_type": "code",
   "execution_count": 10,
   "id": "731161d6",
   "metadata": {},
   "outputs": [],
   "source": [
    "# This cell exports the Dan::Pandas::DataFrame for use in DD-raku-Dan-to-seaborn.ipynb\n",
    "\n",
    "stats.pd: \".to_json('DD-done.json')\";"
   ]
  },
  {
   "cell_type": "code",
   "execution_count": 11,
   "id": "2371c04e",
   "metadata": {},
   "outputs": [],
   "source": [
    "stats.dtypes;      #FIXME - SO to cell"
   ]
  },
  {
   "cell_type": "code",
   "execution_count": 12,
   "id": "078a451a",
   "metadata": {},
   "outputs": [],
   "source": [
    "stats.describe;    #FIXME - SO to cell"
   ]
  },
  {
   "cell_type": "code",
   "execution_count": 13,
   "id": "682099b8",
   "metadata": {},
   "outputs": [
    {
     "data": {
      "text/plain": [
       "0      10.244\n",
       "1      35.253\n",
       "2      45.985\n",
       "3      12.877\n",
       "4      11.044\n",
       "        ...  \n",
       "190    32.947\n",
       "191     20.85\n",
       "192    42.394\n",
       "193    40.471\n",
       "194    35.715\n",
       "Name: BirthRate, Length: 195, dtype: object"
      ]
     },
     "execution_count": 13,
     "metadata": {},
     "output_type": "execute_result"
    }
   ],
   "source": [
    "~stats.series: <BirthRate>;"
   ]
  },
  {
   "cell_type": "code",
   "execution_count": 14,
   "id": "cc5bb030",
   "metadata": {},
   "outputs": [
    {
     "data": {
      "text/plain": [
       "            CountryName BirthRate\n",
       "0                 Aruba    10.244\n",
       "1           Afghanistan    35.253\n",
       "2                Angola    45.985\n",
       "3               Albania    12.877\n",
       "4  United Arab Emirates    11.044\n",
       "5             Argentina    17.716"
      ]
     },
     "execution_count": 14,
     "metadata": {},
     "output_type": "execute_result"
    }
   ],
   "source": [
    "~stats[0..5]<CountryName BirthRate>;"
   ]
  },
  {
   "cell_type": "code",
   "execution_count": null,
   "id": "da563f19",
   "metadata": {},
   "outputs": [],
   "source": [
    "~stats[185..*-1]^;       # Range operator (start .. end)"
   ]
  },
  {
   "cell_type": "code",
   "execution_count": null,
   "id": "ab357e67",
   "metadata": {},
   "outputs": [],
   "source": [
    "#Reverse order\n",
    "~stats[10,*-1...5]^;     # Sequence operator (start,operation ... end)"
   ]
  },
  {
   "cell_type": "code",
   "execution_count": null,
   "id": "bb2eefc3",
   "metadata": {},
   "outputs": [],
   "source": [
    "#Every 20th item\n",
    "~stats[0,20...stats.elems]^;"
   ]
  },
  {
   "cell_type": "code",
   "execution_count": null,
   "id": "4b22d256",
   "metadata": {},
   "outputs": [],
   "source": [
    "#Calculate and Append a new column\n",
    "\n",
    "my $calcs = Series.new( stats[*]<BirthRate> >>*<< stats[*]<InternetUsers> );   #multiply every row\n",
    "\n",
    "stats.splice( :ax, *, *, [MyCalc => $calcs] );\n",
    "~stats[0..5]^;"
   ]
  },
  {
   "cell_type": "code",
   "execution_count": null,
   "id": "5ccbb94d",
   "metadata": {},
   "outputs": [],
   "source": [
    "#Drop column\n",
    "\n",
    "stats.splice( :ax, *-1 );\n",
    "~stats[0..5]^;"
   ]
  },
  {
   "cell_type": "code",
   "execution_count": null,
   "id": "bd806abe",
   "metadata": {},
   "outputs": [],
   "source": [
    "# Grep (check whether column 3 value < 2)\n",
    "\n",
    "~stats.grep( { .[3] < 2 } );"
   ]
  },
  {
   "cell_type": "code",
   "execution_count": null,
   "id": "a793dba2",
   "metadata": {},
   "outputs": [],
   "source": [
    "# Grep (simple col label check)\n",
    "\n",
    "~stats.grep( { stats[$++]<InternetUsers> < 2 } );"
   ]
  },
  {
   "cell_type": "code",
   "execution_count": null,
   "id": "0d0b18e7",
   "metadata": {},
   "outputs": [],
   "source": [
    "# Grep (combine two checks with col labels)\n",
    "\n",
    "~stats.grep( { my $i=stats[$++]; $i.<InternetUsers> < 2 && $i.<BirthRate> > 40 } );"
   ]
  },
  {
   "cell_type": "code",
   "execution_count": null,
   "id": "836014be",
   "metadata": {},
   "outputs": [],
   "source": [
    "# Grep (define filters and apply later)\n",
    "\n",
    "sub filter1 { $^i.<InternetUsers> < 2  };\n",
    "sub filter2 { $^i.<BirthRate>     > 40 };\n",
    "\n",
    "~stats.grep( { my $i=stats[$++]; $i.&filter1 && $i.&filter2 } );"
   ]
  },
  {
   "cell_type": "code",
   "execution_count": null,
   "id": "1174d66b",
   "metadata": {},
   "outputs": [],
   "source": [
    "# Grep with regex\n",
    "\n",
    "stats.grep( { stats[$++]<IncomeGroup> ~~ /High/ } ).elems;"
   ]
  },
  {
   "cell_type": "code",
   "execution_count": null,
   "id": "e14adec5",
   "metadata": {},
   "outputs": [],
   "source": [
    "# Unique\n",
    "\n",
    "stats[*]<IncomeGroup>.unique.join(', ');"
   ]
  },
  {
   "cell_type": "code",
   "execution_count": null,
   "id": "f872d084",
   "metadata": {},
   "outputs": [],
   "source": [
    "# Accessors\n",
    "\n",
    "stats[4][3];"
   ]
  },
  {
   "cell_type": "code",
   "execution_count": null,
   "id": "8967ab4b",
   "metadata": {},
   "outputs": [],
   "source": [
    "stats[4]<InternetUsers>;"
   ]
  },
  {
   "cell_type": "code",
   "execution_count": null,
   "id": "1dafebcc",
   "metadata": {},
   "outputs": [],
   "source": [
    "stats<4>[3];   #The default index is letter 4 => 4 (Int) so you may use either [] or <> accessor"
   ]
  },
  {
   "cell_type": "code",
   "execution_count": null,
   "id": "aa6b4666",
   "metadata": {},
   "outputs": [],
   "source": []
  }
 ],
 "metadata": {
  "kernelspec": {
   "display_name": "Raku",
   "language": "raku",
   "name": "raku"
  },
  "language_info": {
   "file_extension": ".raku",
   "mimetype": "text/plain",
   "name": "raku",
   "version": "6.d"
  }
 },
 "nbformat": 4,
 "nbformat_minor": 5
}
