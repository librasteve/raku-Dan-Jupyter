{
 "cells": [
  {
   "cell_type": "code",
   "execution_count": 1,
   "id": "eb7339c0",
   "metadata": {},
   "outputs": [],
   "source": [
    "use Dan;\n",
    "use Dan::Pandas;"
   ]
  },
  {
   "cell_type": "code",
   "execution_count": 40,
   "id": "c8cd4353",
   "metadata": {},
   "outputs": [
    {
     "data": {
      "text/plain": [
       "  Country Name Country Code Birth rate Internet users         Income Group\n",
       "0        Aruba          ABW     10.244           78.9          High income\n",
       "1  Afghanistan          AFG     35.253            5.9           Low income\n",
       "2       Angola          AGO     45.985           19.1  Upper middle income\n",
       "3      Albania          ALB     12.877           57.2  Upper middle income"
      ]
     },
     "execution_count": 40,
     "metadata": {},
     "output_type": "execute_result"
    }
   ],
   "source": [
    "# Read .csv file (Text::CSV)\n",
    "\n",
    "use Text::CSV;\n",
    "my @lines  = csv( in => 'DemographicData.csv' );\n",
    "\n",
    "my \\stats = DataFrame.new( columns => @lines[0], data => @lines[1..*-1] );\n",
    "~stats[0..3]^;      # head"
   ]
  },
  {
   "cell_type": "code",
   "execution_count": 3,
   "id": "ea9404e2",
   "metadata": {},
   "outputs": [
    {
     "data": {
      "text/plain": [
       "Dan::Pandas::DataFrame"
      ]
     },
     "execution_count": 3,
     "metadata": {},
     "output_type": "execute_result"
    }
   ],
   "source": [
    "stats.^name;"
   ]
  },
  {
   "cell_type": "code",
   "execution_count": 4,
   "id": "e735b272",
   "metadata": {},
   "outputs": [
    {
     "data": {
      "text/plain": [
       "         Country Name Country Code Birth rate Internet users         Income Group\n",
       "190       Yemen, Rep.          YEM     32.947             20  Lower middle income\n",
       "191      South Africa          ZAF      20.85           46.5  Upper middle income\n",
       "192  Congo, Dem. Rep.          COD     42.394            2.2           Low income\n",
       "193            Zambia          ZMB     40.471           15.4  Lower middle income\n",
       "194          Zimbabwe          ZWE     35.715           18.5           Low income"
      ]
     },
     "execution_count": 4,
     "metadata": {},
     "output_type": "execute_result"
    }
   ],
   "source": [
    "# '~' makes a Str, '^' makes a DataFrame from rows\n",
    "\n",
    "~stats[*-5..*-1]^;    # tail"
   ]
  },
  {
   "cell_type": "code",
   "execution_count": 5,
   "id": "544a7247",
   "metadata": {},
   "outputs": [
    {
     "data": {
      "text/plain": [
       "[195 5]"
      ]
     },
     "execution_count": 5,
     "metadata": {},
     "output_type": "execute_result"
    }
   ],
   "source": [
    "stats.shape;"
   ]
  },
  {
   "cell_type": "code",
   "execution_count": 6,
   "id": "0c88477c",
   "metadata": {},
   "outputs": [
    {
     "data": {
      "text/plain": [
       "195"
      ]
     },
     "execution_count": 6,
     "metadata": {},
     "output_type": "execute_result"
    }
   ],
   "source": [
    "stats.elems;"
   ]
  },
  {
   "cell_type": "code",
   "execution_count": 7,
   "id": "2ede5f6f",
   "metadata": {},
   "outputs": [
    {
     "data": {
      "text/plain": [
       "5"
      ]
     },
     "execution_count": 7,
     "metadata": {},
     "output_type": "execute_result"
    }
   ],
   "source": [
    "stats.columns.elems;  "
   ]
  },
  {
   "cell_type": "code",
   "execution_count": 19,
   "id": "549d0285",
   "metadata": {},
   "outputs": [
    {
     "name": "stdout",
     "output_type": "stream",
     "text": [
      "{BirthRate => 2, CountryCode => 1, CountryName => 0, IncomeGroup => 4, InternetUsers => 3}\n",
      "[CountryName CountryCode BirthRate InternetUsers IncomeGroup]\n"
     ]
    }
   ],
   "source": [
    "#Clean up #1 - tidy up col labels\n",
    "\n",
    "stats.pd: \".columns = ['CountryName', 'CountryCode', 'BirthRate', 'InternetUsers', 'IncomeGroup']\";\n",
    "say stats.columns;     #Hash (unordered)\n",
    "say stats.cx;          #Seq    (ordered)"
   ]
  },
  {
   "cell_type": "code",
   "execution_count": null,
   "id": "9293e393",
   "metadata": {},
   "outputs": [],
   "source": [
    "## FIXME work this out\n",
    "\n",
    "##Clean up #2 - coerce cols to numbers      [see DD-raku-Dan-typed.ipynb for why & when]\n",
    "\n",
    "#stats.data[*;2,3].map({$_.=Rat});\n",
    "#stats.dtypes;"
   ]
  },
  {
   "cell_type": "code",
   "execution_count": 42,
   "id": "731161d6",
   "metadata": {},
   "outputs": [],
   "source": [
    "# This cell exports the Dan::Pandas::DataFrame for use in DD-raku-Dan-to-seaborn.ipynb\n",
    "\n",
    "stats.pd: \".to_json('DD-done.json')\";"
   ]
  },
  {
   "cell_type": "code",
   "execution_count": 36,
   "id": "2371c04e",
   "metadata": {},
   "outputs": [],
   "source": [
    "stats.dtypes;      #FIXME - SO to cell"
   ]
  },
  {
   "cell_type": "code",
   "execution_count": 20,
   "id": "078a451a",
   "metadata": {},
   "outputs": [],
   "source": [
    "stats.describe;    #FIXME - SO to cell"
   ]
  },
  {
   "cell_type": "code",
   "execution_count": 38,
   "id": "682099b8",
   "metadata": {},
   "outputs": [
    {
     "data": {
      "text/plain": [
       "0      10.244\n",
       "1      35.253\n",
       "2      45.985\n",
       "3      12.877\n",
       "4      11.044\n",
       "        ...  \n",
       "190    32.947\n",
       "191     20.85\n",
       "192    42.394\n",
       "193    40.471\n",
       "194    35.715\n",
       "Name: BirthRate, Length: 195, dtype: object"
      ]
     },
     "execution_count": 38,
     "metadata": {},
     "output_type": "execute_result"
    }
   ],
   "source": [
    "~stats.series: <BirthRate>;"
   ]
  },
  {
   "cell_type": "code",
   "execution_count": 21,
   "id": "cc5bb030",
   "metadata": {},
   "outputs": [
    {
     "data": {
      "text/plain": [
       "            CountryName BirthRate\n",
       "0                 Aruba    10.244\n",
       "1           Afghanistan    35.253\n",
       "2                Angola    45.985\n",
       "3               Albania    12.877\n",
       "4  United Arab Emirates    11.044\n",
       "5             Argentina    17.716"
      ]
     },
     "execution_count": 21,
     "metadata": {},
     "output_type": "execute_result"
    }
   ],
   "source": [
    "~stats[0..5]<CountryName BirthRate>;"
   ]
  },
  {
   "cell_type": "code",
   "execution_count": 22,
   "id": "da563f19",
   "metadata": {},
   "outputs": [
    {
     "data": {
      "text/plain": [
       "               CountryName CountryCode BirthRate InternetUsers          IncomeGroup\n",
       "185  Virgin Islands (U.S.)         VIR      10.7          45.3          High income\n",
       "186                Vietnam         VNM    15.537          43.9  Lower middle income\n",
       "187                Vanuatu         VUT    26.739          11.3  Lower middle income\n",
       "188     West Bank and Gaza         PSE    30.394          46.6  Lower middle income\n",
       "189                  Samoa         WSM    26.172          15.3  Lower middle income\n",
       "190            Yemen, Rep.         YEM    32.947            20  Lower middle income\n",
       "191           South Africa         ZAF     20.85          46.5  Upper middle income\n",
       "192       Congo, Dem. Rep.         COD    42.394           2.2           Low income\n",
       "193                 Zambia         ZMB    40.471          15.4  Lower middle income\n",
       "194               Zimbabwe         ZWE    35.715          18.5           Low income"
      ]
     },
     "execution_count": 22,
     "metadata": {},
     "output_type": "execute_result"
    }
   ],
   "source": [
    "~stats[185..*-1]^;       # Range operator (start .. end)"
   ]
  },
  {
   "cell_type": "code",
   "execution_count": 23,
   "id": "ab357e67",
   "metadata": {},
   "outputs": [
    {
     "data": {
      "text/plain": [
       "            CountryName CountryCode BirthRate InternetUsers          IncomeGroup\n",
       "10           Azerbaijan         AZE      18.3          58.7  Upper middle income\n",
       "9               Austria         AUT       9.4       80.6188          High income\n",
       "8             Australia         AUS      13.2            83          High income\n",
       "7   Antigua and Barbuda         ATG    16.447          63.4          High income\n",
       "6               Armenia         ARM    13.308          41.9  Lower middle income\n",
       "5             Argentina         ARG    17.716          59.9          High income"
      ]
     },
     "execution_count": 23,
     "metadata": {},
     "output_type": "execute_result"
    }
   ],
   "source": [
    "#Reverse order\n",
    "~stats[10,*-1...5]^;     # Sequence operator (start,operation ... end)"
   ]
  },
  {
   "cell_type": "code",
   "execution_count": 24,
   "id": "bb2eefc3",
   "metadata": {},
   "outputs": [
    {
     "data": {
      "text/plain": [
       "    CountryName CountryCode BirthRate InternetUsers          IncomeGroup\n",
       "0         Aruba         ABW    10.244          78.9          High income\n",
       "20      Belarus         BLR      12.5         54.17  Upper middle income\n",
       "40   Costa Rica         CRI    15.022         45.96  Upper middle income\n",
       "60        Gabon         GAB    30.555           9.2  Upper middle income\n",
       "80        India         IND    20.291          15.1  Lower middle income\n",
       "100       Libya         LBY    21.425          16.5  Upper middle income\n",
       "120  Mozambique         MOZ    39.705           5.4           Low income\n",
       "140      Poland         POL       9.6       62.8492          High income\n",
       "160    Suriname         SUR    18.455          37.4  Upper middle income\n",
       "180     Uruguay         URY    14.374         57.69          High income"
      ]
     },
     "execution_count": 24,
     "metadata": {},
     "output_type": "execute_result"
    }
   ],
   "source": [
    "#Every 20th item\n",
    "~stats[0,20...stats.elems]^;"
   ]
  },
  {
   "cell_type": "code",
   "execution_count": 25,
   "id": "4b22d256",
   "metadata": {},
   "outputs": [
    {
     "data": {
      "text/plain": [
       "            CountryName CountryCode BirthRate InternetUsers          IncomeGroup     MyCalc\n",
       "0                 Aruba         ABW    10.244          78.9          High income   808.2516\n",
       "1           Afghanistan         AFG    35.253           5.9           Low income   207.9927\n",
       "2                Angola         AGO    45.985          19.1  Upper middle income   878.3135\n",
       "3               Albania         ALB    12.877          57.2  Upper middle income   736.5644\n",
       "4  United Arab Emirates         ARE    11.044            88          High income   971.8720\n",
       "5             Argentina         ARG    17.716          59.9          High income  1061.1884"
      ]
     },
     "execution_count": 25,
     "metadata": {},
     "output_type": "execute_result"
    }
   ],
   "source": [
    "#Calculate and Append a new column\n",
    "\n",
    "my $calcs = Series.new( stats[*]<BirthRate> >>*<< stats[*]<InternetUsers> );   #multiply every row\n",
    "\n",
    "stats.splice( :ax, *, *, [MyCalc => $calcs] );\n",
    "~stats[0..5]^;"
   ]
  },
  {
   "cell_type": "code",
   "execution_count": 26,
   "id": "5ccbb94d",
   "metadata": {},
   "outputs": [
    {
     "data": {
      "text/plain": [
       "            CountryName CountryCode BirthRate InternetUsers          IncomeGroup\n",
       "0                 Aruba         ABW    10.244          78.9          High income\n",
       "1           Afghanistan         AFG    35.253           5.9           Low income\n",
       "2                Angola         AGO    45.985          19.1  Upper middle income\n",
       "3               Albania         ALB    12.877          57.2  Upper middle income\n",
       "4  United Arab Emirates         ARE    11.044            88          High income\n",
       "5             Argentina         ARG    17.716          59.9          High income"
      ]
     },
     "execution_count": 26,
     "metadata": {},
     "output_type": "execute_result"
    }
   ],
   "source": [
    "#Drop column\n",
    "\n",
    "stats.splice( :ax, *-1 );\n",
    "~stats[0..5]^;"
   ]
  },
  {
   "cell_type": "code",
   "execution_count": 27,
   "id": "bd806abe",
   "metadata": {},
   "outputs": [
    {
     "data": {
      "text/plain": [
       "      CountryName CountryCode BirthRate InternetUsers          IncomeGroup\n",
       "11        Burundi         BDI    44.151           1.3           Low income\n",
       "52        Eritrea         ERI      34.8           0.9           Low income\n",
       "55       Ethiopia         ETH    32.925           1.9           Low income\n",
       "64         Guinea         GIN    37.337           1.6           Low income\n",
       "117       Myanmar         MMR    18.119           1.6  Lower middle income\n",
       "127         Niger         NER    49.661           1.7           Low income\n",
       "154  Sierra Leone         SLE    36.729           1.7           Low income\n",
       "156       Somalia         SOM    43.891           1.5           Low income\n",
       "172   Timor-Leste         TLS    35.755           1.1  Lower middle income"
      ]
     },
     "execution_count": 27,
     "metadata": {},
     "output_type": "execute_result"
    }
   ],
   "source": [
    "# Grep (check whether column 3 value < 2)\n",
    "\n",
    "~stats.grep( { .[3] < 2 } );"
   ]
  },
  {
   "cell_type": "code",
   "execution_count": 28,
   "id": "a793dba2",
   "metadata": {},
   "outputs": [
    {
     "data": {
      "text/plain": [
       "      CountryName CountryCode BirthRate InternetUsers          IncomeGroup\n",
       "11        Burundi         BDI    44.151           1.3           Low income\n",
       "52        Eritrea         ERI      34.8           0.9           Low income\n",
       "55       Ethiopia         ETH    32.925           1.9           Low income\n",
       "64         Guinea         GIN    37.337           1.6           Low income\n",
       "117       Myanmar         MMR    18.119           1.6  Lower middle income\n",
       "127         Niger         NER    49.661           1.7           Low income\n",
       "154  Sierra Leone         SLE    36.729           1.7           Low income\n",
       "156       Somalia         SOM    43.891           1.5           Low income\n",
       "172   Timor-Leste         TLS    35.755           1.1  Lower middle income"
      ]
     },
     "execution_count": 28,
     "metadata": {},
     "output_type": "execute_result"
    }
   ],
   "source": [
    "# Grep (simple col label check)\n",
    "\n",
    "~stats.grep( { stats[$++]<InternetUsers> < 2 } );"
   ]
  },
  {
   "cell_type": "code",
   "execution_count": 29,
   "id": "0d0b18e7",
   "metadata": {},
   "outputs": [
    {
     "data": {
      "text/plain": [
       "    CountryName CountryCode BirthRate InternetUsers IncomeGroup\n",
       "11      Burundi         BDI    44.151           1.3  Low income\n",
       "127       Niger         NER    49.661           1.7  Low income\n",
       "156     Somalia         SOM    43.891           1.5  Low income"
      ]
     },
     "execution_count": 29,
     "metadata": {},
     "output_type": "execute_result"
    }
   ],
   "source": [
    "# Grep (combine two checks with col labels)\n",
    "\n",
    "~stats.grep( { my $i=stats[$++]; $i.<InternetUsers> < 2 && $i.<BirthRate> > 40 } );"
   ]
  },
  {
   "cell_type": "code",
   "execution_count": 30,
   "id": "836014be",
   "metadata": {},
   "outputs": [
    {
     "data": {
      "text/plain": [
       "    CountryName CountryCode BirthRate InternetUsers IncomeGroup\n",
       "11      Burundi         BDI    44.151           1.3  Low income\n",
       "127       Niger         NER    49.661           1.7  Low income\n",
       "156     Somalia         SOM    43.891           1.5  Low income"
      ]
     },
     "execution_count": 30,
     "metadata": {},
     "output_type": "execute_result"
    }
   ],
   "source": [
    "# Grep (define filters and apply later)\n",
    "\n",
    "sub filter1 { $^i.<InternetUsers> < 2  };\n",
    "sub filter2 { $^i.<BirthRate>     > 40 };\n",
    "\n",
    "~stats.grep( { my $i=stats[$++]; $i.&filter1 && $i.&filter2 } );"
   ]
  },
  {
   "cell_type": "code",
   "execution_count": 31,
   "id": "1174d66b",
   "metadata": {},
   "outputs": [
    {
     "data": {
      "text/plain": [
       "67"
      ]
     },
     "execution_count": 31,
     "metadata": {},
     "output_type": "execute_result"
    }
   ],
   "source": [
    "# Grep with regex\n",
    "\n",
    "stats.grep( { stats[$++]<IncomeGroup> ~~ /High/ } ).elems;"
   ]
  },
  {
   "cell_type": "code",
   "execution_count": 32,
   "id": "e14adec5",
   "metadata": {},
   "outputs": [
    {
     "data": {
      "text/plain": [
       "High income, Low income, Upper middle income, Lower middle income"
      ]
     },
     "execution_count": 32,
     "metadata": {},
     "output_type": "execute_result"
    }
   ],
   "source": [
    "# Unique\n",
    "\n",
    "stats[*]<IncomeGroup>.unique.join(', ');"
   ]
  },
  {
   "cell_type": "code",
   "execution_count": 33,
   "id": "f872d084",
   "metadata": {},
   "outputs": [
    {
     "data": {
      "text/plain": [
       "88"
      ]
     },
     "execution_count": 33,
     "metadata": {},
     "output_type": "execute_result"
    }
   ],
   "source": [
    "# Accessors\n",
    "\n",
    "stats[4][3];"
   ]
  },
  {
   "cell_type": "code",
   "execution_count": 34,
   "id": "8967ab4b",
   "metadata": {},
   "outputs": [
    {
     "data": {
      "text/plain": [
       "88"
      ]
     },
     "execution_count": 34,
     "metadata": {},
     "output_type": "execute_result"
    }
   ],
   "source": [
    "stats[4]<InternetUsers>;"
   ]
  },
  {
   "cell_type": "code",
   "execution_count": 35,
   "id": "1dafebcc",
   "metadata": {},
   "outputs": [
    {
     "data": {
      "text/plain": [
       "88"
      ]
     },
     "execution_count": 35,
     "metadata": {},
     "output_type": "execute_result"
    }
   ],
   "source": [
    "stats<4>[3];   #The default index is letter 4 => 4 (Int) so you may use either [] or <> accessor"
   ]
  },
  {
   "cell_type": "code",
   "execution_count": null,
   "id": "aa6b4666",
   "metadata": {},
   "outputs": [],
   "source": []
  }
 ],
 "metadata": {
  "kernelspec": {
   "display_name": "Raku",
   "language": "raku",
   "name": "raku"
  },
  "language_info": {
   "file_extension": ".raku",
   "mimetype": "text/plain",
   "name": "raku",
   "version": "6.d"
  }
 },
 "nbformat": 4,
 "nbformat_minor": 5
}
