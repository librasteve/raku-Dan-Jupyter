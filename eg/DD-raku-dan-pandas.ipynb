{
 "cells": [
  {
   "cell_type": "code",
   "id": "eb7339c0",
   "metadata": {
    "ExecuteTime": {
     "end_time": "2024-11-11T12:36:53.427460Z",
     "start_time": "2024-11-11T12:36:51.394969Z"
    }
   },
   "source": [
    "use Dan;\n",
    "use Dan::Pandas;"
   ],
   "outputs": [],
   "execution_count": 3
  },
  {
   "cell_type": "code",
   "id": "c8cd4353",
   "metadata": {
    "ExecuteTime": {
     "end_time": "2024-11-11T12:36:57.024545Z",
     "start_time": "2024-11-11T12:36:54.988196Z"
    }
   },
   "source": [
    "# Read .csv file (Text::CSV)\n",
    "\n",
    "use Text::CSV;\n",
    "my @lines  = csv( in => 'DemographicData.csv' );\n",
    "\n",
    "my \\stats = DataFrame.new( columns => @lines[0], data => @lines[1..*-1] );\n",
    "~stats[0..3]^;      # head"
   ],
   "outputs": [
    {
     "data": {
      "text/plain": [
       "  Country Name Country Code Birth rate Internet users         Income Group\n",
       "0        Aruba          ABW     10.244           78.9          High income\n",
       "1  Afghanistan          AFG     35.253            5.9           Low income\n",
       "2       Angola          AGO     45.985           19.1  Upper middle income\n",
       "3      Albania          ALB     12.877           57.2  Upper middle income"
      ]
     },
     "execution_count": 4,
     "metadata": {},
     "output_type": "execute_result"
    }
   ],
   "execution_count": 4
  },
  {
   "cell_type": "code",
   "id": "ea9404e2",
   "metadata": {},
   "source": [
    "stats.^name;"
   ],
   "outputs": [],
   "execution_count": null
  },
  {
   "cell_type": "code",
   "id": "e735b272",
   "metadata": {},
   "source": [
    "# '~' makes a Str, '^' makes a DataFrame from rows\n",
    "\n",
    "~stats[*-5..*-1]^;    # tail"
   ],
   "outputs": [],
   "execution_count": null
  },
  {
   "cell_type": "code",
   "id": "544a7247",
   "metadata": {},
   "source": [
    "stats.shape;"
   ],
   "outputs": [],
   "execution_count": null
  },
  {
   "cell_type": "code",
   "id": "0c88477c",
   "metadata": {},
   "source": [
    "stats.elems;"
   ],
   "outputs": [],
   "execution_count": null
  },
  {
   "cell_type": "code",
   "id": "2ede5f6f",
   "metadata": {},
   "source": [
    "stats.columns.elems;  "
   ],
   "outputs": [],
   "execution_count": null
  },
  {
   "cell_type": "code",
   "id": "549d0285",
   "metadata": {},
   "source": [
    "#Clean up #1 - tidy up col labels\n",
    "\n",
    "stats.pd: \".columns = ['CountryName', 'CountryCode', 'BirthRate', 'InternetUsers', 'IncomeGroup']\";\n",
    "say stats.columns;     #Hash (unordered)\n",
    "say stats.cx;          #Seq    (ordered)"
   ],
   "outputs": [],
   "execution_count": null
  },
  {
   "cell_type": "code",
   "id": "9293e393",
   "metadata": {},
   "source": [
    "## FIXME work this out\n",
    "\n",
    "##Clean up #2 - coerce cols to numbers      [see DD-raku-Dan-typed.ipynb for why & when]\n",
    "\n",
    "#stats.data[*;2,3].map({$_.=Rat});\n",
    "#stats.dtypes;"
   ],
   "outputs": [],
   "execution_count": null
  },
  {
   "cell_type": "code",
   "id": "731161d6",
   "metadata": {},
   "source": [
    "# This cell exports the Dan::Pandas::DataFrame for use in DD-raku-Dan-to-seaborn.ipynb\n",
    "\n",
    "stats.pd: \".to_json('DD-done.json')\";"
   ],
   "outputs": [],
   "execution_count": null
  },
  {
   "cell_type": "code",
   "id": "2371c04e",
   "metadata": {},
   "source": [
    "stats.dtypes;      #FIXME - SO to cell"
   ],
   "outputs": [],
   "execution_count": null
  },
  {
   "cell_type": "code",
   "id": "078a451a",
   "metadata": {},
   "source": [
    "stats.describe;    #FIXME - SO to cell"
   ],
   "outputs": [],
   "execution_count": null
  },
  {
   "cell_type": "code",
   "id": "682099b8",
   "metadata": {},
   "source": [
    "~stats.series: <BirthRate>;"
   ],
   "outputs": [],
   "execution_count": null
  },
  {
   "cell_type": "code",
   "id": "cc5bb030",
   "metadata": {},
   "source": [
    "~stats[0..5]<CountryName BirthRate>;"
   ],
   "outputs": [],
   "execution_count": null
  },
  {
   "cell_type": "code",
   "id": "da563f19",
   "metadata": {},
   "source": [
    "~stats[185..*-1]^;       # Range operator (start .. end)"
   ],
   "outputs": [],
   "execution_count": null
  },
  {
   "cell_type": "code",
   "id": "ab357e67",
   "metadata": {},
   "source": [
    "#Reverse order\n",
    "~stats[10,*-1...5]^;     # Sequence operator (start,operation ... end)"
   ],
   "outputs": [],
   "execution_count": null
  },
  {
   "cell_type": "code",
   "id": "bb2eefc3",
   "metadata": {},
   "source": [
    "#Every 20th item\n",
    "~stats[0,20...stats.elems]^;"
   ],
   "outputs": [],
   "execution_count": null
  },
  {
   "cell_type": "code",
   "id": "4b22d256",
   "metadata": {},
   "source": [
    "#Calculate and Append a new column\n",
    "\n",
    "my $calcs = Series.new( stats[*]<BirthRate> >>*<< stats[*]<InternetUsers> );   #multiply every row\n",
    "\n",
    "stats.splice( :ax, *, *, [MyCalc => $calcs] );\n",
    "~stats[0..5]^;"
   ],
   "outputs": [],
   "execution_count": null
  },
  {
   "cell_type": "code",
   "id": "5ccbb94d",
   "metadata": {},
   "source": [
    "#Drop column\n",
    "\n",
    "stats.splice( :ax, *-1 );\n",
    "~stats[0..5]^;"
   ],
   "outputs": [],
   "execution_count": null
  },
  {
   "cell_type": "code",
   "id": "bd806abe",
   "metadata": {},
   "source": [
    "# Grep (check whether column 3 value < 2)\n",
    "\n",
    "~stats.grep( { .[3] < 2 } );"
   ],
   "outputs": [],
   "execution_count": null
  },
  {
   "cell_type": "code",
   "id": "a793dba2",
   "metadata": {},
   "source": [
    "# Grep (simple col label check)\n",
    "\n",
    "~stats.grep( { stats[$++]<InternetUsers> < 2 } );"
   ],
   "outputs": [],
   "execution_count": null
  },
  {
   "cell_type": "code",
   "id": "0d0b18e7",
   "metadata": {},
   "source": [
    "# Grep (combine two checks with col labels)\n",
    "\n",
    "~stats.grep( { my $i=stats[$++]; $i.<InternetUsers> < 2 && $i.<BirthRate> > 40 } );"
   ],
   "outputs": [],
   "execution_count": null
  },
  {
   "cell_type": "code",
   "id": "836014be",
   "metadata": {},
   "source": [
    "# Grep (define filters and apply later)\n",
    "\n",
    "sub filter1 { $^i.<InternetUsers> < 2  };\n",
    "sub filter2 { $^i.<BirthRate>     > 40 };\n",
    "\n",
    "~stats.grep( { my $i=stats[$++]; $i.&filter1 && $i.&filter2 } );"
   ],
   "outputs": [],
   "execution_count": null
  },
  {
   "cell_type": "code",
   "id": "1174d66b",
   "metadata": {},
   "source": [
    "# Grep with regex\n",
    "\n",
    "stats.grep( { stats[$++]<IncomeGroup> ~~ /High/ } ).elems;"
   ],
   "outputs": [],
   "execution_count": null
  },
  {
   "cell_type": "code",
   "id": "e14adec5",
   "metadata": {},
   "source": [
    "# Unique\n",
    "\n",
    "stats[*]<IncomeGroup>.unique.join(', ');"
   ],
   "outputs": [],
   "execution_count": null
  },
  {
   "cell_type": "code",
   "id": "f872d084",
   "metadata": {},
   "source": [
    "# Accessors\n",
    "\n",
    "stats[4][3];"
   ],
   "outputs": [],
   "execution_count": null
  },
  {
   "cell_type": "code",
   "id": "8967ab4b",
   "metadata": {},
   "source": [
    "stats[4]<InternetUsers>;"
   ],
   "outputs": [],
   "execution_count": null
  },
  {
   "cell_type": "code",
   "id": "1dafebcc",
   "metadata": {},
   "source": [
    "stats<4>[3];   #The default index is letter 4 => 4 (Int) so you may use either [] or <> accessor"
   ],
   "outputs": [],
   "execution_count": null
  },
  {
   "cell_type": "code",
   "id": "aa6b4666",
   "metadata": {},
   "source": [],
   "outputs": [],
   "execution_count": null
  }
 ],
 "metadata": {
  "kernelspec": {
   "display_name": "Raku",
   "language": "raku",
   "name": "raku"
  },
  "language_info": {
   "file_extension": ".raku",
   "mimetype": "text/plain",
   "name": "raku",
   "version": "6.d"
  }
 },
 "nbformat": 4,
 "nbformat_minor": 5
}
