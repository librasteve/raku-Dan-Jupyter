{
 "cells": [
  {
   "cell_type": "code",
   "execution_count": 1,
   "metadata": {},
   "outputs": [
    {
     "name": "stdout",
     "output_type": "stream",
     "text": [
      "42μm\n",
      "42mile\n",
      "7hr\n",
      "6mph\n",
      "4.3m\n",
      "50m\n",
      "4.3m\n"
     ]
    }
   ],
   "source": [
    "use Physics::Measure :ALL;\n",
    "\n",
    "#SYNOPSIS 2\n",
    "\n",
    "#Measure objects such as Length and Time can be formally constructed:\n",
    "\n",
    "# Metric / SI units\n",
    "    my Length $l = Length.new(value => 42, units => 'μm'); say ~$l; #42 micrometre\n",
    "\n",
    "# Non-metric US and Imperial units\n",
    "    my Length $d = Length.new(value => 42, units => 'miles');   say ~$d;            #42 mile\n",
    "    my Time   $t = Time.new(  value =>  7, units => 'hours');   say ~$t;            #7 hr\n",
    "    my $s = $d / $t;                                            say ~$s.in('mph');  #6 mph\n",
    "\n",
    "#The libra operator ♎️ is shorthand to construct objects...\n",
    "    my $a = ♎️ '4.3 m';             say \"$a\";    #4.3 m\n",
    "    my $b = ♎️ '5e1 m';             say \"$b\";    #50 m\n",
    "    my $c = $a;                     say \"$c\";    #4.3 m\n",
    "#Use the emoji editor provided on your system (or just cut and paste)"
   ]
  },
  {
   "cell_type": "code",
   "execution_count": 2,
   "metadata": {},
   "outputs": [
    {
     "name": "stdout",
     "output_type": "stream",
     "text": [
      "70mph\n"
     ]
    }
   ],
   "source": [
    "#About 230 built in units are included, for example...\n",
    "    my $v2 = ♎️ '7 yards^3';          #7 yard^3         (Volume)\n",
    "    my $v3 = $v2.in( 'm3' );        #5.352 m^3        (Volume) \n",
    "    my $dsdt = $s / $t;             #0.009 m/s^2      (Acceleration)\n",
    "    my $sm = ♎️ '70 mph';             #70 mph           (Speed)\n",
    "    my $fo = ♎️ '27 kg m / s2';       #27 N             (Force)\n",
    "    my $en = ♎️ '26 kg m^2 / s^2';    #26 J             (Energy)\n",
    "    my $po = ♎️ '25 kg m^2 / s^3';    #25 W             (Power)\n",
    "\n",
    "say ~$sm;"
   ]
  },
  {
   "cell_type": "code",
   "execution_count": 3,
   "metadata": {},
   "outputs": [
    {
     "name": "stdout",
     "output_type": "stream",
     "text": [
      "45°30′30″\n"
     ]
    }
   ],
   "source": [
    "$Physics::Measure::round-val = 0.01;    #set rounding\n",
    "\n",
    "#Angles use degrees/minutes/seconds or decimal radians\n",
    "    my $θ1 = ♎️ <45°30′30″>;      #45°30′30″ (using <> to deconfuse quotation marks)\n",
    "    my $θ2 = ♎️ '2.141 radians';  #'2.141 radian'\n",
    "#NB. The unit name 'rad' is reserved for the unit of radioactive Dose\n",
    "\n",
    "#Trigonometric functions sin, cos and tan (and arc-x) handle Angles\n",
    "    my $sine = sin( $θ1 );      #0.7133523847299412\n",
    "    say ~asin( $sine, units => '°' ); #45°30′30″\n",
    "#NB. Provide the units => '°' tag to tell asin you want degrees back"
   ]
  },
  {
   "cell_type": "code",
   "execution_count": 4,
   "metadata": {},
   "outputs": [
    {
     "name": "stdout",
     "output_type": "stream",
     "text": [
      "2hr\n"
     ]
    }
   ],
   "source": [
    "#The Measure of Time has a raku Duration - i.e. the difference between two DateTime Instants:\n",
    "    my $i1 = DateTime.now;\n",
    "    my $i2 = DateTime.new( '2020-08-10T14:15:27.26Z' );\n",
    "    my $i3 = DateTime.new( '2020-08-10T14:15:37.26Z' );\n",
    "    my Duration $dur = $i3-$i2;\n",
    "\n",
    "#Here's how to us the libra assignment operator ♎️ for Time...\n",
    "    my Time $t1 = ♎️ '5e1 s';     #50 s\n",
    "    my Time $t2 = ♎️ $dur;        #10 s\n",
    "    my $t3 = $t1 + $t2;         #60 s\n",
    "    my Time $t4 = ♎️ '2 hours';   #2 hr\n",
    "    $dur = $t4.Duration;        #7200\n",
    "\n",
    "say ~$t4;"
   ]
  },
  {
   "cell_type": "code",
   "execution_count": 5,
   "metadata": {},
   "outputs": [
    {
     "name": "stdout",
     "output_type": "stream",
     "text": [
      "312.15K and 39°C are the same\n"
     ]
    }
   ],
   "source": [
    "#Unit Conversion uses the .in() method - specify the new units as a String\n",
    "    my Length $df = ♎️ '12.0 feet';\n",
    "    my $dm = $df.in( 'm' );             #3.658 m\n",
    "       $dm = $df.in: <m> ;              #alternate form\n",
    "    my Temperature $deg-c = ♎️ '39 °C';\n",
    "    my $deg-k = $deg-c.in( 'K' );       #312.15 K\n",
    "    my $deg-cr = $deg-k.in( '°C' );     #39 °C\n",
    "    \n",
    "say \"$deg-k and $deg-cr are the same\" if $deg-k ;"
   ]
  },
  {
   "cell_type": "code",
   "execution_count": 6,
   "metadata": {},
   "outputs": [
    {
     "name": "stdout",
     "output_type": "stream",
     "text": [
      "0.1Hz\n"
     ]
    }
   ],
   "source": [
    "#Use arithmetic to get high order or inverse Unit types such as Area, Volume, Frequency, etc.\n",
    "    my Area       $x = $a * $a;         #18.49 m^2\n",
    "    my Speed      $s = $a / $t2;        #0.43 m/s\n",
    "    my Frequency  $f = 1  / $t2;        #0.1 Hz\n",
    "\n",
    "say \"$f\";\n"
   ]
  },
  {
   "cell_type": "code",
   "execution_count": 10,
   "metadata": {},
   "outputs": [
    {
     "name": "stdout",
     "output_type": "stream",
     "text": [
      "79.51m^3\n"
     ]
    }
   ],
   "source": [
    "#Use powers & roots in a similar way\n",
    "    my Volume     $v = $a ** 3;         #79.507 m^3\n",
    "    my Length     $d = $v ** <1/3>;     #0.43 m\n",
    "    \n",
    "say \"$v\";"
   ]
  },
  {
   "cell_type": "code",
   "execution_count": 11,
   "metadata": {},
   "outputs": [
    {
     "name": "stdout",
     "output_type": "stream",
     "text": [
      "2.5nm\n"
     ]
    }
   ],
   "source": [
    "#Reset to SI base type with the .rebase() method\n",
    "    my $v2 = $v.rebase;                 #5.35 m^3\n",
    "#Normalize SI Units to the optimal SI prefix\n",
    "    my \\λ = 2500pm;    say ~λ.norm;     #2.5 nm "
   ]
  },
  {
   "cell_type": "code",
   "execution_count": 12,
   "metadata": {},
   "outputs": [
    {
     "name": "stdout",
     "output_type": "stream",
     "text": [
      "Same\n",
      "True\n",
      "False\n",
      "False\n",
      "True\n"
     ]
    }
   ],
   "source": [
    "#Measures can be converted to base type with the .rebase() method\n",
    "    my $v4 = $v3.rebase;                #5.352 m^3\n",
    "#Measures can be compared with $a cmp $b\n",
    "    my $af = $a.in: 'feet';             #4.3 m => 14.108 feet\n",
    "    say $af cmp $a;                     #Same\n",
    "#Measures can be tested for equality with Numeric ==,!=\n",
    "    say $af == $a;                      #True\n",
    "    say $af != $a;                      #False\n",
    "#Use string equality eq,ne to distinguish different units with same type\n",
    "    say $af eq $a;                      #False\n",
    "    say $af ne $a;                      #True\n",
    "\n",
    "#Colloquial terms or unicode superscripts can be used for powers in unitname declarations\n",
    "    #square, sq, squared, cubic, cubed\n",
    "    #x¹ x² x³ x⁴ and x⁻¹ x⁻² x⁻³ x⁻⁴"
   ]
  },
  {
   "cell_type": "code",
   "execution_count": 14,
   "metadata": {},
   "outputs": [
    {
     "name": "stdout",
     "output_type": "stream",
     "text": [
      "25W, 25W, 25W\n",
      "25, 25, 25\n",
      "Physics::Measure::Power\n",
      "25 m2.kg.s-3\n",
      "25 m²⋅kg⋅s⁻³\n"
     ]
    }
   ],
   "source": [
    "#To see what you have got, then go:\n",
    "my $po = 25W;   \n",
    "    say ~$po, \", $po, \", $po.Str;               #25 W  (defaults to derived unit)\n",
    "    say +$po, ', ', $po.value, ', ', $po.Real;  #25 \n",
    "    say $po.^name;                              #(Power)\n",
    "    say $po.canonical;                          #25 m2.s-3.kg   (SI base units)\n",
    "    say $po.pretty;                             #25 m²⋅s⁻³⋅kg   (SI recommended style)"
   ]
  },
  {
   "cell_type": "code",
   "execution_count": null,
   "metadata": {},
   "outputs": [],
   "source": []
  }
 ],
 "metadata": {
  "kernelspec": {
   "display_name": "Raku",
   "language": "raku",
   "name": "raku"
  },
  "language_info": {
   "file_extension": ".raku",
   "mimetype": "text/plain",
   "name": "raku",
   "version": "6.d"
  }
 },
 "nbformat": 4,
 "nbformat_minor": 4
}
