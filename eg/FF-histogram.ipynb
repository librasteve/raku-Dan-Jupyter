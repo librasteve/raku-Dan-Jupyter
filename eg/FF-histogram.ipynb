{
 "cells": [
  {
   "cell_type": "code",
   "execution_count": 1,
   "id": "669e6710-fa31-470d-905d-0bc2ff23135d",
   "metadata": {},
   "outputs": [],
   "source": [
    "# takes ~20sec\n",
    "use Dan :ALL;"
   ]
  },
  {
   "cell_type": "markdown",
   "id": "6fcb3d2f-0b91-49cd-9d25-387bc24f55c5",
   "metadata": {},
   "source": [
    "viz. https://en.wikipedia.org/w/index.php?title=Filmfare_Award_for_Best_Actress&action=edit"
   ]
  },
  {
   "cell_type": "code",
   "execution_count": 2,
   "id": "5b11edcd-e3b1-46cf-acf9-fcf049db1e89",
   "metadata": {},
   "outputs": [
    {
     "name": "stdout",
     "output_type": "stream",
     "text": [
      "===1950s===\n",
      "\n",
      "{| class=\"wikitable sortable\" rowspan=2 style=\"text-align: left;\" border=\"2\" cellpadding=\"5\"\n",
      "|-\n",
      "!scope=\"col\" style=\"width:3%; text-align:center;\"| Year\n",
      "!scope=\"col\" style=\"width:3%;text-align:center;\"| Photos of winners\n",
      "!scope=\"col\" style=\"width:15%;text-align:center;\"| Actress\n",
      "!scope=\"col\" style=\"width:15%;text-align:center;\"| Role(s)\n",
      "!scope=\"col\" style=\"width:15%;text-align:center;\"| Film\n",
      "|-\n",
      "! scope=\"row\" rowspan=2 style=\"text-align:center\" | 1954 <br /><small>[[1st Filmfare Awards|(1st)]] </small>\n",
      "|rowspan=2 style=\"text-align:center\"|{{border|[[File:Meena Kumari.jpg|95px|centre]]|width=2px|style=solid |color=gold}}\n",
      "| style=\"background:#FAEB86;\" |'''{{sort|Meena|[[Meena Kumari]]}}''' {{double dagger|alt=Award winner}}\n",
      "| style=\"background:#FAEB86;\" | '''{{sort|Gauri|Gauri}}'''\n",
      "| style=\"background:#FAEB86;\" | '''''[[Baiju Bawra (film)|Baiju Bawra]]'''''\n",
      "|-\n",
      "| colspan =3 style=\"text-align:center\" | '''No Other Nominee'''\n",
      "|-\n",
      "! scope=\"row\" rowspan=2 style=\"text-align:center\" | 1955<br /><small>[[2nd Filmfare Awards|(2nd)]]</small>\n",
      "|rowspan=2 style=\"text-align:center\"|{{border| [[File:Meena Kumari.jpg|95px]]|width=2px|style=solid |color=gold}}\n",
      "| style=\"background:#FAEB86;\" |'''{{sort|Meena|[[Meena Kumari]]}}''' {{double dagger|alt=Award winner}}\n"
     ]
    }
   ],
   "source": [
    "my @lines = 'FilmFare.txt'.IO.lines;\n",
    ".say for @lines[0..20];"
   ]
  },
  {
   "cell_type": "markdown",
   "id": "781ecadd-548d-4c3a-b9e0-5b3dfbfb2b82",
   "metadata": {},
   "source": [
    "### PART I: USE REGEXES TO EXTRACT DATA ITEMS"
   ]
  },
  {
   "cell_type": "code",
   "execution_count": 3,
   "id": "2d294e78-42b4-4eaa-928c-774cabbffb28",
   "metadata": {},
   "outputs": [
    {
     "name": "stdout",
     "output_type": "stream",
     "text": [
      "Meena::Gauri::Baiju Bawra::Meena::Lalita::Parineeta::Kamini::Biraj::Biraj Bahu::Geeta::Kamala\n"
     ]
    }
   ],
   "source": [
    "my @exclusions = <Year|Photos|Actress|Role|Film|Filmfare|Awards|File|No|Other|Nominee|Portrait|Returns>;\n",
    "\n",
    "my regex tcword {       # tite case word\n",
    "    <upper>             # first character uppercase \n",
    "    <lower>+            # rest of chars lowercase\n",
    "}\n",
    "\n",
    "my regex name {\n",
    "    <tcword>+ %% ' '    # one or more separated by a space\n",
    "}\n",
    "\n",
    "my regex year {         \n",
    "    \\d**4               # four consecutive digits\n",
    "}\n",
    "\n",
    "my ( $current, @years, @names );\n",
    "\n",
    "for @lines -> $l is rw {\n",
    "    next if $l ~~ /File/;               # avoid getting name from photo links\n",
    "\n",
    "    $l ~~ s:g/<@exclusions>//;          # strip out exclusions\n",
    "\n",
    "    if $l ~~ /<year>/ {\n",
    "        $current = $<year>;             # current year is 'sticky'\n",
    "    }\n",
    "\n",
    "    if $l ~~ /<name>/ {\n",
    "        @years.push: $current;\n",
    "        @names.push: ~$<name>.trim;\n",
    "    }\n",
    "}\n",
    "@names[0..10].join(\"::\").say;"
   ]
  },
  {
   "cell_type": "markdown",
   "id": "9cf6b338-45ec-4341-8a5a-2e3c1cdba219",
   "metadata": {},
   "source": [
    "### PART II: MAP DATA ITEMS TO 2-D ARRAY AND MAKE DATAFRAME "
   ]
  },
  {
   "cell_type": "code",
   "execution_count": 4,
   "id": "3506183d-e28d-4e37-bdb6-0cb798b6a160",
   "metadata": {},
   "outputs": [
    {
     "name": "stdout",
     "output_type": "stream",
     "text": [
      "    Year  Actor   Role    Film        \n",
      " 0  1954  Meena   Gauri   Baiju Bawra \n",
      " 1  1955  Meena   Lalita  Parineeta   \n",
      " 2  1956  Kamini  Biraj   Biraj Bahu  \n",
      " 3  1956  Geeta   Kamala  Vachan      \n",
      " 4  1956  Meena   Shobha  Azaad       \n",
      " 5  1957  Nutan   Gauri   Seema       \n"
     ]
    }
   ],
   "source": [
    "my @name3 = @names.rotor(3);            # rotor name over cols 1..3\n",
    "my @year3 = @years.rotor(3);            # match year cadence to names\n",
    "\n",
    "my @data;                               # 2d array\n",
    "\n",
    "for 0..@year3 -> $m {\n",
    "    next unless @year3[$m][0];\n",
    "    \n",
    "    @data[$m;0] = @year3[$m][0];\n",
    "    @data[$m;1..3] = @name3[$m];\n",
    "}\n",
    "\n",
    "my @columns = <Year Actor Role Film>;\n",
    "\n",
    "my \\df = DataFrame.new( :@data, :@columns );\n",
    "say ~df[0..5]^;\n"
   ]
  },
  {
   "cell_type": "markdown",
   "id": "b74df638-0355-45eb-a575-b177c8fcc28b",
   "metadata": {},
   "source": [
    "### PART III: HISTOGRAM FOR OUTLIERS"
   ]
  },
  {
   "cell_type": "code",
   "execution_count": 38,
   "id": "98a3dedf-2157-4cee-b032-60b0d1f82f42",
   "metadata": {},
   "outputs": [
    {
     "data": {
      "text/plain": [
       "BagHash"
      ]
     },
     "execution_count": 38,
     "metadata": {},
     "output_type": "execute_result"
    }
   ],
   "source": [
    "my \\abh = df[*]<Actor>.data.BagHash;\n",
    "abh.^name;"
   ]
  },
  {
   "cell_type": "code",
   "execution_count": 37,
   "id": "a8abd9a0-d813-4c63-ab41-16066c4808d7",
   "metadata": {},
   "outputs": [
    {
     "name": "stdout",
     "output_type": "stream",
     "text": [
      "Meena               (+ + + + + + + + + +)\n",
      "Rani                (+ + + + + + + +)\n",
      "Aishwarya           (+ + + + + + + +)\n",
      "Aarti               (+ + + + +)\n",
      "Preity              (+ + + + +)\n",
      "Vidya               (+ + + +)\n",
      "Karisma             (+ + + +)\n",
      "Kareena             (+ + + +)\n",
      "Kajol               (+ + + +)\n",
      "Tabu                (+ + +)\n",
      "Madhu               (+ + +)\n",
      "Nutan               (+ + +)\n",
      "Vyjayanthimala      (+ + +)\n",
      "Urmila              (+ + +)\n",
      "Hema                (+ + +)\n",
      "Meera               (+ +)\n",
      "Kamini              (+ +)\n",
      "Radha               (+ +)\n",
      "Champa              (+ +)\n",
      "Judaai              (+ +)\n",
      "Nisha               (+ +)\n",
      "Ameesha             (+ +)\n",
      "Shanti              (+ +)\n",
      "Shivani             (+ +)\n",
      "Geeta               (+ +)\n",
      "Saira               (+ +)\n",
      "Bipasha             (+ +)\n",
      "Zoya                (+ +)\n",
      "Pooja               (+ +)\n",
      "Lakshmi             (+ +)\n",
      "Madhuri             (+ +)\n",
      "Deepika             (+ +)\n",
      "Madhavi             (+ +)\n",
      "Jeevan Dhaara       (+)\n",
      "Benazir             (+)\n",
      "Prem Rog            (+)\n",
      "Gunjan Saxena       (+)\n",
      "Mohini              (+)\n",
      "Kalyani             (+)\n",
      "Maya                (+)\n"
     ]
    }
   ],
   "source": [
    "for abh.sort(-*.value).[0..^40] { say .key.fmt('%-20s'), '+' xx .value }"
   ]
  },
  {
   "cell_type": "markdown",
   "id": "481b662c-2bf4-4731-ac5c-c01ee9e3893f",
   "metadata": {},
   "source": [
    "### PART IV: TEXT PLOT FOR OUTLIERS"
   ]
  },
  {
   "cell_type": "markdown",
   "id": "04f3c4cc-b490-4173-922c-87a0854e5b5b",
   "metadata": {
    "tags": []
   },
   "source": [
    "zef install [Text::Plot](https://raku.land/zef:antononcube/Text::Plot) from Anton (nice!)"
   ]
  },
  {
   "cell_type": "code",
   "execution_count": 5,
   "id": "d146845c-ab40-4357-bc9a-aa3be9df9073",
   "metadata": {},
   "outputs": [
    {
     "data": {
      "text/plain": [
       "BagHash"
      ]
     },
     "execution_count": 5,
     "metadata": {},
     "output_type": "execute_result"
    }
   ],
   "source": [
    "my \\ybh = df[*]<Year>.data.BagHash;\n",
    "ybh.^name;"
   ]
  },
  {
   "cell_type": "code",
   "execution_count": 6,
   "id": "22a26960-e4ae-4813-8fc9-f1d7c9019337",
   "metadata": {},
   "outputs": [],
   "source": [
    "use Text::Plot;"
   ]
  },
  {
   "cell_type": "code",
   "execution_count": 7,
   "id": "e24e0a28-7a81-42d4-b00d-658ac982100f",
   "metadata": {},
   "outputs": [
    {
     "name": "stdout",
     "output_type": "stream",
     "text": [
      "+-+------------+------------+-------------+------------+---+ \n",
      "|                                                          | \n",
      "+                                                  + + +   +6\n",
      "|                                                          | \n",
      "+                               +  ++ + + +      +    +    +5\n",
      "|                                                          | \n",
      "+                                     +      ++ +  +   +   +4\n",
      "|                                                          | \n",
      "+            +   + ++   + +++++ + ++    + +++  +++ ++      +3\n",
      "|                                                          | \n",
      "+              +  + ++ +++  + ++    +++++ ++++ + ++        +2\n",
      "|                                                          | \n",
      "+   +      +++++++++ ++++++++++ +   + + ++  ++++ + +       +1\n",
      "|                                                          | \n",
      "+-+------------+------------+-------------+------------+---+ \n",
      "  1940         1960         1980          2000         2020  \n"
     ]
    }
   ],
   "source": [
    "say text-list-plot([ybh.keys.map(+*)], [ybh.values],\n",
    "                    point-char => '+',\n",
    "                    x-tick-labels-format => '%d', \n",
    "                    y-tick-labels-format => '%d',\n",
    "                   );"
   ]
  }
 ],
 "metadata": {
  "kernelspec": {
   "display_name": "Raku",
   "language": "raku",
   "name": "raku"
  },
  "language_info": {
   "file_extension": ".raku",
   "mimetype": "text/plain",
   "name": "raku",
   "version": "6.d"
  }
 },
 "nbformat": 4,
 "nbformat_minor": 5
}
